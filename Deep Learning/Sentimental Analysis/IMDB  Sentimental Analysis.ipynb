{
  "cells": [
    {
      "cell_type": "markdown",
      "metadata": {
        "colab_type": "text",
        "id": "p6LppVHVcehz"
      },
      "source": [
        "Note: If you are using the Google Colab and want to use tensorflow < 2: you will have to downgrade using this link. https://colab.research.google.com/notebooks/tensorflow_version.ipynb"
      ]
    },
    {
      "cell_type": "markdown",
      "metadata": {
        "colab_type": "text",
        "id": "xQXc2RLkcunR"
      },
      "source": [
        "# Sentiment Analysis on IMDB Movie Review dataset"
      ]
    },
    {
      "cell_type": "markdown",
      "metadata": {
        "colab_type": "text",
        "id": "PmM9nJuqc61S"
      },
      "source": [
        "Sentiment analysis is one of the key areas of research in NLP and Sequence modelling. We will be using LSTMs and Bi-directional LSTMs to predict two classes - positive or negative sentiment.\n",
        "\n",
        "\n",
        "You will be reading the dataset from here: https://drive.google.com/file/d/127PCwycL0oToSF6l-c2oFuBkacYsmlgK/view?usp=sharing\n",
        "\n",
        "You can use this blog for understanding: https://towardsdatascience.com/word-embeddings-for-sentiment-analysis-65f42ea5d26e"
      ]
    },
    {
      "cell_type": "code",
      "execution_count": null,
      "metadata": {
        "ExecuteTime": {
          "end_time": "2020-04-07T13:31:26.633881Z",
          "start_time": "2020-04-07T13:31:26.624745Z"
        },
        "_cell_guid": "b1076dfc-b9ad-4769-8c92-a6c4dae69d19",
        "_uuid": "8f2839f25d086af736a60e9eeb907d3b93b6e0e5",
        "colab": {},
        "colab_type": "code",
        "id": "hT5xlQy1_UY6"
      },
      "outputs": [],
      "source": [
        "import numpy as np \n",
        "import pandas as pd \n",
        "from keras.datasets import imdb\n",
        "from keras.models import Sequential\n",
        "from keras.layers import Dense, LSTM, Conv1D, MaxPooling1D, Conv1D, Dropout, Bidirectional\n",
        "from keras.layers.embeddings import Embedding\n",
        "from keras.preprocessing import sequence\n",
        "from sklearn.model_selection import train_test_split"
      ]
    },
    {
      "cell_type": "code",
      "execution_count": 3,
      "metadata": {
        "colab": {
          "base_uri": "https://localhost:8080/",
          "height": 122
        },
        "colab_type": "code",
        "id": "XJm3xivX-sdz",
        "outputId": "50106924-36e7-410a-9945-0f67b17d6c9b"
      },
      "outputs": [
        {
          "name": "stdout",
          "output_type": "stream",
          "text": [
            "Go to this URL in a browser: https://accounts.google.com/o/oauth2/auth?client_id=947318989803-6bn6qk8qdgf4n4g3pfee6491hc0brc4i.apps.googleusercontent.com&redirect_uri=urn%3aietf%3awg%3aoauth%3a2.0%3aoob&response_type=code&scope=email%20https%3a%2f%2fwww.googleapis.com%2fauth%2fdocs.test%20https%3a%2f%2fwww.googleapis.com%2fauth%2fdrive%20https%3a%2f%2fwww.googleapis.com%2fauth%2fdrive.photos.readonly%20https%3a%2f%2fwww.googleapis.com%2fauth%2fpeopleapi.readonly\n",
            "\n",
            "Enter your authorization code:\n",
            "··········\n",
            "Mounted at /content/drive\n"
          ]
        }
      ],
      "source": [
        "from google.colab import drive\n",
        "drive.mount('/content/drive')"
      ]
    },
    {
      "cell_type": "code",
      "execution_count": null,
      "metadata": {
        "colab": {},
        "colab_type": "code",
        "id": "-JU5YkQC-2xr"
      },
      "outputs": [],
      "source": [
        "path='/content/drive/My Drive/Deep learning/DLAS6/IMDB Dataset.csv'"
      ]
    },
    {
      "cell_type": "markdown",
      "metadata": {
        "colab_type": "text",
        "id": "apFydSt_d1bv"
      },
      "source": [
        "All the relevant libraries are imported. \n",
        "You are free to change as you please. \n",
        "Using the GPU backend is recommended as LSTMs are computationally expensive to train.\n",
        "\n"
      ]
    },
    {
      "cell_type": "markdown",
      "metadata": {
        "colab_type": "text",
        "id": "4XNC2zKWeNcP"
      },
      "source": [
        "\n",
        "\n",
        "1.   You are expected to read the dataset into a dataframe.\n",
        "2.   This is a real world dataset and you will be expected to clean the dataset.\n",
        "\n",
        "1.   This includes removing trailing spaces and HTML tags.\n",
        "\n",
        "\n",
        "\n",
        "\n"
      ]
    },
    {
      "cell_type": "code",
      "execution_count": 5,
      "metadata": {
        "ExecuteTime": {
          "end_time": "2020-04-07T13:31:49.259950Z",
          "start_time": "2020-04-07T13:31:47.540221Z"
        },
        "colab": {
          "base_uri": "https://localhost:8080/",
          "height": 204
        },
        "colab_type": "code",
        "id": "7azvBQpa_UZy",
        "outputId": "5d564815-018d-47b8-e9e3-f496197fc094"
      },
      "outputs": [
        {
          "data": {
            "text/html": [
              "<div>\n",
              "<style scoped>\n",
              "    .dataframe tbody tr th:only-of-type {\n",
              "        vertical-align: middle;\n",
              "    }\n",
              "\n",
              "    .dataframe tbody tr th {\n",
              "        vertical-align: top;\n",
              "    }\n",
              "\n",
              "    .dataframe thead th {\n",
              "        text-align: right;\n",
              "    }\n",
              "</style>\n",
              "<table border=\"1\" class=\"dataframe\">\n",
              "  <thead>\n",
              "    <tr style=\"text-align: right;\">\n",
              "      <th></th>\n",
              "      <th>review</th>\n",
              "      <th>sentiment</th>\n",
              "    </tr>\n",
              "  </thead>\n",
              "  <tbody>\n",
              "    <tr>\n",
              "      <th>0</th>\n",
              "      <td>One of the other reviewers has mentioned that ...</td>\n",
              "      <td>positive</td>\n",
              "    </tr>\n",
              "    <tr>\n",
              "      <th>1</th>\n",
              "      <td>A wonderful little production. &lt;br /&gt;&lt;br /&gt;The...</td>\n",
              "      <td>positive</td>\n",
              "    </tr>\n",
              "    <tr>\n",
              "      <th>2</th>\n",
              "      <td>I thought this was a wonderful way to spend ti...</td>\n",
              "      <td>positive</td>\n",
              "    </tr>\n",
              "    <tr>\n",
              "      <th>3</th>\n",
              "      <td>Basically there's a family where a little boy ...</td>\n",
              "      <td>negative</td>\n",
              "    </tr>\n",
              "    <tr>\n",
              "      <th>4</th>\n",
              "      <td>Petter Mattei's \"Love in the Time of Money\" is...</td>\n",
              "      <td>positive</td>\n",
              "    </tr>\n",
              "  </tbody>\n",
              "</table>\n",
              "</div>"
            ],
            "text/plain": [
              "                                              review sentiment\n",
              "0  One of the other reviewers has mentioned that ...  positive\n",
              "1  A wonderful little production. <br /><br />The...  positive\n",
              "2  I thought this was a wonderful way to spend ti...  positive\n",
              "3  Basically there's a family where a little boy ...  negative\n",
              "4  Petter Mattei's \"Love in the Time of Money\" is...  positive"
            ]
          },
          "execution_count": 5,
          "metadata": {
            "tags": []
          },
          "output_type": "execute_result"
        }
      ],
      "source": [
        "df = pd.read_csv(path)\n",
        "df.head()"
      ]
    },
    {
      "cell_type": "markdown",
      "metadata": {
        "colab_type": "text",
        "id": "5EAO393yfEK5"
      },
      "source": [
        "### Data Cleaning "
      ]
    },
    {
      "cell_type": "code",
      "execution_count": 6,
      "metadata": {
        "ExecuteTime": {
          "end_time": "2020-04-07T13:31:59.990645Z",
          "start_time": "2020-04-07T13:31:59.942014Z"
        },
        "colab": {
          "base_uri": "https://localhost:8080/",
          "height": 122
        },
        "colab_type": "code",
        "id": "FVgxG8nE_UaT",
        "outputId": "ed788418-fe9c-4979-ae82-8ea07690e711"
      },
      "outputs": [
        {
          "name": "stdout",
          "output_type": "stream",
          "text": [
            "What an empty and lack lustre rendition of the classic novel. I do wish people would stop messing about with classics when they clearly have no idea of the real intention or point of the original. This version is no different. I felt that the Ralph Fiennes version is much worse though as the casting of Juliette brioche as Kathy has got to be the worst casting decision EVER...anyway back to this version. It aims to make the story relevant to a contemporary setting and in a musical style. It succeeds in both but high art it is nit. Throwaway viewing for a rainy day maybe...The direction was average and the editing abysmal. Worse than the old Quincy. Deepak Verma does a great turn as Hindley and is in fact one of Britains wasted talents. The part of Heath was played with great charm and belief and I think that the casting is the strongest point of this project. Although a more talented director would have made better use of the facilities he had. Its clear that he was a director for hire and didn't instill the project with the passion that it deserved.\n",
            "\n",
            "Another Day - this movie requires you to watch it another day to understand it. I thoroughly enjoy watching Shannen Doherty and I was quite interesting in seeing how well Julian McMahon and Shannen appeared together following the roles they played in Charmed. I can certainly PRAISE the acting skills throughout the film, even the directing - but the plot...what happened? I am at a loss for words because I am still confused. I have to stay loyal to the actors who really did a good job considering the madness of the plot. I also have to recommend you watch it because despite the plot-madness I would still watch it over and over again.\n",
            "\n",
            "Autobiography of founder of zoo in NYC starts out by being very cute and would be great family movie if it stayed there. however we get more and more involved with reality as gorilla grows up to be a wild thing not easily amenable to his \"mother's\" wishes - this might scare younger children, esp. scenes where Buddy tries to injure Gertrude. rather quick resolution at the end. below average.\n"
          ]
        }
      ],
      "source": [
        "df['review']=df['review'].str.replace('<HTML TAG/>', '').str.replace('<br />', '')\n",
        "df=df.truncate()\n",
        "print(df.iloc[500][0])\n",
        "print()\n",
        "print(df.iloc[2202][0])\n",
        "print()\n",
        "print(df.iloc[7921][0])"
      ]
    },
    {
      "cell_type": "markdown",
      "metadata": {
        "colab_type": "text",
        "id": "uRVWsc1Lf0Af"
      },
      "source": [
        "Techniques used to clean the data:\n",
        "\n",
        "- The replace function of pandas to remove html and br tags. \n",
        "- The truncate function to remove any trailing spaces.\n",
        "- Above I have printed 3 random reviews and all of them are cleaned"
      ]
    },
    {
      "cell_type": "markdown",
      "metadata": {
        "colab_type": "text",
        "id": "xQw0av-Zgcyc"
      },
      "source": [
        "### Data Exploration"
      ]
    },
    {
      "cell_type": "markdown",
      "metadata": {
        "colab_type": "text",
        "id": "M4n5GmwQgrOh"
      },
      "source": [
        "\n",
        "We will use NLTK for data exploration\n",
        "\n",
        "\n",
        "![alt text](https://getthematic.com/wp-content/uploads/2018/03/Harris-Word-Cloud-e1522406279125.png)\n",
        "\n",
        "\n"
      ]
    },
    {
      "cell_type": "code",
      "execution_count": 7,
      "metadata": {
        "colab": {
          "base_uri": "https://localhost:8080/",
          "height": 102
        },
        "colab_type": "code",
        "id": "WC2IxMnwi9xz",
        "outputId": "55f69e1c-2230-4cb8-f4fb-7094b62862e1"
      },
      "outputs": [
        {
          "name": "stdout",
          "output_type": "stream",
          "text": [
            "[nltk_data] Downloading package punkt to /root/nltk_data...\n",
            "[nltk_data]   Unzipping tokenizers/punkt.zip.\n",
            "[nltk_data] Downloading package stopwords to /root/nltk_data...\n",
            "[nltk_data]   Unzipping corpora/stopwords.zip.\n",
            "Distinct token count is: 237550\n"
          ]
        }
      ],
      "source": [
        "import nltk\n",
        "from nltk import word_tokenize\n",
        "from nltk.corpus import stopwords\n",
        "import itertools\n",
        "nltk.download('punkt')\n",
        "nltk.download('stopwords')\n",
        "word_list=df['review'].apply(word_tokenize)\n",
        "tokencount = len(np.unique(list(itertools.chain(*[word for word in word_list if word not in stopwords.words('english')]))))\n",
        "print (\"Distinct token count is: {}\".format(tokencount))"
      ]
    },
    {
      "cell_type": "code",
      "execution_count": null,
      "metadata": {
        "colab": {},
        "colab_type": "code",
        "id": "Li-ybFfb5rFk"
      },
      "outputs": [],
      "source": [
        "maxlen=max([len(review)for review in word_list])\n",
        "minlen=min([len(review)for review in word_list])"
      ]
    },
    {
      "cell_type": "markdown",
      "metadata": {
        "colab_type": "text",
        "id": "4iC2QLmai9FK"
      },
      "source": [
        "### Model processing\n",
        "\n",
        "You can use a 70:30 train/test split.\n",
        "The labels are 'positive' and negative, you should assign them integers 0 or 1 for further processing."
      ]
    },
    {
      "cell_type": "code",
      "execution_count": null,
      "metadata": {
        "ExecuteTime": {
          "end_time": "2020-04-07T13:32:51.202927Z",
          "start_time": "2020-04-07T13:32:50.093015Z"
        },
        "colab": {},
        "colab_type": "code",
        "id": "yRKTkhOR_Ub-"
      },
      "outputs": [],
      "source": [
        "from keras.preprocessing.text import text_to_word_sequence\n",
        "from keras.preprocessing.text import Tokenizer\n",
        "import matplotlib.pyplot as plt"
      ]
    },
    {
      "cell_type": "markdown",
      "metadata": {
        "colab_type": "text",
        "id": "_ymi3ltfpBpX"
      },
      "source": [
        "### Tokenizer\n",
        "You will need to use fit a tokenizer over your training and testing data.\n",
        "\n",
        "What does a tokenizer do?\n",
        "It creates a dictionary of word to integer mappings. It updates internal vocabulary based on a list of texts. You should read up on the documentation before diving into the code. \n",
        "\n",
        "You will also be using the the text_to_sequence function will return integers based on a respective tokenizer.\n",
        "\n",
        "Make sure you **pad** your sequences to max length using sequence.pad_sequences()\n",
        "\n",
        "\n"
      ]
    },
    {
      "cell_type": "code",
      "execution_count": null,
      "metadata": {
        "ExecuteTime": {
          "end_time": "2020-04-07T13:33:17.380066Z",
          "start_time": "2020-04-07T13:32:51.886856Z"
        },
        "colab": {},
        "colab_type": "code",
        "id": "kJrQ9E5R_UcH"
      },
      "outputs": [],
      "source": [
        "tokenizer = Tokenizer(num_words=tokencount)\n",
        "# x_train\n",
        "tokenizer.fit_on_texts(df['review'])\n",
        "word_index = tokenizer.word_index\n",
        "train_sequences = tokenizer.texts_to_sequences(df['review'])\n",
        "train_padded = sequence.pad_sequences(train_sequences,maxlen=maxlen)\n",
        "# # x_test\n",
        "# test_sequences = tokenizer.texts_to_sequences(df['sentiment'])\n",
        "# test_padded = sequence.pad_sequences(test_sequences,maxlen=1)"
      ]
    },
    {
      "cell_type": "code",
      "execution_count": 11,
      "metadata": {
        "colab": {
          "base_uri": "https://localhost:8080/",
          "height": 419
        },
        "colab_type": "code",
        "id": "40RTZvhFe4_r",
        "outputId": "60b401d5-2623-4f8e-c93e-e349bbeeb36a"
      },
      "outputs": [
        {
          "data": {
            "text/html": [
              "<div>\n",
              "<style scoped>\n",
              "    .dataframe tbody tr th:only-of-type {\n",
              "        vertical-align: middle;\n",
              "    }\n",
              "\n",
              "    .dataframe tbody tr th {\n",
              "        vertical-align: top;\n",
              "    }\n",
              "\n",
              "    .dataframe thead th {\n",
              "        text-align: right;\n",
              "    }\n",
              "</style>\n",
              "<table border=\"1\" class=\"dataframe\">\n",
              "  <thead>\n",
              "    <tr style=\"text-align: right;\">\n",
              "      <th></th>\n",
              "      <th>negative</th>\n",
              "      <th>positive</th>\n",
              "    </tr>\n",
              "  </thead>\n",
              "  <tbody>\n",
              "    <tr>\n",
              "      <th>0</th>\n",
              "      <td>0</td>\n",
              "      <td>1</td>\n",
              "    </tr>\n",
              "    <tr>\n",
              "      <th>1</th>\n",
              "      <td>0</td>\n",
              "      <td>1</td>\n",
              "    </tr>\n",
              "    <tr>\n",
              "      <th>2</th>\n",
              "      <td>0</td>\n",
              "      <td>1</td>\n",
              "    </tr>\n",
              "    <tr>\n",
              "      <th>3</th>\n",
              "      <td>1</td>\n",
              "      <td>0</td>\n",
              "    </tr>\n",
              "    <tr>\n",
              "      <th>4</th>\n",
              "      <td>0</td>\n",
              "      <td>1</td>\n",
              "    </tr>\n",
              "    <tr>\n",
              "      <th>...</th>\n",
              "      <td>...</td>\n",
              "      <td>...</td>\n",
              "    </tr>\n",
              "    <tr>\n",
              "      <th>49995</th>\n",
              "      <td>0</td>\n",
              "      <td>1</td>\n",
              "    </tr>\n",
              "    <tr>\n",
              "      <th>49996</th>\n",
              "      <td>1</td>\n",
              "      <td>0</td>\n",
              "    </tr>\n",
              "    <tr>\n",
              "      <th>49997</th>\n",
              "      <td>1</td>\n",
              "      <td>0</td>\n",
              "    </tr>\n",
              "    <tr>\n",
              "      <th>49998</th>\n",
              "      <td>1</td>\n",
              "      <td>0</td>\n",
              "    </tr>\n",
              "    <tr>\n",
              "      <th>49999</th>\n",
              "      <td>1</td>\n",
              "      <td>0</td>\n",
              "    </tr>\n",
              "  </tbody>\n",
              "</table>\n",
              "<p>50000 rows × 2 columns</p>\n",
              "</div>"
            ],
            "text/plain": [
              "       negative  positive\n",
              "0             0         1\n",
              "1             0         1\n",
              "2             0         1\n",
              "3             1         0\n",
              "4             0         1\n",
              "...         ...       ...\n",
              "49995         0         1\n",
              "49996         1         0\n",
              "49997         1         0\n",
              "49998         1         0\n",
              "49999         1         0\n",
              "\n",
              "[50000 rows x 2 columns]"
            ]
          },
          "execution_count": 11,
          "metadata": {
            "tags": []
          },
          "output_type": "execute_result"
        }
      ],
      "source": [
        "y_new=df['sentiment'].str.get_dummies(\" \")\n",
        "y_new"
      ]
    },
    {
      "cell_type": "code",
      "execution_count": 12,
      "metadata": {
        "colab": {
          "base_uri": "https://localhost:8080/",
          "height": 221
        },
        "colab_type": "code",
        "id": "RS1889X6XB7I",
        "outputId": "af81269c-ab70-4957-921c-19e2d6114db5"
      },
      "outputs": [
        {
          "data": {
            "text/plain": [
              "0        0\n",
              "1        0\n",
              "2        0\n",
              "3        1\n",
              "4        0\n",
              "        ..\n",
              "49995    0\n",
              "49996    1\n",
              "49997    1\n",
              "49998    1\n",
              "49999    1\n",
              "Name: sentiment, Length: 50000, dtype: int64"
            ]
          },
          "execution_count": 12,
          "metadata": {
            "tags": []
          },
          "output_type": "execute_result"
        }
      ],
      "source": [
        "df['sentiment']=df['sentiment'].replace(\"negative\",1)\n",
        "df['sentiment']=df['sentiment'].replace(\"positive\",0)\n",
        "df['sentiment']"
      ]
    },
    {
      "cell_type": "code",
      "execution_count": null,
      "metadata": {
        "colab": {},
        "colab_type": "code",
        "id": "MfZ-CmluhSIo"
      },
      "outputs": [],
      "source": [
        "X_train,X_test,y_train,y_test=train_test_split(train_padded,y_new,test_size=0.3)"
      ]
    },
    {
      "cell_type": "markdown",
      "metadata": {
        "colab_type": "text",
        "id": "DXxkoySHqdgm"
      },
      "source": [
        "### Embedding layer\n",
        "You will be importing the embedding layer from Keras.\n",
        "Embedding layers are common place when handling textual data. \n",
        "Word embeddings provide a dense representation of words and their relative meanings.\n",
        "\n",
        "#### How do they work - via Stack Overflow\n",
        "Link: https://stats.stackexchange.com/questions/270546/how-does-keras-embedding-layer-work\n",
        "\n",
        "The output vectors are not computed from the input using any mathematical operation. Instead, each input integer is used as the index to access a table that contains all posible vectors. That is the reason why you need to specify the size of the vocabulary as the first argument (so the table can be initialized).\n",
        "\n",
        "The most common application of this layer is for text processing. Let's see a simple example. Our training set consists only of two phrases:\n",
        "\n",
        "Hope to see you soon\n",
        "\n",
        "Nice to see you again\n",
        "\n",
        "So we can encode these phrases by assigning each word a unique integer number (by order of appearance in our training dataset for example). Then our phrases could be rewritten as:\n",
        "\n",
        "[0, 1, 2, 3, 4]\n",
        "\n",
        "[5, 1, 2, 3, 6]\n",
        "\n",
        "Now imagine we want to train a network whose first layer is an embeding layer. In this case, we should initialize it as follows:\n",
        "\n",
        "Embedding(7, 2, input_length=5)\n",
        "\n",
        "The first argument (7) is the number of distinct words in the training set. The second argument (2) indicates the size of the embedding vectors. The input_length argumet, of course, determines the size of each input sequence.\n",
        "\n",
        "Once the network has been trained, we can get the weights of the embedding layer, which in this case will be of size (7, 2) and can be thought as the table used to map integers to embedding vectors.\n"
      ]
    },
    {
      "cell_type": "markdown",
      "metadata": {
        "colab_type": "text",
        "id": "zjhYezEFx0Ov"
      },
      "source": [
        "### Model Engineering\n",
        "\n",
        "You will be required to engineer three types of models from scratch.\n",
        "\n",
        "1.   Using LSTMs\n",
        "2.   Bi-directional LSTMs\n",
        "\n",
        "1.   A model with less than 10,000 parameters - the lower the parameters, higher the score (provided accuracy is good)\n",
        "\n",
        "\n",
        "For each model:\n",
        "\n",
        "1.   You will be reporting graphs for validation accuracy and training loss.\n",
        "2.   What hyper-parameters, loss functions, optimizations, initializations were used. This should be clearly stated in your analysis.\n",
        "\n",
        "~90 percent and above is the desired accuracy. \n",
        "\n",
        "For model 3, CLEARLY report the number of parameters.\n",
        "\n",
        "\n"
      ]
    },
    {
      "cell_type": "code",
      "execution_count": null,
      "metadata": {
        "colab": {},
        "colab_type": "code",
        "id": "co_vgXxQeGZS"
      },
      "outputs": [],
      "source": [
        "def plot_accuracy(history):\n",
        "    plt.plot(history.history['accuracy'])\n",
        "    plt.plot(history.history['val_accuracy'])\n",
        "    plt.title('model accuracy')\n",
        "    plt.ylabel('accuracy')\n",
        "    plt.xlabel('epoch')\n",
        "    plt.legend(['train', 'test'], loc='upper left')\n",
        "    plt.show()\n",
        "\n",
        "def plot_loss(history):\n",
        "    plt.plot(history.history['loss'])\n",
        "    plt.plot(history.history['val_loss'])\n",
        "    plt.title('model loss')\n",
        "    plt.ylabel('loss')\n",
        "    plt.xlabel('epoch')\n",
        "    plt.legend(['train', 'test'], loc='upper left')\n",
        "    plt.show()"
      ]
    },
    {
      "cell_type": "code",
      "execution_count": 15,
      "metadata": {
        "colab": {
          "base_uri": "https://localhost:8080/",
          "height": 85
        },
        "colab_type": "code",
        "id": "uTAr2iNDfO_k",
        "outputId": "6053a258-d156-4546-89a8-0444c08a74ec"
      },
      "outputs": [
        {
          "name": "stdout",
          "output_type": "stream",
          "text": [
            "(35000, 2730)\n",
            "(35000,)\n",
            "(15000, 2730)\n",
            "(15000,)\n"
          ]
        }
      ],
      "source": [
        "print(X_train.shape) \n",
        "print(y_train.shape)\n",
        "print(X_test.shape) \n",
        "print(y_test.shape)"
      ]
    },
    {
      "cell_type": "code",
      "execution_count": null,
      "metadata": {
        "ExecuteTime": {
          "end_time": "2020-04-07T13:33:23.177585Z",
          "start_time": "2020-04-07T13:33:22.426163Z"
        },
        "colab": {
          "base_uri": "https://localhost:8080/",
          "height": 258
        },
        "colab_type": "code",
        "id": "x4Lkc7VA_Ucu",
        "outputId": "d4fb9381-6400-46d2-cecb-1b17d71b4fd7"
      },
      "outputs": [
        {
          "name": "stderr",
          "output_type": "stream",
          "text": [
            "/usr/local/lib/python3.6/dist-packages/tensorflow/python/framework/indexed_slices.py:434: UserWarning: Converting sparse IndexedSlices to a dense Tensor of unknown shape. This may consume a large amount of memory.\n",
            "  \"Converting sparse IndexedSlices to a dense Tensor of unknown shape. \"\n"
          ]
        },
        {
          "name": "stdout",
          "output_type": "stream",
          "text": [
            "Train on 35000 samples, validate on 15000 samples\n",
            "Epoch 1/5\n",
            "35000/35000 [==============================] - 378s 11ms/step - loss: 0.5599 - accuracy: 0.7267 - val_loss: 0.3803 - val_accuracy: 0.8344\n",
            "Epoch 2/5\n",
            "35000/35000 [==============================] - 376s 11ms/step - loss: 0.3531 - accuracy: 0.8523 - val_loss: 0.3400 - val_accuracy: 0.8540\n",
            "Epoch 3/5\n",
            "35000/35000 [==============================] - 379s 11ms/step - loss: 0.3519 - accuracy: 0.8571 - val_loss: 0.3674 - val_accuracy: 0.8368\n",
            "Epoch 4/5\n",
            "35000/35000 [==============================] - 381s 11ms/step - loss: 0.3255 - accuracy: 0.8674 - val_loss: 0.3384 - val_accuracy: 0.8666\n",
            "Epoch 5/5\n",
            "35000/35000 [==============================] - 380s 11ms/step - loss: 0.3317 - accuracy: 0.8640 - val_loss: 0.3335 - val_accuracy: 0.8651\n"
          ]
        }
      ],
      "source": [
        "# CODE HERE\n",
        "# Some example code to help you get started\n",
        "# X_train is your training data \n",
        "# input_dim is your dictionary length, output_dim is the length is the dimension of the dense embedding, you can choose whatever works best for you, starting with 2.\n",
        "model = Sequential()\n",
        "model.add(Embedding(5000, 100, input_length=X_train.shape[1]))\n",
        "model.add(LSTM(100, dropout=0.2, recurrent_dropout=0.2))\n",
        "model.add(Dense(2, activation='softmax'))\n",
        "model.compile(loss='categorical_crossentropy', optimizer='adam', metrics=['accuracy'])\n",
        "epochs=5\n",
        "history = model.fit(X_train, y_train, epochs=epochs, batch_size=32*22,validation_data=(X_test,y_test))\n",
        "\n",
        "# You can choose to complete this model per your choice"
      ]
    },
    {
      "cell_type": "code",
      "execution_count": null,
      "metadata": {
        "colab": {
          "base_uri": "https://localhost:8080/",
          "height": 374
        },
        "colab_type": "code",
        "id": "dYqAF1T3eEYW",
        "outputId": "0b022aa2-ceda-4045-cf31-60d883187652"
      },
      "outputs": [
        {
          "name": "stdout",
          "output_type": "stream",
          "text": [
            "Train on 35000 samples, validate on 15000 samples\n",
            "Epoch 6/15\n",
            "35000/35000 [==============================] - 381s 11ms/step - loss: 0.2870 - accuracy: 0.8850 - val_loss: 0.3449 - val_accuracy: 0.8507\n",
            "Epoch 7/15\n",
            "35000/35000 [==============================] - 380s 11ms/step - loss: 0.2692 - accuracy: 0.8948 - val_loss: 0.3318 - val_accuracy: 0.8610\n",
            "Epoch 8/15\n",
            "35000/35000 [==============================] - 380s 11ms/step - loss: 0.2564 - accuracy: 0.9003 - val_loss: 0.3458 - val_accuracy: 0.8519\n",
            "Epoch 9/15\n",
            "35000/35000 [==============================] - 383s 11ms/step - loss: 0.2548 - accuracy: 0.8997 - val_loss: 0.3479 - val_accuracy: 0.8566\n",
            "Epoch 10/15\n",
            "35000/35000 [==============================] - 382s 11ms/step - loss: 0.2581 - accuracy: 0.8965 - val_loss: 0.3656 - val_accuracy: 0.8492\n",
            "Epoch 11/15\n",
            "35000/35000 [==============================] - 383s 11ms/step - loss: 0.2706 - accuracy: 0.8955 - val_loss: 0.3882 - val_accuracy: 0.8283\n",
            "Epoch 12/15\n",
            "35000/35000 [==============================] - 384s 11ms/step - loss: 0.3036 - accuracy: 0.8801 - val_loss: 0.3653 - val_accuracy: 0.8512\n",
            "Epoch 13/15\n",
            "35000/35000 [==============================] - 382s 11ms/step - loss: 0.2711 - accuracy: 0.8915 - val_loss: 0.5097 - val_accuracy: 0.8136\n",
            "Epoch 14/15\n",
            "35000/35000 [==============================] - 380s 11ms/step - loss: 0.2708 - accuracy: 0.8953 - val_loss: 0.3677 - val_accuracy: 0.8510\n",
            "Epoch 15/15\n",
            "35000/35000 [==============================] - 382s 11ms/step - loss: 0.2299 - accuracy: 0.9104 - val_loss: 0.3719 - val_accuracy: 0.8522\n"
          ]
        }
      ],
      "source": [
        "history4 = model.fit(X_train, y_train, epochs=15, batch_size=32*22,validation_data=(X_test,y_test),initial_epoch=5,use_multiprocessing=True)"
      ]
    },
    {
      "cell_type": "code",
      "execution_count": null,
      "metadata": {
        "colab": {
          "base_uri": "https://localhost:8080/",
          "height": 295
        },
        "colab_type": "code",
        "id": "eiy8YdjgeVrt",
        "outputId": "49af2ff2-81c7-4697-9a2d-ae4241a90a28"
      },
      "outputs": [
        {
          "data": {
            "image/png": "[encoded data removed]",
            "text/plain": [
              "<Figure size 432x288 with 1 Axes>"
            ]
          },
          "metadata": {
            "needs_background": "light",
            "tags": []
          },
          "output_type": "display_data"
        }
      ],
      "source": [
        "plot_accuracy(history)"
      ]
    },
    {
      "cell_type": "code",
      "execution_count": null,
      "metadata": {
        "colab": {
          "base_uri": "https://localhost:8080/",
          "height": 295
        },
        "colab_type": "code",
        "id": "i-uDA-hteXaP",
        "outputId": "cb83fce3-842d-492a-fc7e-6b041d4b6563"
      },
      "outputs": [
        {
          "data": {
            "image/png": "[encoded data removed]",
            "text/plain": [
              "<Figure size 432x288 with 1 Axes>"
            ]
          },
          "metadata": {
            "needs_background": "light",
            "tags": []
          },
          "output_type": "display_data"
        }
      ],
      "source": [
        "plot_loss(history)"
      ]
    },
    {
      "cell_type": "code",
      "execution_count": 24,
      "metadata": {
        "colab": {
          "base_uri": "https://localhost:8080/",
          "height": 462
        },
        "colab_type": "code",
        "id": "_3k5gxRJeFAk",
        "outputId": "2279bf9e-71b8-46b0-b39c-114407a2e1aa"
      },
      "outputs": [
        {
          "name": "stdout",
          "output_type": "stream",
          "text": [
            "Model: \"sequential_8\"\n",
            "_________________________________________________________________\n",
            "Layer (type)                 Output Shape              Param #   \n",
            "=================================================================\n",
            "embedding_8 (Embedding)      (None, 2730, 196)         980000    \n",
            "_________________________________________________________________\n",
            "spatial_dropout1d_8 (Spatial (None, 2730, 196)         0         \n",
            "_________________________________________________________________\n",
            "bidirectional_8 (Bidirection (None, 240)               304320    \n",
            "_________________________________________________________________\n",
            "dense_8 (Dense)              (None, 2)                 482       \n",
            "=================================================================\n",
            "Total params: 1,284,802\n",
            "Trainable params: 1,284,802\n",
            "Non-trainable params: 0\n",
            "_________________________________________________________________\n"
          ]
        },
        {
          "name": "stderr",
          "output_type": "stream",
          "text": [
            "/usr/local/lib/python3.6/dist-packages/tensorflow/python/framework/indexed_slices.py:434: UserWarning: Converting sparse IndexedSlices to a dense Tensor of unknown shape. This may consume a large amount of memory.\n",
            "  \"Converting sparse IndexedSlices to a dense Tensor of unknown shape. \"\n"
          ]
        },
        {
          "name": "stdout",
          "output_type": "stream",
          "text": [
            "Train on 35000 samples, validate on 15000 samples\n",
            "Epoch 1/3\n",
            "35000/35000 [==============================] - 2136s 61ms/step - loss: 0.4620 - accuracy: 0.7766 - val_loss: 0.4464 - val_accuracy: 0.7984\n",
            "Epoch 2/3\n",
            "35000/35000 [==============================] - 2136s 61ms/step - loss: 0.3607 - accuracy: 0.8431 - val_loss: 0.4465 - val_accuracy: 0.7936\n",
            "Epoch 3/3\n",
            "35000/35000 [==============================] - 2133s 61ms/step - loss: 0.3180 - accuracy: 0.8689 - val_loss: 0.3743 - val_accuracy: 0.8327\n"
          ]
        }
      ],
      "source": [
        "from keras.layers import SpatialDropout1D\n",
        "model = Sequential()\n",
        "model.add( Embedding(5000,196, input_length = X_train.shape[1]))\n",
        "model.add(SpatialDropout1D(0.2))\n",
        "model.add( Bidirectional( LSTM(120, dropout = 0.2, recurrent_dropout = 0.2,)))\n",
        "model.add( Dense(2, activation = 'softmax'))\n",
        "\n",
        "model.compile(loss='categorical_crossentropy', optimizer='adam', metrics=['accuracy'])\n",
        "model.summary()\n",
        "history_model2 = model.fit(X_train, y_train, epochs=3, batch_size=32*8,validation_data=(X_test,y_test))"
      ]
    },
    {
      "cell_type": "code",
      "execution_count": 25,
      "metadata": {
        "colab": {
          "base_uri": "https://localhost:8080/",
          "height": 295
        },
        "colab_type": "code",
        "id": "RgsmvBL_eYHD",
        "outputId": "41c1f9af-4503-4363-fa7e-ed2d2bf63f73"
      },
      "outputs": [
        {
          "data": {
            "image/png": "[encoded data removed]",
            "text/plain": [
              "<Figure size 432x288 with 1 Axes>"
            ]
          },
          "metadata": {
            "needs_background": "light",
            "tags": []
          },
          "output_type": "display_data"
        }
      ],
      "source": [
        "plot_accuracy(history_model2)"
      ]
    },
    {
      "cell_type": "code",
      "execution_count": 26,
      "metadata": {
        "colab": {
          "base_uri": "https://localhost:8080/",
          "height": 295
        },
        "colab_type": "code",
        "id": "GCrgc9PkeYY8",
        "outputId": "d6621fb1-c608-402c-9cc8-fffd39082b24"
      },
      "outputs": [
        {
          "data": {
            "image/png": "[encoded data removed]",
            "text/plain": [
              "<Figure size 432x288 with 1 Axes>"
            ]
          },
          "metadata": {
            "needs_background": "light",
            "tags": []
          },
          "output_type": "display_data"
        }
      ],
      "source": [
        "plot_loss(history_model2)"
      ]
    },
    {
      "cell_type": "code",
      "execution_count": 41,
      "metadata": {
        "colab": {
          "base_uri": "https://localhost:8080/",
          "height": 428
        },
        "colab_type": "code",
        "id": "mDjIqA2KeYrF",
        "outputId": "283bc7aa-f3b0-4bb6-8b4b-5ad4587267f3"
      },
      "outputs": [
        {
          "name": "stdout",
          "output_type": "stream",
          "text": [
            "Model: \"sequential_20\"\n",
            "_________________________________________________________________\n",
            "Layer (type)                 Output Shape              Param #   \n",
            "=================================================================\n",
            "embedding_20 (Embedding)     (None, 2730, 15)          6750      \n",
            "_________________________________________________________________\n",
            "lstm_20 (LSTM)               (None, 20)                2880      \n",
            "_________________________________________________________________\n",
            "dense_20 (Dense)             (None, 2)                 42        \n",
            "=================================================================\n",
            "Total params: 9,672\n",
            "Trainable params: 9,672\n",
            "Non-trainable params: 0\n",
            "_________________________________________________________________\n"
          ]
        },
        {
          "name": "stderr",
          "output_type": "stream",
          "text": [
            "/usr/local/lib/python3.6/dist-packages/tensorflow/python/framework/indexed_slices.py:434: UserWarning: Converting sparse IndexedSlices to a dense Tensor of unknown shape. This may consume a large amount of memory.\n",
            "  \"Converting sparse IndexedSlices to a dense Tensor of unknown shape. \"\n"
          ]
        },
        {
          "name": "stdout",
          "output_type": "stream",
          "text": [
            "Train on 35000 samples, validate on 15000 samples\n",
            "Epoch 1/3\n",
            "35000/35000 [==============================] - 395s 11ms/step - loss: 0.6852 - accuracy: 0.5891 - val_loss: 0.6570 - val_accuracy: 0.6631\n",
            "Epoch 2/3\n",
            "35000/35000 [==============================] - 394s 11ms/step - loss: 0.5774 - accuracy: 0.7199 - val_loss: 0.5108 - val_accuracy: 0.7597\n",
            "Epoch 3/3\n",
            "35000/35000 [==============================] - 386s 11ms/step - loss: 0.5075 - accuracy: 0.7603 - val_loss: 0.4861 - val_accuracy: 0.7719\n"
          ]
        }
      ],
      "source": [
        "model3 = Sequential()\n",
        "model3.add(Embedding(450, 15, input_length=X_train.shape[1]))\n",
        "model3.add(LSTM(20, dropout=0.2, recurrent_dropout=0.2))\n",
        "model3.add(Dense(2, activation='softmax'))\n",
        "model3.compile(loss='categorical_crossentropy', optimizer='adam', metrics=['accuracy'])\n",
        "model3.summary()\n",
        "history = model3.fit(X_train, y_train, epochs=3, batch_size=32*22,validation_data=(X_test,y_test))\n",
        "\n",
        "\n",
        "# You can choose to complete this model per your choice"
      ]
    },
    {
      "cell_type": "code",
      "execution_count": 42,
      "metadata": {
        "colab": {
          "base_uri": "https://localhost:8080/",
          "height": 295
        },
        "colab_type": "code",
        "id": "r18xflu9eY_6",
        "outputId": "a30db351-61f2-4c39-db2d-12268dff5b1a"
      },
      "outputs": [
        {
          "data": {
            "image/png": "[encoded data removed]",
            "text/plain": [
              "<Figure size 432x288 with 1 Axes>"
            ]
          },
          "metadata": {
            "needs_background": "light",
            "tags": []
          },
          "output_type": "display_data"
        }
      ],
      "source": [
        "plot_accuracy(history)"
      ]
    },
    {
      "cell_type": "code",
      "execution_count": 43,
      "metadata": {
        "colab": {
          "base_uri": "https://localhost:8080/",
          "height": 295
        },
        "colab_type": "code",
        "id": "uvFSQwgYeZLF",
        "outputId": "61e1deb2-056c-4d64-b252-186dac76d89f"
      },
      "outputs": [
        {
          "data": {
            "image/png": "[encoded data removed]",
            "text/plain": [
              "<Figure size 432x288 with 1 Axes>"
            ]
          },
          "metadata": {
            "needs_background": "light",
            "tags": []
          },
          "output_type": "display_data"
        }
      ],
      "source": [
        "plot_loss(history)"
      ]
    },
    {
      "cell_type": "markdown",
      "metadata": {
        "colab_type": "text",
        "id": "AGwyrHW-zcUF"
      },
      "source": [
        "### Model Predictions. For your best performing model\n",
        "\n",
        "Come up with ten sample sentences NOT part of the original data set. \n",
        "Use model.predict() to generate predictions and report positive or negative sentiment."
      ]
    },
    {
      "cell_type": "markdown",
      "metadata": {
        "colab_type": "text",
        "id": "UpjHfRYbCMGp"
      },
      "source": [
        "Testing for LSTM model"
      ]
    },
    {
      "cell_type": "code",
      "execution_count": null,
      "metadata": {
        "colab": {
          "base_uri": "https://localhost:8080/",
          "height": 102
        },
        "colab_type": "code",
        "id": "N2Kjtxl8Qu4P",
        "outputId": "7cf97b5f-c85b-4f90-98a7-1d4de855ae78"
      },
      "outputs": [
        {
          "name": "stdout",
          "output_type": "stream",
          "text": [
            "I am a bad boy is: Negative\n",
            "This movie was really bad is: Negative\n",
            "I dont like to hit people is: Positive\n",
            "Deep learning is cool is: Positive\n",
            "I would hit you with a bat is: Negative\n"
          ]
        }
      ],
      "source": [
        "#This testing is for LSTM model\n",
        "# This is my best model\n",
        "texts=[\"I am a bad boy\",\"This movie was really bad\",\"I dont like to hit people\",\"Deep learning is cool\",\"I would hit you with a bat\"]\n",
        "lstm_sequences = tokenizer.texts_to_sequences(texts)\n",
        "lstm_padded = sequence.pad_sequences(lstm_sequences,maxlen=maxlen)\n",
        "results=model.predict(lstm_padded)\n",
        "labels=[\"Positive\",\"Negative\"]\n",
        "for x in range(5):\n",
        "  negative=1\n",
        "  if results[x][0]<0.5:\n",
        "    negative=0\n",
        "  print(\"{} is: {}\".format(texts[x],labels[negative]))\n",
        "  "
      ]
    },
    {
      "cell_type": "code",
      "execution_count": null,
      "metadata": {
        "colab": {},
        "colab_type": "code",
        "id": "J0RzibWEChs2"
      },
      "outputs": [],
      "source": []
    }
  ],
  "metadata": {
    "accelerator": "GPU",
    "colab": {
      "collapsed_sections": [],
      "machine_shape": "hm",
      "name": "DL_PA6.ipynb",
      "provenance": []
    },
    "kernelspec": {
      "display_name": "Python 3",
      "name": "python3"
    },
    "language_info": {
      "codemirror_mode": {
        "name": "ipython",
        "version": 3
      },
      "file_extension": ".py",
      "mimetype": "text/x-python",
      "name": "python",
      "nbconvert_exporter": "python",
      "pygments_lexer": "ipython3",
      "version": "3.7.1"
    }
  },
  "nbformat": 4,
  "nbformat_minor": 0
}
