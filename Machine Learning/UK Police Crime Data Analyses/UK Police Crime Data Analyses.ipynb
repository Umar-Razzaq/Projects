{
  "cells": [
    {
      "cell_type": "markdown",
      "metadata": {
        "id": "ulRhzrZstbrJ"
      },
      "source": []
    },
    {
      "cell_type": "markdown",
      "metadata": {
        "id": "MHtAfK_Ah6TA"
      },
      "source": [
        "#  Pre-processing and EDA"
      ]
    },
    {
      "cell_type": "code",
      "execution_count": null,
      "metadata": {
        "id": "ShOpSNql01JG",
        "vscode": {
          "languageId": "python"
        }
      },
      "outputs": [],
      "source": [
        "import pandas as pd\n",
        "from scipy.stats import chi2_contingency\n",
        "from scipy.stats import chisquare\n",
        "import matplotlib.pyplot as plt\n",
        "import re\n",
        "import numpy as np\n",
        "pip install kmodes\n",
        "from kmodes.kprototypes import KPrototypes"
      ]
    },
    {
      "cell_type": "markdown",
      "metadata": {
        "id": "G8gcJx9LBlsF"
      },
      "source": [
        "### Importing data"
      ]
    },
    {
      "cell_type": "code",
      "execution_count": null,
      "metadata": {
        "colab": {
          "base_uri": "https://localhost:8080/"
        },
        "id": "4tzW8oLxtH1P",
        "outputId": "69a1ffce-2883-4f98-ee89-075bf51ed548",
        "vscode": {
          "languageId": "python"
        }
      },
      "outputs": [
        {
          "name": "stdout",
          "output_type": "stream",
          "text": [
            "Mounted at /content/gdrive\n"
          ]
        }
      ],
      "source": [
        "from google.colab import drive\n",
        "drive.mount('/content/gdrive')"
      ]
    },
    {
      "cell_type": "code",
      "execution_count": null,
      "metadata": {
        "colab": {
          "base_uri": "https://localhost:8080/",
          "height": 496
        },
        "id": "hJ7Yol4xtbi5",
        "outputId": "3521b103-b2cd-47e9-cd8b-349814aa6bf0",
        "vscode": {
          "languageId": "python"
        }
      },
      "outputs": [
        {
          "data": {
            "text/html": [
              "<div>\n",
              "<style scoped>\n",
              "    .dataframe tbody tr th:only-of-type {\n",
              "        vertical-align: middle;\n",
              "    }\n",
              "\n",
              "    .dataframe tbody tr th {\n",
              "        vertical-align: top;\n",
              "    }\n",
              "\n",
              "    .dataframe thead th {\n",
              "        text-align: right;\n",
              "    }\n",
              "</style>\n",
              "<table border=\"1\" class=\"dataframe\">\n",
              "  <thead>\n",
              "    <tr style=\"text-align: right;\">\n",
              "      <th></th>\n",
              "      <th>id</th>\n",
              "      <th>crime_id</th>\n",
              "      <th>time</th>\n",
              "      <th>reported_by</th>\n",
              "      <th>falls_within</th>\n",
              "      <th>longitude</th>\n",
              "      <th>latitude</th>\n",
              "      <th>location</th>\n",
              "      <th>geography code</th>\n",
              "      <th>LSOA_name</th>\n",
              "      <th>crime_type</th>\n",
              "      <th>last_outcome_cat</th>\n",
              "      <th>context</th>\n",
              "    </tr>\n",
              "  </thead>\n",
              "  <tbody>\n",
              "    <tr>\n",
              "      <th>0</th>\n",
              "      <td>0</td>\n",
              "      <td>NaN</td>\n",
              "      <td>2018-07</td>\n",
              "      <td>Avon and Somerset Constabulary</td>\n",
              "      <td>Avon and Somerset Constabulary</td>\n",
              "      <td>-2.511761</td>\n",
              "      <td>51.409966</td>\n",
              "      <td>On or near Caernarvon Close</td>\n",
              "      <td>E01014399</td>\n",
              "      <td>Bath and North East Somerset 001A</td>\n",
              "      <td>Anti-social behaviour</td>\n",
              "      <td>NaN</td>\n",
              "      <td>NaN</td>\n",
              "    </tr>\n",
              "    <tr>\n",
              "      <th>1</th>\n",
              "      <td>4</td>\n",
              "      <td>151825317eaef54ba52fb1d19828f1f01a60ce51727501...</td>\n",
              "      <td>2018-07</td>\n",
              "      <td>Avon and Somerset Constabulary</td>\n",
              "      <td>Avon and Somerset Constabulary</td>\n",
              "      <td>-2.494870</td>\n",
              "      <td>51.422276</td>\n",
              "      <td>On or near Conference/Exhibition Centre</td>\n",
              "      <td>E01014399</td>\n",
              "      <td>Bath and North East Somerset 001A</td>\n",
              "      <td>Violence and sexual offences</td>\n",
              "      <td>Under investigation</td>\n",
              "      <td>NaN</td>\n",
              "    </tr>\n",
              "    <tr>\n",
              "      <th>2</th>\n",
              "      <td>8</td>\n",
              "      <td>e7391d810bc2cc120b9dddc24088046dabc3e1097e35f8...</td>\n",
              "      <td>2018-07</td>\n",
              "      <td>Avon and Somerset Constabulary</td>\n",
              "      <td>Avon and Somerset Constabulary</td>\n",
              "      <td>-2.512773</td>\n",
              "      <td>51.411751</td>\n",
              "      <td>On or near Westfield Close</td>\n",
              "      <td>E01014399</td>\n",
              "      <td>Bath and North East Somerset 001A</td>\n",
              "      <td>Violence and sexual offences</td>\n",
              "      <td>Under investigation</td>\n",
              "      <td>NaN</td>\n",
              "    </tr>\n",
              "    <tr>\n",
              "      <th>3</th>\n",
              "      <td>12</td>\n",
              "      <td>NaN</td>\n",
              "      <td>2018-07</td>\n",
              "      <td>Avon and Somerset Constabulary</td>\n",
              "      <td>Avon and Somerset Constabulary</td>\n",
              "      <td>-2.496204</td>\n",
              "      <td>51.417982</td>\n",
              "      <td>On or near Abbey Park</td>\n",
              "      <td>E01014400</td>\n",
              "      <td>Bath and North East Somerset 001B</td>\n",
              "      <td>Anti-social behaviour</td>\n",
              "      <td>NaN</td>\n",
              "      <td>NaN</td>\n",
              "    </tr>\n",
              "    <tr>\n",
              "      <th>4</th>\n",
              "      <td>16</td>\n",
              "      <td>f31d6f5a5c6a434d9995fbb84b739e0d81a1c76621bedf...</td>\n",
              "      <td>2018-07</td>\n",
              "      <td>Avon and Somerset Constabulary</td>\n",
              "      <td>Avon and Somerset Constabulary</td>\n",
              "      <td>-2.502805</td>\n",
              "      <td>51.414033</td>\n",
              "      <td>On or near St Keyna Road</td>\n",
              "      <td>E01014400</td>\n",
              "      <td>Bath and North East Somerset 001B</td>\n",
              "      <td>Criminal damage and arson</td>\n",
              "      <td>Investigation complete; no suspect identified</td>\n",
              "      <td>NaN</td>\n",
              "    </tr>\n",
              "  </tbody>\n",
              "</table>\n",
              "</div>"
            ],
            "text/plain": [
              "   id  ... context\n",
              "0   0  ...     NaN\n",
              "1   4  ...     NaN\n",
              "2   8  ...     NaN\n",
              "3  12  ...     NaN\n",
              "4  16  ...     NaN\n",
              "\n",
              "[5 rows x 13 columns]"
            ]
          },
          "execution_count": 5,
          "metadata": {
            "tags": []
          },
          "output_type": "execute_result"
        }
      ],
      "source": [
        "# Dataset 1\n",
        "crimes = pd.read_csv('/content/gdrive/MyDrive/DM/Data/all_crimes_18_hdr.csv')\n",
        "crimes.columns = ['id','crime_id','time','reported_by','falls_within','longitude','latitude','location','geography code','LSOA_name','crime_type','last_outcome_cat','context']\n",
        "crimes.head()"
      ]
    },
    {
      "cell_type": "code",
      "execution_count": null,
      "metadata": {
        "colab": {
          "base_uri": "https://localhost:8080/",
          "height": 496
        },
        "id": "HEeKgJNY1T4T",
        "outputId": "02dc2589-1b98-4b8a-e802-fdb0e0aaeacb",
        "vscode": {
          "languageId": "python"
        }
      },
      "outputs": [
        {
          "data": {
            "text/html": [
              "<div>\n",
              "<style scoped>\n",
              "    .dataframe tbody tr th:only-of-type {\n",
              "        vertical-align: middle;\n",
              "    }\n",
              "\n",
              "    .dataframe tbody tr th {\n",
              "        vertical-align: top;\n",
              "    }\n",
              "\n",
              "    .dataframe thead th {\n",
              "        text-align: right;\n",
              "    }\n",
              "</style>\n",
              "<table border=\"1\" class=\"dataframe\">\n",
              "  <thead>\n",
              "    <tr style=\"text-align: right;\">\n",
              "      <th></th>\n",
              "      <th>date</th>\n",
              "      <th>geography</th>\n",
              "      <th>geography code</th>\n",
              "      <th>Rural Urban</th>\n",
              "      <th>Variable: All usual residents; measures: Value</th>\n",
              "      <th>Variable: Males; measures: Value</th>\n",
              "      <th>Variable: Females; measures: Value</th>\n",
              "      <th>Variable: Lives in a household; measures: Value</th>\n",
              "      <th>Variable: Lives in a communal establishment; measures: Value</th>\n",
              "      <th>Variable: Schoolchild or full-time student aged 4 and over at their non term-time address; measures: Value</th>\n",
              "      <th>Variable: Area (Hectares); measures: Value</th>\n",
              "      <th>Variable: Density (number of persons per hectare); measures: Value</th>\n",
              "    </tr>\n",
              "  </thead>\n",
              "  <tbody>\n",
              "    <tr>\n",
              "      <th>0</th>\n",
              "      <td>2011</td>\n",
              "      <td>Darlington 001B</td>\n",
              "      <td>E01012334</td>\n",
              "      <td>Total</td>\n",
              "      <td>2466</td>\n",
              "      <td>1220</td>\n",
              "      <td>1246</td>\n",
              "      <td>2466</td>\n",
              "      <td>0</td>\n",
              "      <td>42</td>\n",
              "      <td>6033.58</td>\n",
              "      <td>0.4</td>\n",
              "    </tr>\n",
              "    <tr>\n",
              "      <th>1</th>\n",
              "      <td>2011</td>\n",
              "      <td>Darlington 001C</td>\n",
              "      <td>E01012335</td>\n",
              "      <td>Total</td>\n",
              "      <td>1383</td>\n",
              "      <td>682</td>\n",
              "      <td>701</td>\n",
              "      <td>1383</td>\n",
              "      <td>0</td>\n",
              "      <td>21</td>\n",
              "      <td>114.01</td>\n",
              "      <td>12.1</td>\n",
              "    </tr>\n",
              "    <tr>\n",
              "      <th>2</th>\n",
              "      <td>2011</td>\n",
              "      <td>Darlington 001D</td>\n",
              "      <td>E01012366</td>\n",
              "      <td>Total</td>\n",
              "      <td>2008</td>\n",
              "      <td>972</td>\n",
              "      <td>1036</td>\n",
              "      <td>2008</td>\n",
              "      <td>0</td>\n",
              "      <td>30</td>\n",
              "      <td>6718.16</td>\n",
              "      <td>0.3</td>\n",
              "    </tr>\n",
              "    <tr>\n",
              "      <th>3</th>\n",
              "      <td>2011</td>\n",
              "      <td>Darlington 001E</td>\n",
              "      <td>E01033481</td>\n",
              "      <td>Total</td>\n",
              "      <td>1364</td>\n",
              "      <td>680</td>\n",
              "      <td>684</td>\n",
              "      <td>1350</td>\n",
              "      <td>14</td>\n",
              "      <td>21</td>\n",
              "      <td>146.95</td>\n",
              "      <td>9.3</td>\n",
              "    </tr>\n",
              "    <tr>\n",
              "      <th>4</th>\n",
              "      <td>2011</td>\n",
              "      <td>Darlington 001F</td>\n",
              "      <td>E01033482</td>\n",
              "      <td>Total</td>\n",
              "      <td>1621</td>\n",
              "      <td>810</td>\n",
              "      <td>811</td>\n",
              "      <td>1621</td>\n",
              "      <td>0</td>\n",
              "      <td>16</td>\n",
              "      <td>234.31</td>\n",
              "      <td>6.9</td>\n",
              "    </tr>\n",
              "  </tbody>\n",
              "</table>\n",
              "</div>"
            ],
            "text/plain": [
              "   date  ... Variable: Density (number of persons per hectare); measures: Value\n",
              "0  2011  ...                                                0.4                \n",
              "1  2011  ...                                               12.1                \n",
              "2  2011  ...                                                0.3                \n",
              "3  2011  ...                                                9.3                \n",
              "4  2011  ...                                                6.9                \n",
              "\n",
              "[5 rows x 12 columns]"
            ]
          },
          "execution_count": 6,
          "metadata": {
            "tags": []
          },
          "output_type": "execute_result"
        }
      ],
      "source": [
        "# Dataset 4\n",
        "loc_wise_pop = pd.read_csv('/content/gdrive/MyDrive/DM/Data/LSOA_pop_v2.csv')\n",
        "loc_wise_pop.head()"
      ]
    },
    {
      "cell_type": "markdown",
      "metadata": {
        "id": "7QsKorBKBrBZ"
      },
      "source": [
        "### Merging data"
      ]
    },
    {
      "cell_type": "code",
      "execution_count": null,
      "metadata": {
        "colab": {
          "base_uri": "https://localhost:8080/",
          "height": 666
        },
        "id": "zkY9oG1T3Gcp",
        "outputId": "b96f86b4-60a8-4347-9e46-67b445b96baf",
        "vscode": {
          "languageId": "python"
        }
      },
      "outputs": [
        {
          "data": {
            "text/html": [
              "<div>\n",
              "<style scoped>\n",
              "    .dataframe tbody tr th:only-of-type {\n",
              "        vertical-align: middle;\n",
              "    }\n",
              "\n",
              "    .dataframe tbody tr th {\n",
              "        vertical-align: top;\n",
              "    }\n",
              "\n",
              "    .dataframe thead th {\n",
              "        text-align: right;\n",
              "    }\n",
              "</style>\n",
              "<table border=\"1\" class=\"dataframe\">\n",
              "  <thead>\n",
              "    <tr style=\"text-align: right;\">\n",
              "      <th></th>\n",
              "      <th>id</th>\n",
              "      <th>crime_id</th>\n",
              "      <th>time</th>\n",
              "      <th>reported_by</th>\n",
              "      <th>falls_within</th>\n",
              "      <th>longitude</th>\n",
              "      <th>latitude</th>\n",
              "      <th>location</th>\n",
              "      <th>geography code</th>\n",
              "      <th>LSOA_name</th>\n",
              "      <th>crime_type</th>\n",
              "      <th>last_outcome_cat</th>\n",
              "      <th>context</th>\n",
              "      <th>date</th>\n",
              "      <th>geography</th>\n",
              "      <th>Rural Urban</th>\n",
              "      <th>Variable: All usual residents; measures: Value</th>\n",
              "      <th>Variable: Males; measures: Value</th>\n",
              "      <th>Variable: Females; measures: Value</th>\n",
              "      <th>Variable: Lives in a household; measures: Value</th>\n",
              "      <th>Variable: Lives in a communal establishment; measures: Value</th>\n",
              "      <th>Variable: Schoolchild or full-time student aged 4 and over at their non term-time address; measures: Value</th>\n",
              "      <th>Variable: Area (Hectares); measures: Value</th>\n",
              "      <th>Variable: Density (number of persons per hectare); measures: Value</th>\n",
              "    </tr>\n",
              "  </thead>\n",
              "  <tbody>\n",
              "    <tr>\n",
              "      <th>0</th>\n",
              "      <td>0</td>\n",
              "      <td>NaN</td>\n",
              "      <td>2018-07</td>\n",
              "      <td>Avon and Somerset Constabulary</td>\n",
              "      <td>Avon and Somerset Constabulary</td>\n",
              "      <td>-2.511761</td>\n",
              "      <td>51.409966</td>\n",
              "      <td>On or near Caernarvon Close</td>\n",
              "      <td>E01014399</td>\n",
              "      <td>Bath and North East Somerset 001A</td>\n",
              "      <td>Anti-social behaviour</td>\n",
              "      <td>NaN</td>\n",
              "      <td>NaN</td>\n",
              "      <td>2011.0</td>\n",
              "      <td>Bath and North East Somerset 001A</td>\n",
              "      <td>Total</td>\n",
              "      <td>1624.0</td>\n",
              "      <td>789.0</td>\n",
              "      <td>835.0</td>\n",
              "      <td>1624.0</td>\n",
              "      <td>0.0</td>\n",
              "      <td>16.0</td>\n",
              "      <td>412.44</td>\n",
              "      <td>3.9</td>\n",
              "    </tr>\n",
              "    <tr>\n",
              "      <th>1</th>\n",
              "      <td>4</td>\n",
              "      <td>151825317eaef54ba52fb1d19828f1f01a60ce51727501...</td>\n",
              "      <td>2018-07</td>\n",
              "      <td>Avon and Somerset Constabulary</td>\n",
              "      <td>Avon and Somerset Constabulary</td>\n",
              "      <td>-2.494870</td>\n",
              "      <td>51.422276</td>\n",
              "      <td>On or near Conference/Exhibition Centre</td>\n",
              "      <td>E01014399</td>\n",
              "      <td>Bath and North East Somerset 001A</td>\n",
              "      <td>Violence and sexual offences</td>\n",
              "      <td>Under investigation</td>\n",
              "      <td>NaN</td>\n",
              "      <td>2011.0</td>\n",
              "      <td>Bath and North East Somerset 001A</td>\n",
              "      <td>Total</td>\n",
              "      <td>1624.0</td>\n",
              "      <td>789.0</td>\n",
              "      <td>835.0</td>\n",
              "      <td>1624.0</td>\n",
              "      <td>0.0</td>\n",
              "      <td>16.0</td>\n",
              "      <td>412.44</td>\n",
              "      <td>3.9</td>\n",
              "    </tr>\n",
              "    <tr>\n",
              "      <th>2</th>\n",
              "      <td>8</td>\n",
              "      <td>e7391d810bc2cc120b9dddc24088046dabc3e1097e35f8...</td>\n",
              "      <td>2018-07</td>\n",
              "      <td>Avon and Somerset Constabulary</td>\n",
              "      <td>Avon and Somerset Constabulary</td>\n",
              "      <td>-2.512773</td>\n",
              "      <td>51.411751</td>\n",
              "      <td>On or near Westfield Close</td>\n",
              "      <td>E01014399</td>\n",
              "      <td>Bath and North East Somerset 001A</td>\n",
              "      <td>Violence and sexual offences</td>\n",
              "      <td>Under investigation</td>\n",
              "      <td>NaN</td>\n",
              "      <td>2011.0</td>\n",
              "      <td>Bath and North East Somerset 001A</td>\n",
              "      <td>Total</td>\n",
              "      <td>1624.0</td>\n",
              "      <td>789.0</td>\n",
              "      <td>835.0</td>\n",
              "      <td>1624.0</td>\n",
              "      <td>0.0</td>\n",
              "      <td>16.0</td>\n",
              "      <td>412.44</td>\n",
              "      <td>3.9</td>\n",
              "    </tr>\n",
              "    <tr>\n",
              "      <th>3</th>\n",
              "      <td>12</td>\n",
              "      <td>NaN</td>\n",
              "      <td>2018-07</td>\n",
              "      <td>Avon and Somerset Constabulary</td>\n",
              "      <td>Avon and Somerset Constabulary</td>\n",
              "      <td>-2.496204</td>\n",
              "      <td>51.417982</td>\n",
              "      <td>On or near Abbey Park</td>\n",
              "      <td>E01014400</td>\n",
              "      <td>Bath and North East Somerset 001B</td>\n",
              "      <td>Anti-social behaviour</td>\n",
              "      <td>NaN</td>\n",
              "      <td>NaN</td>\n",
              "      <td>2011.0</td>\n",
              "      <td>Bath and North East Somerset 001B</td>\n",
              "      <td>Total</td>\n",
              "      <td>1944.0</td>\n",
              "      <td>933.0</td>\n",
              "      <td>1011.0</td>\n",
              "      <td>1906.0</td>\n",
              "      <td>38.0</td>\n",
              "      <td>36.0</td>\n",
              "      <td>87.03</td>\n",
              "      <td>22.3</td>\n",
              "    </tr>\n",
              "    <tr>\n",
              "      <th>4</th>\n",
              "      <td>16</td>\n",
              "      <td>f31d6f5a5c6a434d9995fbb84b739e0d81a1c76621bedf...</td>\n",
              "      <td>2018-07</td>\n",
              "      <td>Avon and Somerset Constabulary</td>\n",
              "      <td>Avon and Somerset Constabulary</td>\n",
              "      <td>-2.502805</td>\n",
              "      <td>51.414033</td>\n",
              "      <td>On or near St Keyna Road</td>\n",
              "      <td>E01014400</td>\n",
              "      <td>Bath and North East Somerset 001B</td>\n",
              "      <td>Criminal damage and arson</td>\n",
              "      <td>Investigation complete; no suspect identified</td>\n",
              "      <td>NaN</td>\n",
              "      <td>2011.0</td>\n",
              "      <td>Bath and North East Somerset 001B</td>\n",
              "      <td>Total</td>\n",
              "      <td>1944.0</td>\n",
              "      <td>933.0</td>\n",
              "      <td>1011.0</td>\n",
              "      <td>1906.0</td>\n",
              "      <td>38.0</td>\n",
              "      <td>36.0</td>\n",
              "      <td>87.03</td>\n",
              "      <td>22.3</td>\n",
              "    </tr>\n",
              "  </tbody>\n",
              "</table>\n",
              "</div>"
            ],
            "text/plain": [
              "   id  ... Variable: Density (number of persons per hectare); measures: Value\n",
              "0   0  ...                                                3.9                \n",
              "1   4  ...                                                3.9                \n",
              "2   8  ...                                                3.9                \n",
              "3  12  ...                                               22.3                \n",
              "4  16  ...                                               22.3                \n",
              "\n",
              "[5 rows x 24 columns]"
            ]
          },
          "execution_count": 7,
          "metadata": {
            "tags": []
          },
          "output_type": "execute_result"
        }
      ],
      "source": [
        "# Merging the datasets 1 and 4 on LSOA code\n",
        "df = pd.merge(crimes, loc_wise_pop, on = ['geography code'], how = 'left')\n",
        "df.head()"
      ]
    },
    {
      "cell_type": "markdown",
      "metadata": {
        "id": "voa4FZrIB1Ii"
      },
      "source": [
        "### Checking for datatypes"
      ]
    },
    {
      "cell_type": "code",
      "execution_count": null,
      "metadata": {
        "colab": {
          "base_uri": "https://localhost:8080/"
        },
        "id": "igYpF2YDGohs",
        "outputId": "72429807-e5fe-4e80-ed5e-8f014c336448",
        "vscode": {
          "languageId": "python"
        }
      },
      "outputs": [
        {
          "data": {
            "text/plain": [
              "id                                                                                                              int64\n",
              "crime_id                                                                                                       object\n",
              "time                                                                                                           object\n",
              "reported_by                                                                                                    object\n",
              "falls_within                                                                                                   object\n",
              "longitude                                                                                                     float64\n",
              "latitude                                                                                                      float64\n",
              "location                                                                                                       object\n",
              "geography code                                                                                                 object\n",
              "LSOA_name                                                                                                      object\n",
              "crime_type                                                                                                     object\n",
              "last_outcome_cat                                                                                               object\n",
              "context                                                                                                       float64\n",
              "date                                                                                                          float64\n",
              "geography                                                                                                      object\n",
              "Rural Urban                                                                                                    object\n",
              "Variable: All usual residents; measures: Value                                                                float64\n",
              "Variable: Males; measures: Value                                                                              float64\n",
              "Variable: Females; measures: Value                                                                            float64\n",
              "Variable: Lives in a household; measures: Value                                                               float64\n",
              "Variable: Lives in a communal establishment; measures: Value                                                  float64\n",
              "Variable: Schoolchild or full-time student aged 4 and over at their non term-time address; measures: Value    float64\n",
              "Variable: Area (Hectares); measures: Value                                                                    float64\n",
              "Variable: Density (number of persons per hectare); measures: Value                                            float64\n",
              "dtype: object"
            ]
          },
          "execution_count": 8,
          "metadata": {
            "tags": []
          },
          "output_type": "execute_result"
        }
      ],
      "source": [
        "# Checking for wrong datatypes\n",
        "df.dtypes"
      ]
    },
    {
      "cell_type": "markdown",
      "metadata": {
        "id": "2Z2MR-xBB-CJ"
      },
      "source": [
        "### Finding and handling Null Values\n",
        "\n"
      ]
    },
    {
      "cell_type": "markdown",
      "metadata": {
        "id": "LV5fWL7vCMtJ"
      },
      "source": [
        "Checking for Null Values"
      ]
    },
    {
      "cell_type": "code",
      "execution_count": null,
      "metadata": {
        "colab": {
          "base_uri": "https://localhost:8080/"
        },
        "id": "8SXmnvVTHjO5",
        "outputId": "3cede849-0af8-4272-8051-bc47ec694703",
        "vscode": {
          "languageId": "python"
        }
      },
      "outputs": [
        {
          "data": {
            "text/plain": [
              "id                                                                                                                  0\n",
              "crime_id                                                                                                      1585324\n",
              "time                                                                                                                0\n",
              "reported_by                                                                                                         0\n",
              "falls_within                                                                                                        0\n",
              "longitude                                                                                                       51249\n",
              "latitude                                                                                                        51249\n",
              "location                                                                                                            0\n",
              "geography code                                                                                                 160923\n",
              "LSOA_name                                                                                                      160923\n",
              "crime_type                                                                                                          0\n",
              "last_outcome_cat                                                                                              1640391\n",
              "context                                                                                                       3508399\n",
              "date                                                                                                           160923\n",
              "geography                                                                                                      160923\n",
              "Rural Urban                                                                                                    160923\n",
              "Variable: All usual residents; measures: Value                                                                 160923\n",
              "Variable: Males; measures: Value                                                                               160923\n",
              "Variable: Females; measures: Value                                                                             160923\n",
              "Variable: Lives in a household; measures: Value                                                                160923\n",
              "Variable: Lives in a communal establishment; measures: Value                                                   160923\n",
              "Variable: Schoolchild or full-time student aged 4 and over at their non term-time address; measures: Value     160923\n",
              "Variable: Area (Hectares); measures: Value                                                                     160923\n",
              "Variable: Density (number of persons per hectare); measures: Value                                             160923\n",
              "dtype: int64"
            ]
          },
          "execution_count": 9,
          "metadata": {
            "tags": []
          },
          "output_type": "execute_result"
        }
      ],
      "source": [
        "df.isna().sum()"
      ]
    },
    {
      "cell_type": "markdown",
      "metadata": {
        "id": "G5hiVsAZCRjz"
      },
      "source": [
        "Droping Null values"
      ]
    },
    {
      "cell_type": "code",
      "execution_count": null,
      "metadata": {
        "colab": {
          "base_uri": "https://localhost:8080/"
        },
        "id": "ko-trzxyK2Wf",
        "outputId": "28c40d1b-725a-487c-e503-6316b7a5a7ec",
        "vscode": {
          "languageId": "python"
        }
      },
      "outputs": [
        {
          "data": {
            "text/plain": [
              "id                                                                                                                  0\n",
              "crime_id                                                                                                      1525134\n",
              "time                                                                                                                0\n",
              "reported_by                                                                                                         0\n",
              "falls_within                                                                                                        0\n",
              "longitude                                                                                                           0\n",
              "latitude                                                                                                            0\n",
              "location                                                                                                            0\n",
              "geography code                                                                                                      0\n",
              "LSOA_name                                                                                                           0\n",
              "crime_type                                                                                                          0\n",
              "last_outcome_cat                                                                                              1525134\n",
              "context                                                                                                       3347476\n",
              "date                                                                                                                0\n",
              "geography                                                                                                           0\n",
              "Rural Urban                                                                                                         0\n",
              "Variable: All usual residents; measures: Value                                                                      0\n",
              "Variable: Males; measures: Value                                                                                    0\n",
              "Variable: Females; measures: Value                                                                                  0\n",
              "Variable: Lives in a household; measures: Value                                                                     0\n",
              "Variable: Lives in a communal establishment; measures: Value                                                        0\n",
              "Variable: Schoolchild or full-time student aged 4 and over at their non term-time address; measures: Value          0\n",
              "Variable: Area (Hectares); measures: Value                                                                          0\n",
              "Variable: Density (number of persons per hectare); measures: Value                                                  0\n",
              "dtype: int64"
            ]
          },
          "execution_count": 10,
          "metadata": {
            "tags": []
          },
          "output_type": "execute_result"
        }
      ],
      "source": [
        "df = df[df['geography code'].notna()]\n",
        "df.isna().sum()"
      ]
    },
    {
      "cell_type": "markdown",
      "metadata": {
        "id": "aoEEwXldCg66"
      },
      "source": [
        "### Location and Crimetype"
      ]
    },
    {
      "cell_type": "markdown",
      "metadata": {
        "id": "hdpHOcDvCmSl"
      },
      "source": [
        "The \"geography\" column contains information about the location and the place where the crime happend. So extracting the information of the location from the column \"geograph\" and making a new column \"region\""
      ]
    },
    {
      "cell_type": "code",
      "execution_count": null,
      "metadata": {
        "id": "eRjFsMCxBJXy",
        "vscode": {
          "languageId": "python"
        }
      },
      "outputs": [],
      "source": [
        "search = []\n",
        "for values in df['geography']:\n",
        "  search.append(re.search(r'^[a-zA-Z\\s]*', values).group())\n",
        "df['region'] = search\n",
        "crime_count = df.groupby('region')['crime_type'].count()"
      ]
    },
    {
      "cell_type": "markdown",
      "metadata": {
        "id": "gbA_an8uDwZb"
      },
      "source": [
        "The following cell shows the count of different types of crimes at each location"
      ]
    },
    {
      "cell_type": "code",
      "execution_count": null,
      "metadata": {
        "colab": {
          "base_uri": "https://localhost:8080/"
        },
        "id": "P0C-Z_czylz2",
        "outputId": "1bba01dc-0d0c-4846-9518-df43b7e79dc8",
        "vscode": {
          "languageId": "python"
        }
      },
      "outputs": [
        {
          "name": "stdout",
          "output_type": "stream",
          "text": [
            "region                        Adur   Allerdale   ...  Wyre Forest   York \n",
            "crime_type                                       ...                     \n",
            "Anti-social behaviour          1204        1970  ...          3762   7771\n",
            "Criminal damage and arson       471        1016  ...           804   1427\n",
            "Drugs                           133         156  ...           169    482\n",
            "Possession of weapons            26          34  ...            57     53\n",
            "Robbery                          22          17  ...            37     56\n",
            "Violence and sexual offences   1033        1563  ...          2293   2957\n",
            "\n",
            "[6 rows x 348 columns]\n"
          ]
        }
      ],
      "source": [
        "data_crosstab = pd.crosstab(df['crime_type'], df['region'], margins = False) \n",
        "print(data_crosstab) "
      ]
    },
    {
      "cell_type": "markdown",
      "metadata": {
        "id": "UDjI4Nh9EC4Z"
      },
      "source": [
        "The following chi square test was performed to check the correlation between location and crimes. The chi-square test shows that there is a correlation between location and the type of crime."
      ]
    },
    {
      "cell_type": "code",
      "execution_count": null,
      "metadata": {
        "colab": {
          "base_uri": "https://localhost:8080/"
        },
        "id": "SQsWncf7fZQM",
        "outputId": "50bc5617-4714-4c67-e7e4-1aef14580fd0",
        "vscode": {
          "languageId": "python"
        }
      },
      "outputs": [
        {
          "name": "stdout",
          "output_type": "stream",
          "text": [
            "p value is 0.0 Reject H0\n"
          ]
        }
      ],
      "source": [
        "stat, p, dof, expected = chi2_contingency(data_crosstab)\n",
        "# H0 is  that there is no correlation between location and crimetype\n",
        "if p < 0.05:\n",
        "  print('p value is',p,'Reject H0')\n",
        "else:\n",
        "  print('p value is',p,'H0 holds')"
      ]
    },
    {
      "cell_type": "markdown",
      "metadata": {
        "id": "MN9kzQy3EVm5"
      },
      "source": [
        "The following cell prints the type of crime which is most frequent in each area."
      ]
    },
    {
      "cell_type": "code",
      "execution_count": null,
      "metadata": {
        "colab": {
          "base_uri": "https://localhost:8080/"
        },
        "id": "frFHdmVZA1Pj",
        "outputId": "975f3bb2-06bd-4db7-c67d-9d6b8445d14d",
        "vscode": {
          "languageId": "python"
        }
      },
      "outputs": [
        {
          "name": "stdout",
          "output_type": "stream",
          "text": [
            "Adur  has the max crime rate of Anti-social behaviour\n",
            "Allerdale  has the max crime rate of Anti-social behaviour\n",
            "Amber Valley  has the max crime rate of Anti-social behaviour\n",
            "Arun  has the max crime rate of Anti-social behaviour\n",
            "Ashfield  has the max crime rate of Anti-social behaviour\n",
            "Ashford  has the max crime rate of Violence and sexual offences\n",
            "Aylesbury Vale  has the max crime rate of Violence and sexual offences\n",
            "Babergh  has the max crime rate of Violence and sexual offences\n",
            "Barking and Dagenham  has the max crime rate of Violence and sexual offences\n",
            "Barnet  has the max crime rate of Anti-social behaviour\n",
            "Barnsley  has the max crime rate of Anti-social behaviour\n",
            "Barrow has the max crime rate of Anti-social behaviour\n",
            "Basildon  has the max crime rate of Anti-social behaviour\n",
            "Basingstoke and Deane  has the max crime rate of Anti-social behaviour\n",
            "Bassetlaw  has the max crime rate of Anti-social behaviour\n",
            "Bath and North East Somerset  has the max crime rate of Anti-social behaviour\n",
            "Bedford  has the max crime rate of Anti-social behaviour\n",
            "Bexley  has the max crime rate of Anti-social behaviour\n",
            "Birmingham  has the max crime rate of Anti-social behaviour\n",
            "Blaby  has the max crime rate of Anti-social behaviour\n",
            "Blackburn with Darwen  has the max crime rate of Anti-social behaviour\n",
            "Blackpool  has the max crime rate of Anti-social behaviour\n",
            "Blaenau Gwent  has the max crime rate of Anti-social behaviour\n",
            "Bolsover  has the max crime rate of Anti-social behaviour\n",
            "Bolton  has the max crime rate of Anti-social behaviour\n",
            "Boston  has the max crime rate of Anti-social behaviour\n",
            "Bournemouth  has the max crime rate of Anti-social behaviour\n",
            "Bracknell Forest  has the max crime rate of Anti-social behaviour\n",
            "Bradford  has the max crime rate of Anti-social behaviour\n",
            "Braintree  has the max crime rate of Anti-social behaviour\n",
            "Breckland  has the max crime rate of Anti-social behaviour\n",
            "Brent  has the max crime rate of Anti-social behaviour\n",
            "Brentwood  has the max crime rate of Anti-social behaviour\n",
            "Bridgend  has the max crime rate of Violence and sexual offences\n",
            "Brighton and Hove  has the max crime rate of Anti-social behaviour\n",
            "Bristol  has the max crime rate of Anti-social behaviour\n",
            "Broadland  has the max crime rate of Violence and sexual offences\n",
            "Bromley  has the max crime rate of Violence and sexual offences\n",
            "Bromsgrove  has the max crime rate of Anti-social behaviour\n",
            "Broxbourne  has the max crime rate of Anti-social behaviour\n",
            "Broxtowe  has the max crime rate of Anti-social behaviour\n",
            "Burnley  has the max crime rate of Anti-social behaviour\n",
            "Bury  has the max crime rate of Anti-social behaviour\n",
            "Caerphilly  has the max crime rate of Anti-social behaviour\n",
            "Calderdale  has the max crime rate of Violence and sexual offences\n",
            "Cambridge  has the max crime rate of Anti-social behaviour\n",
            "Camden  has the max crime rate of Anti-social behaviour\n",
            "Cannock Chase  has the max crime rate of Anti-social behaviour\n",
            "Canterbury  has the max crime rate of Violence and sexual offences\n",
            "Cardiff  has the max crime rate of Anti-social behaviour\n",
            "Carlisle  has the max crime rate of Anti-social behaviour\n",
            "Carmarthenshire  has the max crime rate of Anti-social behaviour\n",
            "Castle Point  has the max crime rate of Anti-social behaviour\n",
            "Central Bedfordshire  has the max crime rate of Anti-social behaviour\n",
            "Ceredigion  has the max crime rate of Anti-social behaviour\n",
            "Charnwood  has the max crime rate of Anti-social behaviour\n",
            "Chelmsford  has the max crime rate of Anti-social behaviour\n",
            "Cheltenham  has the max crime rate of Anti-social behaviour\n",
            "Cherwell  has the max crime rate of Violence and sexual offences\n",
            "Cheshire East  has the max crime rate of Anti-social behaviour\n",
            "Cheshire West and Chester  has the max crime rate of Anti-social behaviour\n",
            "Chesterfield  has the max crime rate of Anti-social behaviour\n",
            "Chichester  has the max crime rate of Anti-social behaviour\n",
            "Chiltern  has the max crime rate of Anti-social behaviour\n",
            "Chorley  has the max crime rate of Anti-social behaviour\n",
            "Christchurch  has the max crime rate of Anti-social behaviour\n",
            "City of London  has the max crime rate of Anti-social behaviour\n",
            "Colchester  has the max crime rate of Anti-social behaviour\n",
            "Conwy  has the max crime rate of Anti-social behaviour\n",
            "Copeland  has the max crime rate of Anti-social behaviour\n",
            "Corby  has the max crime rate of Anti-social behaviour\n",
            "Cornwall  has the max crime rate of Anti-social behaviour\n",
            "Cotswold  has the max crime rate of Anti-social behaviour\n",
            "County Durham  has the max crime rate of Anti-social behaviour\n",
            "Coventry  has the max crime rate of Anti-social behaviour\n",
            "Craven  has the max crime rate of Anti-social behaviour\n",
            "Crawley  has the max crime rate of Anti-social behaviour\n",
            "Croydon  has the max crime rate of Violence and sexual offences\n",
            "Dacorum  has the max crime rate of Anti-social behaviour\n",
            "Darlington  has the max crime rate of Anti-social behaviour\n",
            "Dartford  has the max crime rate of Violence and sexual offences\n",
            "Daventry  has the max crime rate of Anti-social behaviour\n",
            "Denbighshire  has the max crime rate of Anti-social behaviour\n",
            "Derby  has the max crime rate of Anti-social behaviour\n",
            "Derbyshire Dales  has the max crime rate of Anti-social behaviour\n",
            "Doncaster  has the max crime rate of Anti-social behaviour\n",
            "Dover  has the max crime rate of Violence and sexual offences\n",
            "Dudley  has the max crime rate of Anti-social behaviour\n",
            "Ealing  has the max crime rate of Anti-social behaviour\n",
            "East Cambridgeshire  has the max crime rate of Anti-social behaviour\n",
            "East Devon  has the max crime rate of Anti-social behaviour\n",
            "East Dorset  has the max crime rate of Anti-social behaviour\n",
            "East Hampshire  has the max crime rate of Anti-social behaviour\n",
            "East Hertfordshire  has the max crime rate of Anti-social behaviour\n",
            "East Lindsey  has the max crime rate of Anti-social behaviour\n",
            "East Northamptonshire  has the max crime rate of Anti-social behaviour\n",
            "East Riding of Yorkshire  has the max crime rate of Violence and sexual offences\n",
            "East Staffordshire  has the max crime rate of Anti-social behaviour\n",
            "Eastbourne  has the max crime rate of Anti-social behaviour\n",
            "Eastleigh  has the max crime rate of Anti-social behaviour\n",
            "Eden  has the max crime rate of Anti-social behaviour\n",
            "Elmbridge  has the max crime rate of Anti-social behaviour\n",
            "Enfield  has the max crime rate of Anti-social behaviour\n",
            "Epping Forest  has the max crime rate of Anti-social behaviour\n",
            "Epsom and Ewell  has the max crime rate of Anti-social behaviour\n",
            "Erewash  has the max crime rate of Anti-social behaviour\n",
            "Exeter  has the max crime rate of Anti-social behaviour\n",
            "Fareham  has the max crime rate of Anti-social behaviour\n",
            "Fenland  has the max crime rate of Anti-social behaviour\n",
            "Flintshire  has the max crime rate of Anti-social behaviour\n",
            "Forest Heath  has the max crime rate of Violence and sexual offences\n",
            "Forest of Dean  has the max crime rate of Anti-social behaviour\n",
            "Fylde  has the max crime rate of Anti-social behaviour\n",
            "Gateshead  has the max crime rate of Anti-social behaviour\n",
            "Gedling  has the max crime rate of Anti-social behaviour\n",
            "Gloucester  has the max crime rate of Anti-social behaviour\n",
            "Gosport  has the max crime rate of Anti-social behaviour\n",
            "Gravesham  has the max crime rate of Violence and sexual offences\n",
            "Great Yarmouth  has the max crime rate of Anti-social behaviour\n",
            "Greenwich  has the max crime rate of Violence and sexual offences\n",
            "Guildford  has the max crime rate of Anti-social behaviour\n",
            "Gwynedd  has the max crime rate of Anti-social behaviour\n",
            "Hackney  has the max crime rate of Anti-social behaviour\n",
            "Halton  has the max crime rate of Anti-social behaviour\n",
            "Hambleton  has the max crime rate of Anti-social behaviour\n",
            "Hammersmith and Fulham  has the max crime rate of Anti-social behaviour\n",
            "Harborough  has the max crime rate of Anti-social behaviour\n",
            "Haringey  has the max crime rate of Violence and sexual offences\n",
            "Harlow  has the max crime rate of Anti-social behaviour\n",
            "Harrogate  has the max crime rate of Anti-social behaviour\n",
            "Harrow  has the max crime rate of Anti-social behaviour\n",
            "Hart  has the max crime rate of Anti-social behaviour\n",
            "Hartlepool  has the max crime rate of Anti-social behaviour\n",
            "Hastings  has the max crime rate of Anti-social behaviour\n",
            "Havant  has the max crime rate of Anti-social behaviour\n",
            "Havering  has the max crime rate of Violence and sexual offences\n",
            "Herefordshire  has the max crime rate of Anti-social behaviour\n",
            "Hertsmere  has the max crime rate of Anti-social behaviour\n",
            "High Peak  has the max crime rate of Anti-social behaviour\n",
            "Hillingdon  has the max crime rate of Anti-social behaviour\n",
            "Hinckley and Bosworth  has the max crime rate of Violence and sexual offences\n",
            "Horsham  has the max crime rate of Anti-social behaviour\n",
            "Hounslow  has the max crime rate of Anti-social behaviour\n",
            "Huntingdonshire  has the max crime rate of Anti-social behaviour\n",
            "Hyndburn  has the max crime rate of Anti-social behaviour\n",
            "Ipswich  has the max crime rate of Violence and sexual offences\n",
            "Isle of Anglesey  has the max crime rate of Anti-social behaviour\n",
            "Isle of Wight  has the max crime rate of Anti-social behaviour\n",
            "Isles of Scilly  has the max crime rate of Violence and sexual offences\n",
            "Islington  has the max crime rate of Violence and sexual offences\n",
            "Kensington and Chelsea  has the max crime rate of Anti-social behaviour\n",
            "Kettering  has the max crime rate of Anti-social behaviour\n",
            "King has the max crime rate of Anti-social behaviour\n",
            "Kingston upon Hull  has the max crime rate of Violence and sexual offences\n",
            "Kingston upon Thames  has the max crime rate of Anti-social behaviour\n",
            "Kirklees  has the max crime rate of Anti-social behaviour\n",
            "Knowsley  has the max crime rate of Anti-social behaviour\n",
            "Lambeth  has the max crime rate of Anti-social behaviour\n",
            "Lancaster  has the max crime rate of Anti-social behaviour\n",
            "Leeds  has the max crime rate of Violence and sexual offences\n",
            "Leicester  has the max crime rate of Violence and sexual offences\n",
            "Lewes  has the max crime rate of Anti-social behaviour\n",
            "Lewisham  has the max crime rate of Violence and sexual offences\n",
            "Lichfield  has the max crime rate of Anti-social behaviour\n",
            "Lincoln  has the max crime rate of Anti-social behaviour\n",
            "Liverpool  has the max crime rate of Anti-social behaviour\n",
            "Luton  has the max crime rate of Anti-social behaviour\n",
            "Maidstone  has the max crime rate of Violence and sexual offences\n",
            "Maldon  has the max crime rate of Anti-social behaviour\n",
            "Malvern Hills  has the max crime rate of Anti-social behaviour\n",
            "Manchester  has the max crime rate of Anti-social behaviour\n",
            "Mansfield  has the max crime rate of Anti-social behaviour\n",
            "Medway  has the max crime rate of Violence and sexual offences\n",
            "Melton  has the max crime rate of Violence and sexual offences\n",
            "Mendip  has the max crime rate of Anti-social behaviour\n",
            "Merthyr Tydfil  has the max crime rate of Violence and sexual offences\n",
            "Merton  has the max crime rate of Anti-social behaviour\n",
            "Mid Devon  has the max crime rate of Anti-social behaviour\n",
            "Mid Suffolk  has the max crime rate of Violence and sexual offences\n",
            "Mid Sussex  has the max crime rate of Anti-social behaviour\n",
            "Middlesbrough  has the max crime rate of Anti-social behaviour\n",
            "Milton Keynes  has the max crime rate of Violence and sexual offences\n",
            "Mole Valley  has the max crime rate of Anti-social behaviour\n",
            "Monmouthshire  has the max crime rate of Anti-social behaviour\n",
            "Neath Port Talbot  has the max crime rate of Violence and sexual offences\n",
            "New Forest  has the max crime rate of Anti-social behaviour\n",
            "Newark and Sherwood  has the max crime rate of Anti-social behaviour\n",
            "Newcastle has the max crime rate of Anti-social behaviour\n",
            "Newcastle upon Tyne  has the max crime rate of Anti-social behaviour\n",
            "Newham  has the max crime rate of Violence and sexual offences\n",
            "Newport  has the max crime rate of Anti-social behaviour\n",
            "North Devon  has the max crime rate of Anti-social behaviour\n",
            "North Dorset  has the max crime rate of Anti-social behaviour\n",
            "North East Derbyshire  has the max crime rate of Anti-social behaviour\n",
            "North East Lincolnshire  has the max crime rate of Violence and sexual offences\n",
            "North Hertfordshire  has the max crime rate of Anti-social behaviour\n",
            "North Kesteven  has the max crime rate of Anti-social behaviour\n",
            "North Lincolnshire  has the max crime rate of Violence and sexual offences\n",
            "North Norfolk  has the max crime rate of Anti-social behaviour\n",
            "North Somerset  has the max crime rate of Violence and sexual offences\n",
            "North Tyneside  has the max crime rate of Anti-social behaviour\n",
            "North Warwickshire  has the max crime rate of Anti-social behaviour\n",
            "North West Leicestershire  has the max crime rate of Anti-social behaviour\n",
            "Northampton  has the max crime rate of Anti-social behaviour\n",
            "Northumberland  has the max crime rate of Anti-social behaviour\n",
            "Norwich  has the max crime rate of Anti-social behaviour\n",
            "Nottingham  has the max crime rate of Anti-social behaviour\n",
            "Nuneaton and Bedworth  has the max crime rate of Anti-social behaviour\n",
            "Oadby and Wigston  has the max crime rate of Anti-social behaviour\n",
            "Oldham  has the max crime rate of Anti-social behaviour\n",
            "Oxford  has the max crime rate of Violence and sexual offences\n",
            "Pembrokeshire  has the max crime rate of Anti-social behaviour\n",
            "Pendle  has the max crime rate of Anti-social behaviour\n",
            "Peterborough  has the max crime rate of Anti-social behaviour\n",
            "Plymouth  has the max crime rate of Anti-social behaviour\n",
            "Poole  has the max crime rate of Anti-social behaviour\n",
            "Portsmouth  has the max crime rate of Anti-social behaviour\n",
            "Powys  has the max crime rate of Anti-social behaviour\n",
            "Preston  has the max crime rate of Anti-social behaviour\n",
            "Purbeck  has the max crime rate of Anti-social behaviour\n",
            "Reading  has the max crime rate of Violence and sexual offences\n",
            "Redbridge  has the max crime rate of Anti-social behaviour\n",
            "Redcar and Cleveland  has the max crime rate of Anti-social behaviour\n",
            "Redditch  has the max crime rate of Anti-social behaviour\n",
            "Reigate and Banstead  has the max crime rate of Anti-social behaviour\n",
            "Rhondda Cynon Taf  has the max crime rate of Anti-social behaviour\n",
            "Ribble Valley  has the max crime rate of Anti-social behaviour\n",
            "Richmond upon Thames  has the max crime rate of Anti-social behaviour\n",
            "Richmondshire  has the max crime rate of Anti-social behaviour\n",
            "Rochdale  has the max crime rate of Anti-social behaviour\n",
            "Rochford  has the max crime rate of Anti-social behaviour\n",
            "Rossendale  has the max crime rate of Anti-social behaviour\n",
            "Rother  has the max crime rate of Anti-social behaviour\n",
            "Rotherham  has the max crime rate of Anti-social behaviour\n",
            "Rugby  has the max crime rate of Anti-social behaviour\n",
            "Runnymede  has the max crime rate of Anti-social behaviour\n",
            "Rushcliffe  has the max crime rate of Anti-social behaviour\n",
            "Rushmoor  has the max crime rate of Anti-social behaviour\n",
            "Rutland  has the max crime rate of Violence and sexual offences\n",
            "Ryedale  has the max crime rate of Anti-social behaviour\n",
            "Salford  has the max crime rate of Anti-social behaviour\n",
            "Sandwell  has the max crime rate of Violence and sexual offences\n",
            "Scarborough  has the max crime rate of Anti-social behaviour\n",
            "Sedgemoor  has the max crime rate of Violence and sexual offences\n",
            "Sefton  has the max crime rate of Anti-social behaviour\n",
            "Selby  has the max crime rate of Anti-social behaviour\n",
            "Sevenoaks  has the max crime rate of Violence and sexual offences\n",
            "Sheffield  has the max crime rate of Anti-social behaviour\n",
            "Shepway  has the max crime rate of Violence and sexual offences\n",
            "Shropshire  has the max crime rate of Anti-social behaviour\n",
            "Slough  has the max crime rate of Violence and sexual offences\n",
            "Solihull  has the max crime rate of Anti-social behaviour\n",
            "South Bucks  has the max crime rate of Violence and sexual offences\n",
            "South Cambridgeshire  has the max crime rate of Anti-social behaviour\n",
            "South Derbyshire  has the max crime rate of Anti-social behaviour\n",
            "South Gloucestershire  has the max crime rate of Anti-social behaviour\n",
            "South Hams  has the max crime rate of Anti-social behaviour\n",
            "South Holland  has the max crime rate of Anti-social behaviour\n",
            "South Kesteven  has the max crime rate of Anti-social behaviour\n",
            "South Lakeland  has the max crime rate of Anti-social behaviour\n",
            "South Norfolk  has the max crime rate of Violence and sexual offences\n",
            "South Northamptonshire  has the max crime rate of Anti-social behaviour\n",
            "South Oxfordshire  has the max crime rate of Violence and sexual offences\n",
            "South Ribble  has the max crime rate of Anti-social behaviour\n",
            "South Somerset  has the max crime rate of Violence and sexual offences\n",
            "South Staffordshire  has the max crime rate of Anti-social behaviour\n",
            "South Tyneside  has the max crime rate of Anti-social behaviour\n",
            "Southampton  has the max crime rate of Anti-social behaviour\n",
            "Southend has the max crime rate of Anti-social behaviour\n",
            "Southwark  has the max crime rate of Violence and sexual offences\n",
            "Spelthorne  has the max crime rate of Anti-social behaviour\n",
            "St has the max crime rate of Anti-social behaviour\n",
            "St Albans  has the max crime rate of Anti-social behaviour\n",
            "St Edmundsbury  has the max crime rate of Violence and sexual offences\n",
            "Stafford  has the max crime rate of Anti-social behaviour\n",
            "Staffordshire Moorlands  has the max crime rate of Anti-social behaviour\n",
            "Stevenage  has the max crime rate of Anti-social behaviour\n",
            "Stockport  has the max crime rate of Anti-social behaviour\n",
            "Stockton has the max crime rate of Anti-social behaviour\n",
            "Stoke has the max crime rate of Anti-social behaviour\n",
            "Stratford has the max crime rate of Anti-social behaviour\n",
            "Stroud  has the max crime rate of Anti-social behaviour\n",
            "Suffolk Coastal  has the max crime rate of Violence and sexual offences\n",
            "Sunderland  has the max crime rate of Anti-social behaviour\n",
            "Surrey Heath  has the max crime rate of Anti-social behaviour\n",
            "Sutton  has the max crime rate of Violence and sexual offences\n",
            "Swale  has the max crime rate of Violence and sexual offences\n",
            "Swansea  has the max crime rate of Anti-social behaviour\n",
            "Swindon  has the max crime rate of Anti-social behaviour\n",
            "Tameside  has the max crime rate of Anti-social behaviour\n",
            "Tamworth  has the max crime rate of Anti-social behaviour\n",
            "Tandridge  has the max crime rate of Anti-social behaviour\n",
            "Taunton Deane  has the max crime rate of Anti-social behaviour\n",
            "Teignbridge  has the max crime rate of Anti-social behaviour\n",
            "Telford and Wrekin  has the max crime rate of Anti-social behaviour\n",
            "Tendring  has the max crime rate of Anti-social behaviour\n",
            "Test Valley  has the max crime rate of Anti-social behaviour\n",
            "Tewkesbury  has the max crime rate of Anti-social behaviour\n",
            "Thanet  has the max crime rate of Violence and sexual offences\n",
            "The Vale of Glamorgan  has the max crime rate of Violence and sexual offences\n",
            "Three Rivers  has the max crime rate of Anti-social behaviour\n",
            "Thurrock  has the max crime rate of Anti-social behaviour\n",
            "Tonbridge and Malling  has the max crime rate of Violence and sexual offences\n",
            "Torbay  has the max crime rate of Anti-social behaviour\n",
            "Torfaen  has the max crime rate of Anti-social behaviour\n",
            "Torridge  has the max crime rate of Anti-social behaviour\n",
            "Tower Hamlets  has the max crime rate of Anti-social behaviour\n",
            "Trafford  has the max crime rate of Anti-social behaviour\n",
            "Tunbridge Wells  has the max crime rate of Violence and sexual offences\n",
            "Uttlesford  has the max crime rate of Anti-social behaviour\n",
            "Vale of White Horse  has the max crime rate of Anti-social behaviour\n",
            "Wakefield  has the max crime rate of Anti-social behaviour\n",
            "Walsall  has the max crime rate of Anti-social behaviour\n",
            "Waltham Forest  has the max crime rate of Anti-social behaviour\n",
            "Wandsworth  has the max crime rate of Violence and sexual offences\n",
            "Warrington  has the max crime rate of Anti-social behaviour\n",
            "Warwick  has the max crime rate of Anti-social behaviour\n",
            "Watford  has the max crime rate of Anti-social behaviour\n",
            "Waveney  has the max crime rate of Violence and sexual offences\n",
            "Waverley  has the max crime rate of Anti-social behaviour\n",
            "Wealden  has the max crime rate of Anti-social behaviour\n",
            "Wellingborough  has the max crime rate of Anti-social behaviour\n",
            "Welwyn Hatfield  has the max crime rate of Anti-social behaviour\n",
            "West Berkshire  has the max crime rate of Anti-social behaviour\n",
            "West Devon  has the max crime rate of Anti-social behaviour\n",
            "West Dorset  has the max crime rate of Anti-social behaviour\n",
            "West Lancashire  has the max crime rate of Anti-social behaviour\n",
            "West Lindsey  has the max crime rate of Anti-social behaviour\n",
            "West Oxfordshire  has the max crime rate of Anti-social behaviour\n",
            "West Somerset  has the max crime rate of Violence and sexual offences\n",
            "Westminster  has the max crime rate of Anti-social behaviour\n",
            "Weymouth and Portland  has the max crime rate of Anti-social behaviour\n",
            "Wigan  has the max crime rate of Anti-social behaviour\n",
            "Wiltshire  has the max crime rate of Anti-social behaviour\n",
            "Winchester  has the max crime rate of Anti-social behaviour\n",
            "Windsor and Maidenhead  has the max crime rate of Violence and sexual offences\n",
            "Wirral  has the max crime rate of Anti-social behaviour\n",
            "Woking  has the max crime rate of Anti-social behaviour\n",
            "Wokingham  has the max crime rate of Anti-social behaviour\n",
            "Wolverhampton  has the max crime rate of Violence and sexual offences\n",
            "Worcester  has the max crime rate of Anti-social behaviour\n",
            "Worthing  has the max crime rate of Anti-social behaviour\n",
            "Wrexham  has the max crime rate of Anti-social behaviour\n",
            "Wychavon  has the max crime rate of Anti-social behaviour\n",
            "Wycombe  has the max crime rate of Violence and sexual offences\n",
            "Wyre  has the max crime rate of Anti-social behaviour\n",
            "Wyre Forest  has the max crime rate of Anti-social behaviour\n",
            "York  has the max crime rate of Anti-social behaviour\n"
          ]
        }
      ],
      "source": [
        "for i,x in df.groupby('region')['crime_type'].agg(pd.Series.mode).items():\n",
        "  print(i,'has the max crime rate of',x)"
      ]
    },
    {
      "cell_type": "markdown",
      "metadata": {
        "id": "ZepITgyNEnC8"
      },
      "source": [
        "## Testing claims"
      ]
    },
    {
      "cell_type": "markdown",
      "metadata": {
        "id": "SVpunwcNErTv"
      },
      "source": [
        "### Claim 1"
      ]
    },
    {
      "cell_type": "code",
      "execution_count": null,
      "metadata": {
        "colab": {
          "base_uri": "https://localhost:8080/",
          "height": 187
        },
        "id": "ppJ_ZNgAQorb",
        "outputId": "ec37cef0-4c5b-4cd5-9e2a-8dfc8f43a4f3",
        "vscode": {
          "languageId": "python"
        }
      },
      "outputs": [
        {
          "data": {
            "image/png": "[encoded data removed]",
            "text/plain": [
              "<Figure size 1528.8x288 with 1 Axes>"
            ]
          },
          "metadata": {
            "needs_background": "light",
            "tags": []
          },
          "output_type": "display_data"
        }
      ],
      "source": [
        "plt.plot(df.groupby('time')['crime_type'].count())\n",
        "plt.xticks(rotation='vertical')\n",
        "plt.grid()\n",
        "N=150\n",
        "plt.gca().margins(x=0)\n",
        "plt.gcf().canvas.draw()\n",
        "tl = plt.gca().get_xticklabels()\n",
        "maxsize = max([t.get_window_extent().width for t in tl])\n",
        "m = 0.2 \n",
        "s = maxsize/plt.gcf().dpi*N+2*m\n",
        "margin = m/plt.gcf().get_size_inches()[0]\n",
        "\n",
        "plt.gcf().subplots_adjust(left=margin, right=1.-margin)\n",
        "plt.gcf().set_size_inches(s, plt.gcf().get_size_inches()[1])\n",
        "plt.show()"
      ]
    },
    {
      "cell_type": "markdown",
      "metadata": {
        "id": "ESHSzNFVEyCH"
      },
      "source": [
        "According to the above graph, claim 1 is true"
      ]
    },
    {
      "cell_type": "markdown",
      "metadata": {
        "id": "RGKt1JB7E8EB"
      },
      "source": [
        "### Claim 2"
      ]
    },
    {
      "cell_type": "code",
      "execution_count": null,
      "metadata": {
        "colab": {
          "base_uri": "https://localhost:8080/",
          "height": 936
        },
        "id": "ONTAPGSDnM4X",
        "outputId": "b3ed610b-aae6-490a-f53f-e5fd50f8ce79",
        "vscode": {
          "languageId": "python"
        }
      },
      "outputs": [
        {
          "data": {
            "image/png": "[encoded data removed]",
            "text/plain": [
              "<Figure size 1528.8x288 with 1 Axes>"
            ]
          },
          "metadata": {
            "needs_background": "light",
            "tags": []
          },
          "output_type": "display_data"
        },
        {
          "data": {
            "image/png": "[encoded data removed]",
            "text/plain": [
              "<Figure size 1528.8x288 with 1 Axes>"
            ]
          },
          "metadata": {
            "needs_background": "light",
            "tags": []
          },
          "output_type": "display_data"
        },
        {
          "data": {
            "image/png": "[encoded data removed]",
            "text/plain": [
              "<Figure size 1528.8x288 with 1 Axes>"
            ]
          },
          "metadata": {
            "needs_background": "light",
            "tags": []
          },
          "output_type": "display_data"
        },
        {
          "data": {
            "image/png": "[encoded data removed]",
            "text/plain": [
              "<Figure size 1528.8x288 with 1 Axes>"
            ]
          },
          "metadata": {
            "needs_background": "light",
            "tags": []
          },
          "output_type": "display_data"
        }
      ],
      "source": [
        "def plot_crimes(x,c,b):\n",
        "  barlist = plt.bar(['Birmingham']+c[87*x:87*(x+1)].index.tolist(),height=[b] + c[87*x:87*(x+1)].tolist())\n",
        "  barlist[0].set_color('r')\n",
        "  plt.xticks(rotation='vertical')\n",
        "  plt.grid()\n",
        "  N=150\n",
        "  plt.gca().margins(x=0)\n",
        "  plt.gcf().canvas.draw()\n",
        "  tl = plt.gca().get_xticklabels()\n",
        "  maxsize = max([t.get_window_extent().width for t in tl])\n",
        "  m = 0.2 \n",
        "  s = maxsize/plt.gcf().dpi*N+2*m\n",
        "  margin = m/plt.gcf().get_size_inches()[0]\n",
        "\n",
        "  plt.gcf().subplots_adjust(left=margin, right=1.-margin)\n",
        "  plt.gcf().set_size_inches(s, plt.gcf().get_size_inches()[1])\n",
        "  plt.show()\n",
        "for i in range(4):\n",
        "  b=crime_count[18]\n",
        "  plot_crimes(i,crime_count.drop('Birmingham '),b)"
      ]
    },
    {
      "cell_type": "markdown",
      "metadata": {
        "id": "3L69TirxFmhH"
      },
      "source": [
        "Claim 2 is also true"
      ]
    },
    {
      "cell_type": "markdown",
      "metadata": {
        "id": "GcosGw0zGu-D"
      },
      "source": [
        "# Prediction, Clustering and Outlier Analyses"
      ]
    },
    {
      "cell_type": "code",
      "execution_count": null,
      "metadata": {
        "colab": {
          "base_uri": "https://localhost:8080/",
          "height": 612
        },
        "id": "HP-T7sJe9c61",
        "outputId": "3579da5a-6eb8-4e94-850e-bc63851ebb6f",
        "vscode": {
          "languageId": "python"
        }
      },
      "outputs": [
        {
          "data": {
            "text/html": [
              "<div>\n",
              "<style scoped>\n",
              "    .dataframe tbody tr th:only-of-type {\n",
              "        vertical-align: middle;\n",
              "    }\n",
              "\n",
              "    .dataframe tbody tr th {\n",
              "        vertical-align: top;\n",
              "    }\n",
              "\n",
              "    .dataframe thead th {\n",
              "        text-align: right;\n",
              "    }\n",
              "</style>\n",
              "<table border=\"1\" class=\"dataframe\">\n",
              "  <thead>\n",
              "    <tr style=\"text-align: right;\">\n",
              "      <th></th>\n",
              "      <th>crime_type</th>\n",
              "      <th>last_outcome_cat</th>\n",
              "      <th>Variable: Males; measures: Value</th>\n",
              "      <th>Variable: Females; measures: Value</th>\n",
              "      <th>Variable: Lives in a household; measures: Value</th>\n",
              "      <th>Variable: Lives in a communal establishment; measures: Value</th>\n",
              "      <th>Variable: Schoolchild or full-time student aged 4 and over at their non term-time address; measures: Value</th>\n",
              "      <th>Variable: Density (number of persons per hectare); measures: Value</th>\n",
              "      <th>region</th>\n",
              "    </tr>\n",
              "  </thead>\n",
              "  <tbody>\n",
              "    <tr>\n",
              "      <th>0</th>\n",
              "      <td>Anti-social behaviour</td>\n",
              "      <td>NaN</td>\n",
              "      <td>789.0</td>\n",
              "      <td>835.0</td>\n",
              "      <td>1624.0</td>\n",
              "      <td>0.0</td>\n",
              "      <td>16.0</td>\n",
              "      <td>3.9</td>\n",
              "      <td>Bath and North East Somerset</td>\n",
              "    </tr>\n",
              "    <tr>\n",
              "      <th>1</th>\n",
              "      <td>Violence and sexual offences</td>\n",
              "      <td>Under investigation</td>\n",
              "      <td>789.0</td>\n",
              "      <td>835.0</td>\n",
              "      <td>1624.0</td>\n",
              "      <td>0.0</td>\n",
              "      <td>16.0</td>\n",
              "      <td>3.9</td>\n",
              "      <td>Bath and North East Somerset</td>\n",
              "    </tr>\n",
              "    <tr>\n",
              "      <th>2</th>\n",
              "      <td>Violence and sexual offences</td>\n",
              "      <td>Under investigation</td>\n",
              "      <td>789.0</td>\n",
              "      <td>835.0</td>\n",
              "      <td>1624.0</td>\n",
              "      <td>0.0</td>\n",
              "      <td>16.0</td>\n",
              "      <td>3.9</td>\n",
              "      <td>Bath and North East Somerset</td>\n",
              "    </tr>\n",
              "    <tr>\n",
              "      <th>3</th>\n",
              "      <td>Anti-social behaviour</td>\n",
              "      <td>NaN</td>\n",
              "      <td>933.0</td>\n",
              "      <td>1011.0</td>\n",
              "      <td>1906.0</td>\n",
              "      <td>38.0</td>\n",
              "      <td>36.0</td>\n",
              "      <td>22.3</td>\n",
              "      <td>Bath and North East Somerset</td>\n",
              "    </tr>\n",
              "    <tr>\n",
              "      <th>4</th>\n",
              "      <td>Criminal damage and arson</td>\n",
              "      <td>Investigation complete; no suspect identified</td>\n",
              "      <td>933.0</td>\n",
              "      <td>1011.0</td>\n",
              "      <td>1906.0</td>\n",
              "      <td>38.0</td>\n",
              "      <td>36.0</td>\n",
              "      <td>22.3</td>\n",
              "      <td>Bath and North East Somerset</td>\n",
              "    </tr>\n",
              "  </tbody>\n",
              "</table>\n",
              "</div>"
            ],
            "text/plain": [
              "                     crime_type  ...                         region\n",
              "0         Anti-social behaviour  ...  Bath and North East Somerset \n",
              "1  Violence and sexual offences  ...  Bath and North East Somerset \n",
              "2  Violence and sexual offences  ...  Bath and North East Somerset \n",
              "3         Anti-social behaviour  ...  Bath and North East Somerset \n",
              "4     Criminal damage and arson  ...  Bath and North East Somerset \n",
              "\n",
              "[5 rows x 9 columns]"
            ]
          },
          "execution_count": 23,
          "metadata": {
            "tags": []
          },
          "output_type": "execute_result"
        }
      ],
      "source": [
        "#Dropping uncessary variables\n",
        "newdf = df.copy()\n",
        "newdf.drop(['id', 'crime_id', 'time', 'date', 'Rural Urban', 'context', 'reported_by', 'LSOA_name', 'geography code','Variable: Area (Hectares); measures: Value', 'Variable: All usual residents; measures: Value', 'geography', 'location', 'latitude', 'longitude', 'falls_within'], axis=1, inplace=True)\n",
        "newdf.head()"
      ]
    },
    {
      "cell_type": "markdown",
      "metadata": {
        "id": "wdksm4CpG9Gr"
      },
      "source": [
        "## Perform cluster analyses on the data, primarily on location and crime types:"
      ]
    },
    {
      "cell_type": "code",
      "execution_count": null,
      "metadata": {
        "colab": {
          "base_uri": "https://localhost:8080/",
          "height": 357
        },
        "id": "uVev2UhtS70k",
        "outputId": "73a24d20-025e-49af-e5b1-10e8537b11aa",
        "vscode": {
          "languageId": "python"
        }
      },
      "outputs": [
        {
          "data": {
            "text/html": [
              "<div>\n",
              "<style scoped>\n",
              "    .dataframe tbody tr th:only-of-type {\n",
              "        vertical-align: middle;\n",
              "    }\n",
              "\n",
              "    .dataframe tbody tr th {\n",
              "        vertical-align: top;\n",
              "    }\n",
              "\n",
              "    .dataframe thead th {\n",
              "        text-align: right;\n",
              "    }\n",
              "</style>\n",
              "<table border=\"1\" class=\"dataframe\">\n",
              "  <thead>\n",
              "    <tr style=\"text-align: right;\">\n",
              "      <th></th>\n",
              "      <th>crime_type</th>\n",
              "      <th>last_outcome_cat</th>\n",
              "      <th>Variable: Males; measures: Value</th>\n",
              "      <th>Variable: Females; measures: Value</th>\n",
              "      <th>Variable: Lives in a household; measures: Value</th>\n",
              "      <th>Variable: Lives in a communal establishment; measures: Value</th>\n",
              "      <th>Variable: Schoolchild or full-time student aged 4 and over at their non term-time address; measures: Value</th>\n",
              "      <th>Variable: Density (number of persons per hectare); measures: Value</th>\n",
              "      <th>region</th>\n",
              "    </tr>\n",
              "  </thead>\n",
              "  <tbody>\n",
              "    <tr>\n",
              "      <th>0</th>\n",
              "      <td>0</td>\n",
              "      <td>10</td>\n",
              "      <td>789.0</td>\n",
              "      <td>835.0</td>\n",
              "      <td>1624.0</td>\n",
              "      <td>0.0</td>\n",
              "      <td>16.0</td>\n",
              "      <td>3.9</td>\n",
              "      <td>15</td>\n",
              "    </tr>\n",
              "    <tr>\n",
              "      <th>1</th>\n",
              "      <td>5</td>\n",
              "      <td>26</td>\n",
              "      <td>789.0</td>\n",
              "      <td>835.0</td>\n",
              "      <td>1624.0</td>\n",
              "      <td>0.0</td>\n",
              "      <td>16.0</td>\n",
              "      <td>3.9</td>\n",
              "      <td>15</td>\n",
              "    </tr>\n",
              "    <tr>\n",
              "      <th>2</th>\n",
              "      <td>5</td>\n",
              "      <td>26</td>\n",
              "      <td>789.0</td>\n",
              "      <td>835.0</td>\n",
              "      <td>1624.0</td>\n",
              "      <td>0.0</td>\n",
              "      <td>16.0</td>\n",
              "      <td>3.9</td>\n",
              "      <td>15</td>\n",
              "    </tr>\n",
              "    <tr>\n",
              "      <th>3</th>\n",
              "      <td>0</td>\n",
              "      <td>10</td>\n",
              "      <td>933.0</td>\n",
              "      <td>1011.0</td>\n",
              "      <td>1906.0</td>\n",
              "      <td>38.0</td>\n",
              "      <td>36.0</td>\n",
              "      <td>22.3</td>\n",
              "      <td>15</td>\n",
              "    </tr>\n",
              "    <tr>\n",
              "      <th>4</th>\n",
              "      <td>1</td>\n",
              "      <td>8</td>\n",
              "      <td>933.0</td>\n",
              "      <td>1011.0</td>\n",
              "      <td>1906.0</td>\n",
              "      <td>38.0</td>\n",
              "      <td>36.0</td>\n",
              "      <td>22.3</td>\n",
              "      <td>15</td>\n",
              "    </tr>\n",
              "  </tbody>\n",
              "</table>\n",
              "</div>"
            ],
            "text/plain": [
              "   crime_type  ...  region\n",
              "0           0  ...      15\n",
              "1           5  ...      15\n",
              "2           5  ...      15\n",
              "3           0  ...      15\n",
              "4           1  ...      15\n",
              "\n",
              "[5 rows x 9 columns]"
            ]
          },
          "execution_count": 24,
          "metadata": {
            "tags": []
          },
          "output_type": "execute_result"
        }
      ],
      "source": [
        "newdf.last_outcome_cat = newdf.last_outcome_cat.replace(np.nan,'None')\n",
        "# categorical to numeric encoder\n",
        "from sklearn.preprocessing import LabelEncoder\n",
        "le = LabelEncoder()\n",
        "# newdf['falls_within'] = le.fit_transform(newdf['falls_within'])\n",
        "# newdf['location'] = le.fit_transform(newdf['location'])\n",
        "newdf['crime_type'] = le.fit_transform(newdf['crime_type'])\n",
        "newdf['last_outcome_cat'] = le.fit_transform(newdf['last_outcome_cat'])\n",
        "newdf['region'] = le.fit_transform(newdf['region'])\n",
        "newdf.head()"
      ]
    },
    {
      "cell_type": "code",
      "execution_count": null,
      "metadata": {
        "colab": {
          "base_uri": "https://localhost:8080/"
        },
        "id": "-M5JjhqFhIDN",
        "outputId": "05b15e39-c9f7-46ff-d7a7-7b0ef3fe0ab6",
        "vscode": {
          "languageId": "python"
        }
      },
      "outputs": [
        {
          "data": {
            "text/plain": [
              "Index(['Variable: Males; measures: Value',\n",
              "       'Variable: Females; measures: Value',\n",
              "       'Variable: Lives in a household; measures: Value',\n",
              "       'Variable: Lives in a communal establishment; measures: Value',\n",
              "       'Variable: Schoolchild or full-time student aged 4 and over at their non term-time address; measures: Value',\n",
              "       'Variable: Density (number of persons per hectare); measures: Value'],\n",
              "      dtype='object')"
            ]
          },
          "execution_count": 25,
          "metadata": {
            "tags": []
          },
          "output_type": "execute_result"
        }
      ],
      "source": [
        "newdf.columns[-7:-1]"
      ]
    },
    {
      "cell_type": "code",
      "execution_count": null,
      "metadata": {
        "id": "0IAKImUUOUo-",
        "vscode": {
          "languageId": "python"
        }
      },
      "outputs": [],
      "source": [
        "# standardizing data\n",
        "columns_to_normalize     = newdf.columns[-7:-1]\n",
        "newdf[columns_to_normalize] = newdf[columns_to_normalize].apply(lambda x: (x - x.mean()) / np.std(x))"
      ]
    },
    {
      "cell_type": "code",
      "execution_count": null,
      "metadata": {
        "colab": {
          "base_uri": "https://localhost:8080/",
          "height": 357
        },
        "id": "vtj0xzIQhPhM",
        "outputId": "9840994d-d1e0-4135-b8c6-169e2c31785f",
        "vscode": {
          "languageId": "python"
        }
      },
      "outputs": [
        {
          "data": {
            "text/html": [
              "<div>\n",
              "<style scoped>\n",
              "    .dataframe tbody tr th:only-of-type {\n",
              "        vertical-align: middle;\n",
              "    }\n",
              "\n",
              "    .dataframe tbody tr th {\n",
              "        vertical-align: top;\n",
              "    }\n",
              "\n",
              "    .dataframe thead th {\n",
              "        text-align: right;\n",
              "    }\n",
              "</style>\n",
              "<table border=\"1\" class=\"dataframe\">\n",
              "  <thead>\n",
              "    <tr style=\"text-align: right;\">\n",
              "      <th></th>\n",
              "      <th>crime_type</th>\n",
              "      <th>last_outcome_cat</th>\n",
              "      <th>Variable: Males; measures: Value</th>\n",
              "      <th>Variable: Females; measures: Value</th>\n",
              "      <th>Variable: Lives in a household; measures: Value</th>\n",
              "      <th>Variable: Lives in a communal establishment; measures: Value</th>\n",
              "      <th>Variable: Schoolchild or full-time student aged 4 and over at their non term-time address; measures: Value</th>\n",
              "      <th>Variable: Density (number of persons per hectare); measures: Value</th>\n",
              "      <th>region</th>\n",
              "    </tr>\n",
              "  </thead>\n",
              "  <tbody>\n",
              "    <tr>\n",
              "      <th>0</th>\n",
              "      <td>0</td>\n",
              "      <td>10</td>\n",
              "      <td>-0.249605</td>\n",
              "      <td>-0.054682</td>\n",
              "      <td>-0.034133</td>\n",
              "      <td>-0.222346</td>\n",
              "      <td>-0.022276</td>\n",
              "      <td>-1.029546</td>\n",
              "      <td>15</td>\n",
              "    </tr>\n",
              "    <tr>\n",
              "      <th>1</th>\n",
              "      <td>5</td>\n",
              "      <td>26</td>\n",
              "      <td>-0.249605</td>\n",
              "      <td>-0.054682</td>\n",
              "      <td>-0.034133</td>\n",
              "      <td>-0.222346</td>\n",
              "      <td>-0.022276</td>\n",
              "      <td>-1.029546</td>\n",
              "      <td>15</td>\n",
              "    </tr>\n",
              "    <tr>\n",
              "      <th>2</th>\n",
              "      <td>5</td>\n",
              "      <td>26</td>\n",
              "      <td>-0.249605</td>\n",
              "      <td>-0.054682</td>\n",
              "      <td>-0.034133</td>\n",
              "      <td>-0.222346</td>\n",
              "      <td>-0.022276</td>\n",
              "      <td>-1.029546</td>\n",
              "      <td>15</td>\n",
              "    </tr>\n",
              "    <tr>\n",
              "      <th>3</th>\n",
              "      <td>0</td>\n",
              "      <td>10</td>\n",
              "      <td>0.452209</td>\n",
              "      <td>0.918392</td>\n",
              "      <td>0.867140</td>\n",
              "      <td>-0.054788</td>\n",
              "      <td>1.604884</td>\n",
              "      <td>-0.596473</td>\n",
              "      <td>15</td>\n",
              "    </tr>\n",
              "    <tr>\n",
              "      <th>4</th>\n",
              "      <td>1</td>\n",
              "      <td>8</td>\n",
              "      <td>0.452209</td>\n",
              "      <td>0.918392</td>\n",
              "      <td>0.867140</td>\n",
              "      <td>-0.054788</td>\n",
              "      <td>1.604884</td>\n",
              "      <td>-0.596473</td>\n",
              "      <td>15</td>\n",
              "    </tr>\n",
              "  </tbody>\n",
              "</table>\n",
              "</div>"
            ],
            "text/plain": [
              "   crime_type  ...  region\n",
              "0           0  ...      15\n",
              "1           5  ...      15\n",
              "2           5  ...      15\n",
              "3           0  ...      15\n",
              "4           1  ...      15\n",
              "\n",
              "[5 rows x 9 columns]"
            ]
          },
          "execution_count": 27,
          "metadata": {
            "tags": []
          },
          "output_type": "execute_result"
        }
      ],
      "source": [
        "newdf.head()"
      ]
    },
    {
      "cell_type": "code",
      "execution_count": null,
      "metadata": {
        "id": "jstEEm2YnODD",
        "vscode": {
          "languageId": "python"
        }
      },
      "outputs": [],
      "source": [
        "from kmodes.kmodes import KModes"
      ]
    },
    {
      "cell_type": "markdown",
      "metadata": {
        "id": "ZrMkjg5CHvxJ"
      },
      "source": [
        "### Finding the best k"
      ]
    },
    {
      "cell_type": "code",
      "execution_count": null,
      "metadata": {
        "colab": {
          "base_uri": "https://localhost:8080/",
          "height": 1000
        },
        "id": "VJ7w2mcDOl9C",
        "outputId": "4bc9df81-047b-42bd-fd57-5597e557cc4e",
        "vscode": {
          "languageId": "python"
        }
      },
      "outputs": [
        {
          "name": "stdout",
          "output_type": "stream",
          "text": [
            "1\n",
            "Init: initializing centroids\n",
            "Init: initializing clusters\n",
            "Starting iterations...\n",
            "Run 1, iteration: 1/100, moves: 0, cost: 15288.0\n",
            "2\n",
            "Init: initializing centroids\n",
            "Init: initializing clusters\n",
            "Starting iterations...\n",
            "Run 1, iteration: 1/100, moves: 0, cost: 11814.0\n",
            "3\n",
            "Init: initializing centroids\n",
            "Init: initializing clusters\n",
            "Starting iterations...\n",
            "Run 1, iteration: 1/100, moves: 0, cost: 11755.0\n",
            "4\n",
            "Init: initializing centroids\n",
            "Init: initializing clusters\n",
            "Starting iterations...\n",
            "Run 1, iteration: 1/100, moves: 0, cost: 11659.0\n",
            "5\n",
            "Init: initializing centroids\n",
            "Init: initializing clusters\n",
            "Starting iterations...\n",
            "Run 1, iteration: 1/100, moves: 0, cost: 11545.0\n",
            "6\n",
            "Init: initializing centroids\n",
            "Init: initializing clusters\n",
            "Starting iterations...\n",
            "Run 1, iteration: 1/100, moves: 0, cost: 11462.0\n",
            "7\n",
            "Init: initializing centroids\n",
            "Init: initializing clusters\n",
            "Starting iterations...\n",
            "Run 1, iteration: 1/100, moves: 0, cost: 11385.0\n"
          ]
        },
        {
          "data": {
            "image/png": "[encoded data removed]",
            "text/plain": [
              "<Figure size 432x288 with 1 Axes>"
            ]
          },
          "metadata": {
            "needs_background": "light",
            "tags": []
          },
          "output_type": "display_data"
        },
        {
          "name": "stdout",
          "output_type": "stream",
          "text": [
            "1\n",
            "Init: initializing centroids\n",
            "Init: initializing clusters\n",
            "Starting iterations...\n",
            "Run 1, iteration: 1/100, moves: 0, cost: 15270.0\n",
            "2\n",
            "Init: initializing centroids\n",
            "Init: initializing clusters\n",
            "Starting iterations...\n",
            "Run 1, iteration: 1/100, moves: 0, cost: 11843.0\n",
            "3\n",
            "Init: initializing centroids\n",
            "Init: initializing clusters\n",
            "Starting iterations...\n",
            "Run 1, iteration: 1/100, moves: 0, cost: 11774.0\n",
            "4\n",
            "Init: initializing centroids\n",
            "Init: initializing clusters\n",
            "Starting iterations...\n",
            "Run 1, iteration: 1/100, moves: 0, cost: 11680.0\n",
            "5\n",
            "Init: initializing centroids\n",
            "Init: initializing clusters\n",
            "Starting iterations...\n",
            "Run 1, iteration: 1/100, moves: 0, cost: 11583.0\n",
            "6\n",
            "Init: initializing centroids\n",
            "Init: initializing clusters\n",
            "Starting iterations...\n",
            "Run 1, iteration: 1/100, moves: 0, cost: 11488.0\n",
            "7\n",
            "Init: initializing centroids\n",
            "Init: initializing clusters\n",
            "Starting iterations...\n",
            "Run 1, iteration: 1/100, moves: 0, cost: 11418.0\n"
          ]
        },
        {
          "data": {
            "image/png": "[encoded data removed]",
            "text/plain": [
              "<Figure size 432x288 with 1 Axes>"
            ]
          },
          "metadata": {
            "needs_background": "light",
            "tags": []
          },
          "output_type": "display_data"
        },
        {
          "name": "stdout",
          "output_type": "stream",
          "text": [
            "1\n",
            "Init: initializing centroids\n",
            "Init: initializing clusters\n",
            "Starting iterations...\n",
            "Run 1, iteration: 1/100, moves: 0, cost: 15292.0\n",
            "2\n",
            "Init: initializing centroids\n",
            "Init: initializing clusters\n",
            "Starting iterations...\n",
            "Run 1, iteration: 1/100, moves: 0, cost: 11857.0\n",
            "3\n",
            "Init: initializing centroids\n",
            "Init: initializing clusters\n",
            "Starting iterations...\n",
            "Run 1, iteration: 1/100, moves: 0, cost: 11781.0\n",
            "4\n",
            "Init: initializing centroids\n",
            "Init: initializing clusters\n",
            "Starting iterations...\n",
            "Run 1, iteration: 1/100, moves: 0, cost: 11693.0\n",
            "5\n",
            "Init: initializing centroids\n",
            "Init: initializing clusters\n",
            "Starting iterations...\n",
            "Run 1, iteration: 1/100, moves: 0, cost: 11586.0\n",
            "6\n",
            "Init: initializing centroids\n",
            "Init: initializing clusters\n",
            "Starting iterations...\n",
            "Run 1, iteration: 1/100, moves: 0, cost: 11514.0\n",
            "7\n",
            "Init: initializing centroids\n",
            "Init: initializing clusters\n",
            "Starting iterations...\n",
            "Run 1, iteration: 1/100, moves: 0, cost: 11447.0\n"
          ]
        },
        {
          "data": {
            "image/png": "[encoded data removed]",
            "text/plain": [
              "<Figure size 432x288 with 1 Axes>"
            ]
          },
          "metadata": {
            "needs_background": "light",
            "tags": []
          },
          "output_type": "display_data"
        }
      ],
      "source": [
        "fitClusters_cao=[]\n",
        "for x in range(3):\n",
        "  cost = []\n",
        "  matrix = newdf[['region','crime_type']].sample(10000).to_numpy()\n",
        "  for num_clusters in list(range(1,8)):\n",
        "      print(num_clusters)\n",
        "      km_cao = KModes(n_clusters=num_clusters, init = \"Cao\", n_init = 1, verbose=1)\n",
        "      fitClusters_cao = km_cao.fit_predict(matrix)\n",
        "      # kproto = KPrototypes(n_clusters=num_clusters, init='Cao')\n",
        "      # kproto.fit_predict(matrix, categorical=[0,1,7])\n",
        "      cost.append(km_cao.cost_)\n",
        "      \n",
        "  plt.plot(range(1,8),cost)\n",
        "  # plt.xlim(1,8)\n",
        "  plt.xlabel('k')\n",
        "  plt.ylabel('Cost')\n",
        "\n",
        "  plt.show()"
      ]
    },
    {
      "cell_type": "code",
      "execution_count": null,
      "metadata": {
        "colab": {
          "base_uri": "https://localhost:8080/"
        },
        "id": "PSa9-ievqMzu",
        "outputId": "100d832b-b586-427e-bb77-65d7aed6e3bc",
        "vscode": {
          "languageId": "python"
        }
      },
      "outputs": [
        {
          "name": "stdout",
          "output_type": "stream",
          "text": [
            "Init: initializing centroids\n",
            "Init: initializing clusters\n",
            "Starting iterations...\n",
            "Run 1, iteration: 1/100, moves: 0, cost: 3972178.0\n"
          ]
        }
      ],
      "source": [
        "from kmodes.kmodes import KModes\n",
        "km_cao = KModes(n_clusters=2, init = \"Cao\", n_init = 1, verbose=1)\n",
        "fitClusters_cao = km_cao.fit_predict(newdf[['region','crime_type']].to_numpy())"
      ]
    },
    {
      "cell_type": "code",
      "execution_count": null,
      "metadata": {
        "id": "BEqg9-lJrFgf",
        "vscode": {
          "languageId": "python"
        }
      },
      "outputs": [],
      "source": [
        "newdf['cluster_id2'] = fitClusters_cao"
      ]
    },
    {
      "cell_type": "code",
      "execution_count": null,
      "metadata": {
        "colab": {
          "base_uri": "https://localhost:8080/"
        },
        "id": "HEay8TyHrbxR",
        "outputId": "00f178d7-933d-4ef4-f1eb-795dfca3afab",
        "vscode": {
          "languageId": "python"
        }
      },
      "outputs": [
        {
          "data": {
            "text/plain": [
              "0    1512153\n",
              "1     483560\n",
              "2     117363\n",
              "4      52594\n",
              "3      28393\n",
              "5      22328\n",
              "Name: crime_type, dtype: int64"
            ]
          },
          "execution_count": 49,
          "metadata": {
            "tags": []
          },
          "output_type": "execute_result"
        }
      ],
      "source": [
        "newdf[newdf['cluster_id2']==0]['crime_type'].value_counts()"
      ]
    },
    {
      "cell_type": "code",
      "execution_count": null,
      "metadata": {
        "colab": {
          "base_uri": "https://localhost:8080/"
        },
        "id": "lHa2yRCssxe2",
        "outputId": "7683c85c-a6cd-4d41-ce79-d7cf6da7728b",
        "vscode": {
          "languageId": "python"
        }
      },
      "outputs": [
        {
          "data": {
            "text/plain": [
              "5    1118791\n",
              "1       7974\n",
              "4       2176\n",
              "2       1465\n",
              "3        679\n",
              "Name: crime_type, dtype: int64"
            ]
          },
          "execution_count": 50,
          "metadata": {
            "tags": []
          },
          "output_type": "execute_result"
        }
      ],
      "source": [
        "newdf[newdf['cluster_id2']==1]['crime_type'].value_counts()\n"
      ]
    },
    {
      "cell_type": "code",
      "execution_count": null,
      "metadata": {
        "colab": {
          "base_uri": "https://localhost:8080/"
        },
        "id": "hcnBScxTsz46",
        "outputId": "d8d9a9fb-d8ef-421d-e613-35d9f3dedfab",
        "vscode": {
          "languageId": "python"
        }
      },
      "outputs": [
        {
          "data": {
            "text/plain": [
              "count    2.216391e+06\n",
              "mean     5.077989e-01\n",
              "std      9.586149e-01\n",
              "min      0.000000e+00\n",
              "25%      0.000000e+00\n",
              "50%      0.000000e+00\n",
              "75%      1.000000e+00\n",
              "max      5.000000e+00\n",
              "Name: crime_type, dtype: float64"
            ]
          },
          "execution_count": 52,
          "metadata": {
            "tags": []
          },
          "output_type": "execute_result"
        }
      ],
      "source": [
        "newdf[newdf['cluster_id2']==0]['crime_type'].describe()"
      ]
    },
    {
      "cell_type": "code",
      "execution_count": null,
      "metadata": {
        "colab": {
          "base_uri": "https://localhost:8080/"
        },
        "id": "mfCbcf7ptChZ",
        "outputId": "e55313f4-2fc2-4c9b-c177-061d9bf0196e",
        "vscode": {
          "languageId": "python"
        }
      },
      "outputs": [
        {
          "data": {
            "text/plain": [
              "array(['Anti-social behaviour', 'Violence and sexual offences',\n",
              "       'Criminal damage and arson', 'Drugs', 'Robbery',\n",
              "       'Possession of weapons'], dtype=object)"
            ]
          },
          "execution_count": 125,
          "metadata": {
            "tags": []
          },
          "output_type": "execute_result"
        }
      ],
      "source": [
        "df.crime_type.unique()"
      ]
    },
    {
      "cell_type": "code",
      "execution_count": null,
      "metadata": {
        "colab": {
          "base_uri": "https://localhost:8080/"
        },
        "id": "vcls_RaztOdo",
        "outputId": "f05ab7f8-c053-40d2-db24-4ccf9e8ec5bd",
        "vscode": {
          "languageId": "python"
        }
      },
      "outputs": [
        {
          "data": {
            "text/plain": [
              "Index(['id', 'crime_id', 'time', 'reported_by', 'falls_within', 'longitude',\n",
              "       'latitude', 'location', 'geography code', 'LSOA_name', 'crime_type',\n",
              "       'last_outcome_cat', 'context', 'date', 'geography', 'Rural Urban',\n",
              "       'Variable: All usual residents; measures: Value',\n",
              "       'Variable: Males; measures: Value',\n",
              "       'Variable: Females; measures: Value',\n",
              "       'Variable: Lives in a household; measures: Value',\n",
              "       'Variable: Lives in a communal establishment; measures: Value',\n",
              "       'Variable: Schoolchild or full-time student aged 4 and over at their non term-time address; measures: Value',\n",
              "       'Variable: Area (Hectares); measures: Value',\n",
              "       'Variable: Density (number of persons per hectare); measures: Value',\n",
              "       'region'],\n",
              "      dtype='object')"
            ]
          },
          "execution_count": 126,
          "metadata": {
            "tags": []
          },
          "output_type": "execute_result"
        }
      ],
      "source": [
        "df.columns"
      ]
    },
    {
      "cell_type": "markdown",
      "metadata": {
        "id": "wsxHeoD3H19z"
      },
      "source": [
        "### Training model"
      ]
    },
    {
      "cell_type": "code",
      "execution_count": null,
      "metadata": {
        "id": "N_wDxwRrPaF0",
        "vscode": {
          "languageId": "python"
        }
      },
      "outputs": [],
      "source": [
        "kproto = KPrototypes(n_clusters=3, init='Cao')\n",
        "clusters = kproto.fit_predict(newdf.to_numpy(), categorical=[0,1,7])\n",
        "newdf['cluster_id'] = clusters\n",
        "newdf['cluster_id'].to_csv('/content/gdrive/MyDrive/DM/clusters.csv')"
      ]
    },
    {
      "cell_type": "code",
      "execution_count": null,
      "metadata": {
        "id": "NXecUb-uYpNr",
        "vscode": {
          "languageId": "python"
        }
      },
      "outputs": [],
      "source": [
        "# newdf.crime_type.to_csv('/content/gdrive/MyDrive/DM/clusters.csv')"
      ]
    },
    {
      "cell_type": "code",
      "execution_count": null,
      "metadata": {
        "id": "YqwinlEZkSTO",
        "vscode": {
          "languageId": "python"
        }
      },
      "outputs": [],
      "source": [
        "newdf['cluster_id'] = pd.read_csv('/content/gdrive/MyDrive/DM/clusters.csv').iloc[:,1]"
      ]
    },
    {
      "cell_type": "code",
      "execution_count": null,
      "metadata": {
        "colab": {
          "base_uri": "https://localhost:8080/"
        },
        "id": "GdQ4XO2Tm9Mq",
        "outputId": "66989f26-179c-4450-f4c8-91746f89d371",
        "vscode": {
          "languageId": "python"
        }
      },
      "outputs": [
        {
          "data": {
            "text/plain": [
              "count    1.174719e+06\n",
              "mean     2.045290e+00\n",
              "std      2.264763e+00\n",
              "min      0.000000e+00\n",
              "25%      0.000000e+00\n",
              "50%      1.000000e+00\n",
              "75%      5.000000e+00\n",
              "max      5.000000e+00\n",
              "Name: crime_type, dtype: float64"
            ]
          },
          "execution_count": 103,
          "metadata": {
            "tags": []
          },
          "output_type": "execute_result"
        }
      ],
      "source": [
        "newdf[newdf['cluster_id']==1]['crime_type'].describe()"
      ]
    },
    {
      "cell_type": "code",
      "execution_count": null,
      "metadata": {
        "colab": {
          "base_uri": "https://localhost:8080/"
        },
        "id": "TNGBgexuoR_Y",
        "outputId": "53dfa03f-ca72-48b9-d035-8b381a2e2b61",
        "vscode": {
          "languageId": "python"
        }
      },
      "outputs": [
        {
          "data": {
            "text/plain": [
              "0    440288\n",
              "5    334361\n",
              "1    143027\n",
              "2     34113\n",
              "4     15879\n",
              "3      8656\n",
              "Name: crime_type, dtype: int64"
            ]
          },
          "execution_count": 100,
          "metadata": {
            "tags": []
          },
          "output_type": "execute_result"
        }
      ],
      "source": [
        "newdf[newdf['cluster_id']==0]['crime_type'].value_counts()"
      ]
    },
    {
      "cell_type": "code",
      "execution_count": null,
      "metadata": {
        "colab": {
          "base_uri": "https://localhost:8080/"
        },
        "id": "TWPErR4soSxA",
        "outputId": "62918428-cfc0-451b-e14f-6c9bf8da1dde",
        "vscode": {
          "languageId": "python"
        }
      },
      "outputs": [
        {
          "data": {
            "text/plain": [
              "0    470713\n",
              "5    357666\n",
              "1    152826\n",
              "2     36698\n",
              "4     17058\n",
              "3      9011\n",
              "Name: crime_type, dtype: int64"
            ]
          },
          "execution_count": 101,
          "metadata": {
            "tags": []
          },
          "output_type": "execute_result"
        }
      ],
      "source": [
        "newdf[newdf['cluster_id']==2]['crime_type'].value_counts()"
      ]
    },
    {
      "cell_type": "code",
      "execution_count": null,
      "metadata": {
        "colab": {
          "base_uri": "https://localhost:8080/"
        },
        "id": "rjq1k_aXoMHS",
        "outputId": "493a5751-fcc6-4ad5-eee9-f78b81e25aa2",
        "vscode": {
          "languageId": "python"
        }
      },
      "outputs": [
        {
          "data": {
            "text/plain": [
              "18     23174\n",
              "170    19578\n",
              "159    18328\n",
              "73     15520\n",
              "35     13821\n",
              "       ...  \n",
              "329      397\n",
              "236      378\n",
              "297      327\n",
              "238      205\n",
              "148        6\n",
              "Name: region, Length: 348, dtype: int64"
            ]
          },
          "execution_count": 99,
          "metadata": {
            "tags": []
          },
          "output_type": "execute_result"
        }
      ],
      "source": [
        "newdf[newdf['cluster_id']==1]['region'].value_counts()"
      ]
    },
    {
      "cell_type": "code",
      "execution_count": null,
      "metadata": {
        "colab": {
          "base_uri": "https://localhost:8080/",
          "height": 380
        },
        "id": "5vGI0xAkkStN",
        "outputId": "61c07c6e-b885-484e-f8b2-d994363fa1bb",
        "vscode": {
          "languageId": "python"
        }
      },
      "outputs": [
        {
          "data": {
            "text/html": [
              "<div>\n",
              "<style scoped>\n",
              "    .dataframe tbody tr th:only-of-type {\n",
              "        vertical-align: middle;\n",
              "    }\n",
              "\n",
              "    .dataframe tbody tr th {\n",
              "        vertical-align: top;\n",
              "    }\n",
              "\n",
              "    .dataframe thead th {\n",
              "        text-align: right;\n",
              "    }\n",
              "</style>\n",
              "<table border=\"1\" class=\"dataframe\">\n",
              "  <thead>\n",
              "    <tr style=\"text-align: right;\">\n",
              "      <th></th>\n",
              "      <th>crime_type</th>\n",
              "      <th>last_outcome_cat</th>\n",
              "      <th>Variable: Males; measures: Value</th>\n",
              "      <th>Variable: Females; measures: Value</th>\n",
              "      <th>Variable: Lives in a household; measures: Value</th>\n",
              "      <th>Variable: Lives in a communal establishment; measures: Value</th>\n",
              "      <th>Variable: Schoolchild or full-time student aged 4 and over at their non term-time address; measures: Value</th>\n",
              "      <th>Variable: Density (number of persons per hectare); measures: Value</th>\n",
              "      <th>region</th>\n",
              "    </tr>\n",
              "    <tr>\n",
              "      <th>cluster_id</th>\n",
              "      <th></th>\n",
              "      <th></th>\n",
              "      <th></th>\n",
              "      <th></th>\n",
              "      <th></th>\n",
              "      <th></th>\n",
              "      <th></th>\n",
              "      <th></th>\n",
              "      <th></th>\n",
              "    </tr>\n",
              "  </thead>\n",
              "  <tbody>\n",
              "    <tr>\n",
              "      <th>0.0</th>\n",
              "      <td>976324</td>\n",
              "      <td>976324</td>\n",
              "      <td>976324</td>\n",
              "      <td>976324</td>\n",
              "      <td>976324</td>\n",
              "      <td>976324</td>\n",
              "      <td>976324</td>\n",
              "      <td>976324</td>\n",
              "      <td>976324</td>\n",
              "    </tr>\n",
              "    <tr>\n",
              "      <th>1.0</th>\n",
              "      <td>1174719</td>\n",
              "      <td>1174719</td>\n",
              "      <td>1174719</td>\n",
              "      <td>1174719</td>\n",
              "      <td>1174719</td>\n",
              "      <td>1174719</td>\n",
              "      <td>1174719</td>\n",
              "      <td>1174719</td>\n",
              "      <td>1174719</td>\n",
              "    </tr>\n",
              "    <tr>\n",
              "      <th>2.0</th>\n",
              "      <td>1043972</td>\n",
              "      <td>1043972</td>\n",
              "      <td>1043972</td>\n",
              "      <td>1043972</td>\n",
              "      <td>1043972</td>\n",
              "      <td>1043972</td>\n",
              "      <td>1043972</td>\n",
              "      <td>1043972</td>\n",
              "      <td>1043972</td>\n",
              "    </tr>\n",
              "  </tbody>\n",
              "</table>\n",
              "</div>"
            ],
            "text/plain": [
              "            crime_type  ...   region\n",
              "cluster_id              ...         \n",
              "0.0             976324  ...   976324\n",
              "1.0            1174719  ...  1174719\n",
              "2.0            1043972  ...  1043972\n",
              "\n",
              "[3 rows x 9 columns]"
            ]
          },
          "execution_count": 92,
          "metadata": {
            "tags": []
          },
          "output_type": "execute_result"
        }
      ],
      "source": [
        "newdf.groupby('cluster_id')."
      ]
    },
    {
      "cell_type": "markdown",
      "metadata": {
        "id": "eyZEP4UtHRz-"
      },
      "source": [
        "## Given a crime predict its outcome:"
      ]
    },
    {
      "cell_type": "code",
      "execution_count": null,
      "metadata": {
        "colab": {
          "base_uri": "https://localhost:8080/"
        },
        "id": "k3EMohJWfb0x",
        "outputId": "78820ab6-1f22-4a27-8d60-74bf16940fbf",
        "vscode": {
          "languageId": "python"
        }
      },
      "outputs": [
        {
          "data": {
            "text/plain": [
              "Index(['crime_type', 'last_outcome_cat', 'Variable: Males; measures: Value',\n",
              "       'Variable: Females; measures: Value',\n",
              "       'Variable: Lives in a household; measures: Value',\n",
              "       'Variable: Lives in a communal establishment; measures: Value',\n",
              "       'Variable: Schoolchild or full-time student aged 4 and over at their non term-time address; measures: Value',\n",
              "       'Variable: Density (number of persons per hectare); measures: Value',\n",
              "       'region', 'cluster_id2'],\n",
              "      dtype='object')"
            ]
          },
          "execution_count": 53,
          "metadata": {
            "tags": []
          },
          "output_type": "execute_result"
        }
      ],
      "source": [
        "newdf.columns"
      ]
    },
    {
      "cell_type": "code",
      "execution_count": null,
      "metadata": {
        "id": "CRbz-VBFckCt",
        "vscode": {
          "languageId": "python"
        }
      },
      "outputs": [],
      "source": [
        "newdf2 = newdf.copy()\n",
        "bins = 3\n",
        "labels = [1,2,3]\n",
        "newdf2['Variable: Males; measures: Value'] = pd.qcut(newdf['Variable: Males; measures: Value'],bins,labels)\n",
        "newdf2['Variable: Females; measures: Value'] = pd.qcut(newdf['Variable: Females; measures: Value'],bins,labels)\n",
        "newdf2['Variable: Lives in a household; measures: Value'] = pd.qcut(newdf['Variable: Lives in a household; measures: Value'],bins,labels)\n",
        "newdf2['Variable: Lives in a communal establishment; measures: Value'] = pd.qcut(newdf['Variable: Lives in a communal establishment; measures: Value'],5,[1,2,3],duplicates='drop')\n",
        "newdf2['Variable: Schoolchild or full-time student aged 4 and over at their non term-time address; measures: Value'] = pd.qcut(newdf['Variable: Schoolchild or full-time student aged 4 and over at their non term-time address; measures: Value'],bins,labels)\n",
        "newdf2['Variable: Density (number of persons per hectare); measures: Value'] = pd.qcut(newdf['Variable: Density (number of persons per hectare); measures: Value'],bins,labels)"
      ]
    },
    {
      "cell_type": "code",
      "execution_count": null,
      "metadata": {
        "id": "OeFFyPC-jKE1",
        "vscode": {
          "languageId": "python"
        }
      },
      "outputs": [],
      "source": [
        "newdf2['Variable: Males; measures: Value'] = pd.qcut(newdf['Variable: Males; measures: Value'],5,[1,2,3,4,5])\n"
      ]
    },
    {
      "cell_type": "code",
      "execution_count": null,
      "metadata": {
        "colab": {
          "base_uri": "https://localhost:8080/",
          "height": 314
        },
        "id": "YTC76Yb4c_2h",
        "outputId": "ae8572af-988e-46bf-e43c-587e0c2cbff8",
        "vscode": {
          "languageId": "python"
        }
      },
      "outputs": [
        {
          "data": {
            "text/html": [
              "<div>\n",
              "<style scoped>\n",
              "    .dataframe tbody tr th:only-of-type {\n",
              "        vertical-align: middle;\n",
              "    }\n",
              "\n",
              "    .dataframe tbody tr th {\n",
              "        vertical-align: top;\n",
              "    }\n",
              "\n",
              "    .dataframe thead th {\n",
              "        text-align: right;\n",
              "    }\n",
              "</style>\n",
              "<table border=\"1\" class=\"dataframe\">\n",
              "  <thead>\n",
              "    <tr style=\"text-align: right;\">\n",
              "      <th></th>\n",
              "      <th>crime_type</th>\n",
              "      <th>last_outcome_cat</th>\n",
              "      <th>Variable: Males; measures: Value</th>\n",
              "      <th>Variable: Females; measures: Value</th>\n",
              "      <th>Variable: Lives in a household; measures: Value</th>\n",
              "      <th>Variable: Lives in a communal establishment; measures: Value</th>\n",
              "      <th>Variable: Schoolchild or full-time student aged 4 and over at their non term-time address; measures: Value</th>\n",
              "      <th>Variable: Density (number of persons per hectare); measures: Value</th>\n",
              "      <th>region</th>\n",
              "      <th>cluster_id2</th>\n",
              "    </tr>\n",
              "  </thead>\n",
              "  <tbody>\n",
              "    <tr>\n",
              "      <th>0</th>\n",
              "      <td>0</td>\n",
              "      <td>10</td>\n",
              "      <td>3</td>\n",
              "      <td>2</td>\n",
              "      <td>2</td>\n",
              "      <td>1</td>\n",
              "      <td>2</td>\n",
              "      <td>1</td>\n",
              "      <td>15</td>\n",
              "      <td>0</td>\n",
              "    </tr>\n",
              "    <tr>\n",
              "      <th>1</th>\n",
              "      <td>5</td>\n",
              "      <td>26</td>\n",
              "      <td>3</td>\n",
              "      <td>2</td>\n",
              "      <td>2</td>\n",
              "      <td>1</td>\n",
              "      <td>2</td>\n",
              "      <td>1</td>\n",
              "      <td>15</td>\n",
              "      <td>1</td>\n",
              "    </tr>\n",
              "    <tr>\n",
              "      <th>2</th>\n",
              "      <td>5</td>\n",
              "      <td>26</td>\n",
              "      <td>3</td>\n",
              "      <td>2</td>\n",
              "      <td>2</td>\n",
              "      <td>1</td>\n",
              "      <td>2</td>\n",
              "      <td>1</td>\n",
              "      <td>15</td>\n",
              "      <td>1</td>\n",
              "    </tr>\n",
              "    <tr>\n",
              "      <th>3</th>\n",
              "      <td>0</td>\n",
              "      <td>10</td>\n",
              "      <td>4</td>\n",
              "      <td>3</td>\n",
              "      <td>3</td>\n",
              "      <td>2</td>\n",
              "      <td>3</td>\n",
              "      <td>1</td>\n",
              "      <td>15</td>\n",
              "      <td>0</td>\n",
              "    </tr>\n",
              "    <tr>\n",
              "      <th>4</th>\n",
              "      <td>1</td>\n",
              "      <td>8</td>\n",
              "      <td>4</td>\n",
              "      <td>3</td>\n",
              "      <td>3</td>\n",
              "      <td>2</td>\n",
              "      <td>3</td>\n",
              "      <td>1</td>\n",
              "      <td>15</td>\n",
              "      <td>0</td>\n",
              "    </tr>\n",
              "  </tbody>\n",
              "</table>\n",
              "</div>"
            ],
            "text/plain": [
              "   crime_type  last_outcome_cat  ... region cluster_id2\n",
              "0           0                10  ...     15           0\n",
              "1           5                26  ...     15           1\n",
              "2           5                26  ...     15           1\n",
              "3           0                10  ...     15           0\n",
              "4           1                 8  ...     15           0\n",
              "\n",
              "[5 rows x 10 columns]"
            ]
          },
          "execution_count": 60,
          "metadata": {
            "tags": []
          },
          "output_type": "execute_result"
        }
      ],
      "source": [
        "newdf2.head()"
      ]
    },
    {
      "cell_type": "code",
      "execution_count": null,
      "metadata": {
        "id": "t0k1YwVtgaxZ",
        "vscode": {
          "languageId": "python"
        }
      },
      "outputs": [],
      "source": [
        "from sklearn.tree import DecisionTreeClassifier\n",
        "from sklearn.model_selection import train_test_split\n",
        "data = newdf2.copy()\n",
        "X_train, X_test, y_train, y_test = train_test_split(data.drop('last_outcome_cat',axis=1), data['last_outcome_cat'], test_size=0.2, random_state=42)"
      ]
    },
    {
      "cell_type": "code",
      "execution_count": null,
      "metadata": {
        "id": "KqmAEg-tg6lT",
        "vscode": {
          "languageId": "python"
        }
      },
      "outputs": [],
      "source": [
        "tree = DecisionTreeClassifier(criterion = 'entropy').fit(X_train,y_train)"
      ]
    },
    {
      "cell_type": "code",
      "execution_count": null,
      "metadata": {
        "id": "t6pbiq2Oh4C1",
        "vscode": {
          "languageId": "python"
        }
      },
      "outputs": [],
      "source": [
        "prediction = tree.predict(X_test)"
      ]
    },
    {
      "cell_type": "code",
      "execution_count": null,
      "metadata": {
        "colab": {
          "base_uri": "https://localhost:8080/"
        },
        "id": "W_1AlIcjioxg",
        "outputId": "b90acf70-abfb-4ae8-8f54-362db57b823e",
        "vscode": {
          "languageId": "python"
        }
      },
      "outputs": [
        {
          "name": "stdout",
          "output_type": "stream",
          "text": [
            "The prediction accuracy is:  72.9003608684742 %\n"
          ]
        }
      ],
      "source": [
        "print(\"The prediction accuracy is: \",tree.score(X_test,y_test)*100,\"%\")"
      ]
    },
    {
      "cell_type": "code",
      "execution_count": null,
      "metadata": {
        "colab": {
          "base_uri": "https://localhost:8080/"
        },
        "id": "VTPNEd0wiyOh",
        "outputId": "8ba22a15-51f2-44ae-c7d4-f3aa42053863",
        "vscode": {
          "languageId": "python"
        }
      },
      "outputs": [
        {
          "name": "stdout",
          "output_type": "stream",
          "text": [
            "                                                     precision    recall  f1-score   support\n",
            "\n",
            "                                               None       0.12      0.01      0.02      2442\n",
            "                                Under investigation       0.05      0.01      0.02      5735\n",
            "      Investigation complete; no suspect identified       0.01      0.00      0.00      1712\n",
            "                        Unable to prosecute suspect       0.17      0.07      0.09     14588\n",
            "                             Awaiting court outcome       0.02      0.00      0.00      4381\n",
            "                           Offender given a caution       0.00      0.00      0.00        60\n",
            "        Formal action is not in the public interest       0.15      0.05      0.07      5078\n",
            "          Offender given a drugs possession warning       0.10      0.01      0.02      1989\n",
            "Further investigation is not in the public interest       0.60      0.75      0.66    119763\n",
            "                                   Local resolution       0.22      0.04      0.07     10058\n",
            "         Action to be taken by another organisation       1.00      0.99      1.00    305599\n",
            "                      Offender given penalty notice       0.00      0.00      0.00       265\n",
            "                                     Offender fined       0.05      0.01      0.02      2990\n",
            "                      Offender deprived of property       0.18      0.06      0.09     11615\n",
            "               Offender given conditional discharge       0.32      0.52      0.40      5486\n",
            "                  Offender given community sentence       0.00      0.00      0.00        74\n",
            "                            Offender sent to prison       0.06      0.00      0.01      4993\n",
            "           Offender given suspended prison sentence       0.04      0.00      0.00      1995\n",
            "                      Defendant sent to Crown Court       0.19      0.08      0.12      1395\n",
            "               Offender ordered to pay compensation       0.02      0.00      0.00      2138\n",
            "                       Court case unable to proceed       0.00      0.00      0.00       432\n",
            "            Suspect charged as part of another case       0.00      0.00      0.00       572\n",
            "                      Offender otherwise dealt with       0.07      0.01      0.01      4118\n",
            "                         Defendant found not guilty       0.34      0.20      0.25     35432\n",
            "                          Status update unavailable       0.00      0.00      0.00        76\n",
            "                  Offender given absolute discharge       0.50      0.80      0.61    102763\n",
            "                           Court result unavailable       0.11      0.01      0.01     23747\n",
            "\n",
            "                                           accuracy                           0.73    669496\n",
            "                                          macro avg       0.16      0.13      0.13    669496\n",
            "                                       weighted avg       0.68      0.73      0.69    669496\n",
            "\n"
          ]
        }
      ],
      "source": [
        "from sklearn.metrics import classification_report\n",
        "lab = ['None', 'Under investigation',\n",
        "       'Investigation complete; no suspect identified',\n",
        "       'Unable to prosecute suspect', 'Awaiting court outcome',\n",
        "       'Offender given a caution',\n",
        "       'Formal action is not in the public interest',\n",
        "       'Offender given a drugs possession warning',\n",
        "       'Further investigation is not in the public interest',\n",
        "       'Local resolution', 'Action to be taken by another organisation',\n",
        "       'Offender given penalty notice', 'Offender fined',\n",
        "       'Offender deprived of property',\n",
        "       'Offender given conditional discharge',\n",
        "       'Offender given community sentence', 'Offender sent to prison',\n",
        "       'Offender given suspended prison sentence',\n",
        "       'Defendant sent to Crown Court',\n",
        "       'Offender ordered to pay compensation',\n",
        "       'Court case unable to proceed',\n",
        "       'Suspect charged as part of another case',\n",
        "       'Offender otherwise dealt with', 'Defendant found not guilty',\n",
        "       'Status update unavailable', 'Offender given absolute discharge',\n",
        "       'Court result unavailable']\n",
        "print(classification_report(y_test, prediction,target_names=lab))"
      ]
    },
    {
      "cell_type": "code",
      "execution_count": null,
      "metadata": {
        "colab": {
          "base_uri": "https://localhost:8080/"
        },
        "id": "cj70gXHCuo0Q",
        "outputId": "d61cbc55-0999-4f35-d1ef-f4760494fa98",
        "vscode": {
          "languageId": "python"
        }
      },
      "outputs": [
        {
          "data": {
            "text/plain": [
              "array([nan, 'Under investigation',\n",
              "       'Investigation complete; no suspect identified',\n",
              "       'Unable to prosecute suspect', 'Awaiting court outcome',\n",
              "       'Offender given a caution',\n",
              "       'Formal action is not in the public interest',\n",
              "       'Offender given a drugs possession warning',\n",
              "       'Further investigation is not in the public interest',\n",
              "       'Local resolution', 'Action to be taken by another organisation',\n",
              "       'Offender given penalty notice', 'Offender fined',\n",
              "       'Offender deprived of property',\n",
              "       'Offender given conditional discharge',\n",
              "       'Offender given community sentence', 'Offender sent to prison',\n",
              "       'Offender given suspended prison sentence',\n",
              "       'Defendant sent to Crown Court',\n",
              "       'Offender ordered to pay compensation',\n",
              "       'Court case unable to proceed',\n",
              "       'Suspect charged as part of another case',\n",
              "       'Offender otherwise dealt with', 'Defendant found not guilty',\n",
              "       'Status update unavailable', 'Offender given absolute discharge',\n",
              "       'Court result unavailable'], dtype=object)"
            ]
          },
          "execution_count": 70,
          "metadata": {
            "tags": []
          },
          "output_type": "execute_result"
        }
      ],
      "source": [
        "df.last_outcome_cat.unique()"
      ]
    }
  ],
  "metadata": {
    "accelerator": "GPU",
    "colab": {
      "collapsed_sections": [],
      "name": "Group12_DM_Project.ipynb",
      "provenance": []
    },
    "kernelspec": {
      "display_name": "Python 3",
      "name": "python3"
    }
  },
  "nbformat": 4,
  "nbformat_minor": 0
}
