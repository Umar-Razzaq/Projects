{
  "nbformat": 4,
  "nbformat_minor": 0,
  "metadata": {
    "colab": {
      "name": "Etele.ipynb",
      "provenance": [],
      "collapsed_sections": []
    },
    "kernelspec": {
      "name": "python3",
      "display_name": "Python 3"
    },
    "language_info": {
      "name": "python"
    }
  },
  "cells": [
    {
      "cell_type": "code",
      "execution_count": null,
      "metadata": {
        "id": "zVa6uuwExBDF"
      },
      "outputs": [],
      "source": [
        "import pandas as pd\n",
        "import matplotlib.pyplot as plt"
      ]
    },
    {
      "cell_type": "code",
      "source": [
        "df = pd.read_csv('/content/carsdataset.csv',index_col=0)\n",
        "df.head()"
      ],
      "metadata": {
        "colab": {
          "base_uri": "https://localhost:8080/",
          "height": 206
        },
        "id": "pEnrbppZxKvH",
        "outputId": "3a915d4e-c3b2-47e0-a2d9-0f1e2b85c157"
      },
      "execution_count": null,
      "outputs": [
        {
          "output_type": "execute_result",
          "data": {
            "text/html": [
              "\n",
              "  <div id=\"df-2c3d72be-6366-4de6-aea1-f8322a6d2f2e\">\n",
              "    <div class=\"colab-df-container\">\n",
              "      <div>\n",
              "<style scoped>\n",
              "    .dataframe tbody tr th:only-of-type {\n",
              "        vertical-align: middle;\n",
              "    }\n",
              "\n",
              "    .dataframe tbody tr th {\n",
              "        vertical-align: top;\n",
              "    }\n",
              "\n",
              "    .dataframe thead th {\n",
              "        text-align: right;\n",
              "    }\n",
              "</style>\n",
              "<table border=\"1\" class=\"dataframe\">\n",
              "  <thead>\n",
              "    <tr style=\"text-align: right;\">\n",
              "      <th></th>\n",
              "      <th>Transmission</th>\n",
              "      <th>Drive</th>\n",
              "      <th>Drive Type</th>\n",
              "      <th>Engine Size</th>\n",
              "      <th>Engine Cylinders</th>\n",
              "      <th>City MPG</th>\n",
              "      <th>Highway MPG</th>\n",
              "      <th>Fuel</th>\n",
              "      <th>Super</th>\n",
              "      <th>Class</th>\n",
              "    </tr>\n",
              "  </thead>\n",
              "  <tbody>\n",
              "    <tr>\n",
              "      <th>0</th>\n",
              "      <td>Automatic</td>\n",
              "      <td>2 wheel</td>\n",
              "      <td>Front</td>\n",
              "      <td>1.4</td>\n",
              "      <td>4.0</td>\n",
              "      <td>29.0</td>\n",
              "      <td>40.0</td>\n",
              "      <td>Gas</td>\n",
              "      <td>Turbo</td>\n",
              "      <td>Sedan</td>\n",
              "    </tr>\n",
              "    <tr>\n",
              "      <th>1</th>\n",
              "      <td>Automatic</td>\n",
              "      <td>2 wheel</td>\n",
              "      <td>Rear</td>\n",
              "      <td>4.4</td>\n",
              "      <td>8.0</td>\n",
              "      <td>17.0</td>\n",
              "      <td>24.0</td>\n",
              "      <td>Gas</td>\n",
              "      <td>Turbo</td>\n",
              "      <td>Convertible</td>\n",
              "    </tr>\n",
              "    <tr>\n",
              "      <th>2</th>\n",
              "      <td>Automatic</td>\n",
              "      <td>2 wheel</td>\n",
              "      <td>Rear</td>\n",
              "      <td>3.0</td>\n",
              "      <td>6.0</td>\n",
              "      <td>20.0</td>\n",
              "      <td>25.0</td>\n",
              "      <td>Diesel</td>\n",
              "      <td>Turbo</td>\n",
              "      <td>Truck</td>\n",
              "    </tr>\n",
              "    <tr>\n",
              "      <th>3</th>\n",
              "      <td>Automatic</td>\n",
              "      <td>2 wheel</td>\n",
              "      <td>Rear</td>\n",
              "      <td>2.0</td>\n",
              "      <td>4.0</td>\n",
              "      <td>23.0</td>\n",
              "      <td>32.0</td>\n",
              "      <td>Gas</td>\n",
              "      <td>Turbo</td>\n",
              "      <td>Convertible</td>\n",
              "    </tr>\n",
              "    <tr>\n",
              "      <th>4</th>\n",
              "      <td>Automatic</td>\n",
              "      <td>All wheel</td>\n",
              "      <td>-1</td>\n",
              "      <td>2.0</td>\n",
              "      <td>4.0</td>\n",
              "      <td>23.0</td>\n",
              "      <td>31.0</td>\n",
              "      <td>Gas</td>\n",
              "      <td>Turbo</td>\n",
              "      <td>Convertible</td>\n",
              "    </tr>\n",
              "  </tbody>\n",
              "</table>\n",
              "</div>\n",
              "      <button class=\"colab-df-convert\" onclick=\"convertToInteractive('df-2c3d72be-6366-4de6-aea1-f8322a6d2f2e')\"\n",
              "              title=\"Convert this dataframe to an interactive table.\"\n",
              "              style=\"display:none;\">\n",
              "        \n",
              "  <svg xmlns=\"http://www.w3.org/2000/svg\" height=\"24px\"viewBox=\"0 0 24 24\"\n",
              "       width=\"24px\">\n",
              "    <path d=\"M0 0h24v24H0V0z\" fill=\"none\"/>\n",
              "    <path d=\"M18.56 5.44l.94 2.06.94-2.06 2.06-.94-2.06-.94-.94-2.06-.94 2.06-2.06.94zm-11 1L8.5 8.5l.94-2.06 2.06-.94-2.06-.94L8.5 2.5l-.94 2.06-2.06.94zm10 10l.94 2.06.94-2.06 2.06-.94-2.06-.94-.94-2.06-.94 2.06-2.06.94z\"/><path d=\"M17.41 7.96l-1.37-1.37c-.4-.4-.92-.59-1.43-.59-.52 0-1.04.2-1.43.59L10.3 9.45l-7.72 7.72c-.78.78-.78 2.05 0 2.83L4 21.41c.39.39.9.59 1.41.59.51 0 1.02-.2 1.41-.59l7.78-7.78 2.81-2.81c.8-.78.8-2.07 0-2.86zM5.41 20L4 18.59l7.72-7.72 1.47 1.35L5.41 20z\"/>\n",
              "  </svg>\n",
              "      </button>\n",
              "      \n",
              "  <style>\n",
              "    .colab-df-container {\n",
              "      display:flex;\n",
              "      flex-wrap:wrap;\n",
              "      gap: 12px;\n",
              "    }\n",
              "\n",
              "    .colab-df-convert {\n",
              "      background-color: #E8F0FE;\n",
              "      border: none;\n",
              "      border-radius: 50%;\n",
              "      cursor: pointer;\n",
              "      display: none;\n",
              "      fill: #1967D2;\n",
              "      height: 32px;\n",
              "      padding: 0 0 0 0;\n",
              "      width: 32px;\n",
              "    }\n",
              "\n",
              "    .colab-df-convert:hover {\n",
              "      background-color: #E2EBFA;\n",
              "      box-shadow: 0px 1px 2px rgba(60, 64, 67, 0.3), 0px 1px 3px 1px rgba(60, 64, 67, 0.15);\n",
              "      fill: #174EA6;\n",
              "    }\n",
              "\n",
              "    [theme=dark] .colab-df-convert {\n",
              "      background-color: #3B4455;\n",
              "      fill: #D2E3FC;\n",
              "    }\n",
              "\n",
              "    [theme=dark] .colab-df-convert:hover {\n",
              "      background-color: #434B5C;\n",
              "      box-shadow: 0px 1px 3px 1px rgba(0, 0, 0, 0.15);\n",
              "      filter: drop-shadow(0px 1px 2px rgba(0, 0, 0, 0.3));\n",
              "      fill: #FFFFFF;\n",
              "    }\n",
              "  </style>\n",
              "\n",
              "      <script>\n",
              "        const buttonEl =\n",
              "          document.querySelector('#df-2c3d72be-6366-4de6-aea1-f8322a6d2f2e button.colab-df-convert');\n",
              "        buttonEl.style.display =\n",
              "          google.colab.kernel.accessAllowed ? 'block' : 'none';\n",
              "\n",
              "        async function convertToInteractive(key) {\n",
              "          const element = document.querySelector('#df-2c3d72be-6366-4de6-aea1-f8322a6d2f2e');\n",
              "          const dataTable =\n",
              "            await google.colab.kernel.invokeFunction('convertToInteractive',\n",
              "                                                     [key], {});\n",
              "          if (!dataTable) return;\n",
              "\n",
              "          const docLinkHtml = 'Like what you see? Visit the ' +\n",
              "            '<a target=\"_blank\" href=https://colab.research.google.com/notebooks/data_table.ipynb>data table notebook</a>'\n",
              "            + ' to learn more about interactive tables.';\n",
              "          element.innerHTML = '';\n",
              "          dataTable['output_type'] = 'display_data';\n",
              "          await google.colab.output.renderOutput(dataTable, element);\n",
              "          const docLink = document.createElement('div');\n",
              "          docLink.innerHTML = docLinkHtml;\n",
              "          element.appendChild(docLink);\n",
              "        }\n",
              "      </script>\n",
              "    </div>\n",
              "  </div>\n",
              "  "
            ],
            "text/plain": [
              "  Transmission      Drive Drive Type  Engine Size  Engine Cylinders  City MPG  \\\n",
              "0    Automatic    2 wheel      Front          1.4               4.0      29.0   \n",
              "1    Automatic    2 wheel       Rear          4.4               8.0      17.0   \n",
              "2    Automatic    2 wheel       Rear          3.0               6.0      20.0   \n",
              "3    Automatic    2 wheel       Rear          2.0               4.0      23.0   \n",
              "4    Automatic  All wheel         -1          2.0               4.0      23.0   \n",
              "\n",
              "   Highway MPG    Fuel  Super        Class  \n",
              "0         40.0     Gas  Turbo        Sedan  \n",
              "1         24.0     Gas  Turbo  Convertible  \n",
              "2         25.0  Diesel  Turbo        Truck  \n",
              "3         32.0     Gas  Turbo  Convertible  \n",
              "4         31.0     Gas  Turbo  Convertible  "
            ]
          },
          "metadata": {},
          "execution_count": 611
        }
      ]
    },
    {
      "cell_type": "code",
      "source": [
        "df.shape"
      ],
      "metadata": {
        "colab": {
          "base_uri": "https://localhost:8080/"
        },
        "id": "kRIpem0OOJqa",
        "outputId": "f38d003b-cde9-4606-8e5e-19d3c1cc91a7"
      },
      "execution_count": null,
      "outputs": [
        {
          "output_type": "execute_result",
          "data": {
            "text/plain": [
              "(1124, 10)"
            ]
          },
          "metadata": {},
          "execution_count": 612
        }
      ]
    },
    {
      "cell_type": "code",
      "source": [
        "for x in df.columns:\n",
        "  print(df[x].unique())"
      ],
      "metadata": {
        "colab": {
          "base_uri": "https://localhost:8080/"
        },
        "id": "TPQfXbqhxOud",
        "outputId": "48177023-0575-4127-fa21-0d532b8b9f4d"
      },
      "execution_count": null,
      "outputs": [
        {
          "output_type": "stream",
          "name": "stdout",
          "text": [
            "['Automatic' 'Manual']\n",
            "['2 wheel' 'All wheel' '4 wheel']\n",
            "['Front' 'Rear' '-1']\n",
            "[ 1.4  4.4  3.   2.   3.6  3.5  4.7  1.6  6.   1.5  6.6  5.3  5.7  2.4\n",
            "  2.5  2.3  1.8  3.8  6.4  6.7  5.4  2.7  6.2  3.4  5.   5.6  4.   3.3\n",
            " -1.   3.7  8.   4.6  4.3  1.3  5.5  6.3  2.9  4.5  5.2  1.   3.9  6.5\n",
            "  3.2  2.8  7.   2.6]\n",
            "[ 4.  8.  6.  5. 10.  3. -1. 12.]\n",
            "[29. 17. 20. 23. 19. 31. 18. 21. 13. 33. -1. 16. 22. 28. 26. 30. 24. 27.\n",
            " 15. 32. 25. 14. 10.  9. 53. 12. 36. 11. 41. 43. 51. 47.]\n",
            "[40. 24. 25. 32. 31. 23. 28. 27. 17. 26. 41. -1. 34. 22. 30. 33. 18. 37.\n",
            " 38. 39. 36. 35. 29. 21. 20. 15. 19. 16. 42. 52. 44. 45. 46.]\n",
            "['Gas' 'Diesel' 'Flexible']\n",
            "['Turbo' 'None' 'Super']\n",
            "['Sedan' 'Convertible' 'Truck' 'Van' 'Suv-crossover']\n"
          ]
        }
      ]
    },
    {
      "cell_type": "markdown",
      "source": [
        "## EDA"
      ],
      "metadata": {
        "id": "R4FMyDWUJO-h"
      }
    },
    {
      "cell_type": "code",
      "source": [
        "# Missing values\n",
        "(df=='-1').sum() + (df==-1).sum()"
      ],
      "metadata": {
        "colab": {
          "base_uri": "https://localhost:8080/"
        },
        "id": "tk6xYL0fJy8w",
        "outputId": "1ee98251-2e73-47d7-b562-2a8cf051e1bb"
      },
      "execution_count": null,
      "outputs": [
        {
          "output_type": "execute_result",
          "data": {
            "text/plain": [
              "Transmission          0\n",
              "Drive                 0\n",
              "Drive Type          403\n",
              "Engine Size           4\n",
              "Engine Cylinders      4\n",
              "City MPG             90\n",
              "Highway MPG          90\n",
              "Fuel                  0\n",
              "Super                 0\n",
              "Class                 0\n",
              "dtype: int64"
            ]
          },
          "metadata": {},
          "execution_count": 614
        }
      ]
    },
    {
      "cell_type": "code",
      "source": [
        "# plotting a histogram of 'Drive Type' \n",
        "plt.hist(df['Drive Type'])\n",
        "plt.title('Histogram of Drive Type')"
      ],
      "metadata": {
        "colab": {
          "base_uri": "https://localhost:8080/",
          "height": 299
        },
        "id": "WDb7EiOmd_Vd",
        "outputId": "8381c87e-76f5-447e-e0e9-889c3d761049"
      },
      "execution_count": null,
      "outputs": [
        {
          "output_type": "execute_result",
          "data": {
            "text/plain": [
              "Text(0.5, 1.0, 'Histogram of Drive Type')"
            ]
          },
          "metadata": {},
          "execution_count": 615
        },
        {
          "output_type": "display_data",
          "data": {
            "image/png": "[encoded data removed]",
            "text/plain": [
              "<Figure size 432x288 with 1 Axes>"
            ]
          },
          "metadata": {
            "needs_background": "light"
          }
        }
      ]
    },
    {
      "cell_type": "code",
      "source": [
        "# Replacing all of the missing values in 'Drive Type' with 'Unknown'\n",
        "df.loc[df['Drive Type'] == '-1', 'Drive Type'] = \"Unknown\""
      ],
      "metadata": {
        "id": "VbH0JUG4eAbT"
      },
      "execution_count": null,
      "outputs": []
    },
    {
      "cell_type": "code",
      "source": [
        "# Plotting a graph \n",
        "plt.hist(df.loc[df['Drive Type'] == 'Unknown','Class'])\n",
        "plt.title('Missing values of Drive Type in each Class')"
      ],
      "metadata": {
        "colab": {
          "base_uri": "https://localhost:8080/",
          "height": 299
        },
        "id": "2pdS9EMuL3Kq",
        "outputId": "b2799cd6-a85b-4902-f631-0ab45413fc67"
      },
      "execution_count": null,
      "outputs": [
        {
          "output_type": "execute_result",
          "data": {
            "text/plain": [
              "Text(0.5, 1.0, 'Missing values of Drive Type in each Class')"
            ]
          },
          "metadata": {},
          "execution_count": 617
        },
        {
          "output_type": "display_data",
          "data": {
            "image/png": "[encoded data removed]",
            "text/plain": [
              "<Figure size 432x288 with 1 Axes>"
            ]
          },
          "metadata": {
            "needs_background": "light"
          }
        }
      ]
    },
    {
      "cell_type": "code",
      "source": [
        "fig=plt.figure(figsize=(15,5))\n",
        "columns = 5\n",
        "rows = 1\n",
        "vehicle_type = ['Sedan', 'Convertible', 'Truck', 'Van', 'Suv-crossover']\n",
        "for i in range(1, 6):\n",
        "    fig.add_subplot(rows, columns, i)\n",
        "    plt.hist(df.loc[df['Class'] == vehicle_type[i-1], 'Drive Type'])\n",
        "    plt.title('Drive types of '+vehicle_type[i-1])\n",
        "plt.show()"
      ],
      "metadata": {
        "colab": {
          "base_uri": "https://localhost:8080/",
          "height": 336
        },
        "id": "t5tmu4B7QHYo",
        "outputId": "5e1d5e0b-9391-44b9-fa3b-04e9174ee190"
      },
      "execution_count": null,
      "outputs": [
        {
          "output_type": "display_data",
          "data": {
            "image/png": "[encoded data removed]",
            "text/plain": [
              "<Figure size 1080x360 with 5 Axes>"
            ]
          },
          "metadata": {
            "needs_background": "light"
          }
        }
      ]
    },
    {
      "cell_type": "code",
      "source": [
        "# Truck are rear wheel drive so changing the missing 'Drive Type' values to 'Rear' for 'Trucks'\n",
        "df.loc[(df['Class'] == 'Truck') & (df['Drive Type'] == 'Unknown'), 'Drive Type'] = 'Rear'"
      ],
      "metadata": {
        "id": "uRhQPnsRSPK3"
      },
      "execution_count": null,
      "outputs": []
    },
    {
      "cell_type": "code",
      "source": [
        "# Checking if the missing values for City MPG and Highway MPG are the same\n",
        "df[df['City MPG'] == -1].equals(df[df['Highway MPG'] == -1])"
      ],
      "metadata": {
        "colab": {
          "base_uri": "https://localhost:8080/"
        },
        "id": "jRqaqY4VKvzv",
        "outputId": "df50b8cb-9bed-4bd6-a454-6db9e4c28952"
      },
      "execution_count": null,
      "outputs": [
        {
          "output_type": "execute_result",
          "data": {
            "text/plain": [
              "True"
            ]
          },
          "metadata": {},
          "execution_count": 620
        }
      ]
    },
    {
      "cell_type": "code",
      "source": [
        "# Checking if the missing values for Engine Size and Engine Cylinders are the same\n",
        "df[df['Engine Size'] == -1].equals(df[df['Engine Cylinders'] == -1])"
      ],
      "metadata": {
        "colab": {
          "base_uri": "https://localhost:8080/"
        },
        "id": "sX4XgQcGOxL5",
        "outputId": "406cc251-6a05-4893-9fa9-a78f6a942912"
      },
      "execution_count": null,
      "outputs": [
        {
          "output_type": "execute_result",
          "data": {
            "text/plain": [
              "True"
            ]
          },
          "metadata": {},
          "execution_count": 621
        }
      ]
    },
    {
      "cell_type": "code",
      "source": [
        "# Highway MPG and City MPG\n",
        "missing_classes = df[df['Highway MPG'] == -1].groupby('Class').mean()['Highway MPG'].index.tolist()"
      ],
      "metadata": {
        "id": "8dzj4hZjRuXy"
      },
      "execution_count": null,
      "outputs": []
    },
    {
      "cell_type": "code",
      "source": [
        "_, ax =plt.subplots(2,5, figsize=(15,10))\n",
        "for i1,x in enumerate(['Highway MPG', 'City MPG']):\n",
        "  for i2,y in enumerate(missing_classes):\n",
        "    temp = df[(df['Class'] == y) & (df[x] != -1)][x]\n",
        "    ax[i1][i2].hist(temp)\n",
        "    ax[i1][i2].axvline(temp.mean(), color='k', linestyle='dashed', linewidth=1)\n",
        "    ax[i1][i2].set_title(x)\n",
        "    ax[i1][i2].set_xlabel(y)"
      ],
      "metadata": {
        "colab": {
          "base_uri": "https://localhost:8080/",
          "height": 621
        },
        "id": "MF0orWQUewrw",
        "outputId": "db9c69de-8251-4a58-aa9b-1b02078272c8"
      },
      "execution_count": null,
      "outputs": [
        {
          "output_type": "display_data",
          "data": {
            "image/png": "[encoded data removed]",
            "text/plain": [
              "<Figure size 1080x720 with 10 Axes>"
            ]
          },
          "metadata": {
            "needs_background": "light"
          }
        }
      ]
    },
    {
      "cell_type": "code",
      "source": [
        "# Calculating mean of each 'Class' for 'Engine Size' and 'Engine Cylinders'\n",
        "mean = {}\n",
        "mean['City MPG']= df[df['City MPG'] != -1].groupby('Class').mean()['City MPG']\n",
        "mean['Highway MPG']= df[df['Highway MPG'] != -1].groupby('Class').mean()['Highway MPG']"
      ],
      "metadata": {
        "id": "U5o9FgMMO3_0"
      },
      "execution_count": null,
      "outputs": []
    },
    {
      "cell_type": "code",
      "source": [
        "# Filling missing values of 'Highway MPG' and 'City MPG'\n",
        "for i1,x in enumerate(['Highway MPG', 'City MPG']):\n",
        "  for i2,y in enumerate(missing_classes):\n",
        "    df.loc[(df['Class'] == y) & (df[x] == -1), x] = mean[x][y]"
      ],
      "metadata": {
        "id": "H7VW2GJshP-8"
      },
      "execution_count": null,
      "outputs": []
    },
    {
      "cell_type": "code",
      "source": [
        "# Highway MPG and City MPG\n",
        "missing_classes2 = df[df['Engine Size'] == -1].groupby('Class').mean()['Engine Size'].index.tolist()"
      ],
      "metadata": {
        "id": "MtDA2h2SjHxF"
      },
      "execution_count": null,
      "outputs": []
    },
    {
      "cell_type": "code",
      "source": [
        "_, ax =plt.subplots(2,2, figsize=(15,10))\n",
        "for i1,x in enumerate(['Engine Size', 'Engine Cylinders']):\n",
        "  for i2,y in enumerate(missing_classes2):\n",
        "    temp = df[(df['Class'] == y) & (df[x] != -1)][x]\n",
        "    ax[i1][i2].hist(temp)\n",
        "    ax[i1][i2].set_title(x)\n",
        "    ax[i1][i2].set_xlabel(y)"
      ],
      "metadata": {
        "colab": {
          "base_uri": "https://localhost:8080/",
          "height": 621
        },
        "id": "TFVhw4LejNNj",
        "outputId": "10178f33-e281-4507-f7eb-6531bc0d6c6f"
      },
      "execution_count": null,
      "outputs": [
        {
          "output_type": "display_data",
          "data": {
            "image/png": "[encoded data removed]",
            "text/plain": [
              "<Figure size 1080x720 with 4 Axes>"
            ]
          },
          "metadata": {
            "needs_background": "light"
          }
        }
      ]
    },
    {
      "cell_type": "code",
      "source": [
        "# Calculating mode of each 'Class' for 'Engine Size' and 'Engine Cylinders'\n",
        "modes = {}\n",
        "modes['Engine Size']= df[df['Engine Size'] != -1].groupby('Class').agg(lambda x:x.value_counts().index[0])['Engine Size']\n",
        "modes['Engine Cylinders']= df[df['Engine Cylinders'] != -1].groupby('Class').agg(lambda x:x.value_counts().index[0])['Engine Cylinders']"
      ],
      "metadata": {
        "id": "QKx1qeEkjW0e"
      },
      "execution_count": null,
      "outputs": []
    },
    {
      "cell_type": "code",
      "source": [
        "# Filling missing values of 'Engine Size' and 'Engine Cylinders' with their 'Class' mode\n",
        "for i1,x in enumerate(['Engine Size', 'Engine Cylinders']):\n",
        "  for i2,y in enumerate(missing_classes2):\n",
        "    df.loc[(df['Class'] == y) & (df[x] == -1), x] = modes[x][y]"
      ],
      "metadata": {
        "id": "GYjpTKKYjsgB"
      },
      "execution_count": null,
      "outputs": []
    },
    {
      "cell_type": "code",
      "source": [
        "# Checking missing values\n",
        "(df=='-1').sum() + (df==-1).sum()"
      ],
      "metadata": {
        "colab": {
          "base_uri": "https://localhost:8080/"
        },
        "id": "00naxjpwjzVe",
        "outputId": "96f08f8d-79d0-4742-ae58-b5cb0b1ed757"
      },
      "execution_count": null,
      "outputs": [
        {
          "output_type": "execute_result",
          "data": {
            "text/plain": [
              "Transmission        0\n",
              "Drive               0\n",
              "Drive Type          0\n",
              "Engine Size         0\n",
              "Engine Cylinders    0\n",
              "City MPG            0\n",
              "Highway MPG         0\n",
              "Fuel                0\n",
              "Super               0\n",
              "Class               0\n",
              "dtype: int64"
            ]
          },
          "metadata": {},
          "execution_count": 630
        }
      ]
    },
    {
      "cell_type": "code",
      "source": [
        "# Storing features\n",
        "features = df[['Transmission', 'Drive Type', 'Drive', 'Engine Size', 'Engine Cylinders', 'City MPG',\n",
        "       'Highway MPG', 'Fuel', 'Super']]\n",
        "       \n",
        "# Applying one hot encoding\n",
        "features = pd.get_dummies(features,drop_first=True)"
      ],
      "metadata": {
        "id": "cD84PAuLr1tf"
      },
      "execution_count": null,
      "outputs": []
    },
    {
      "cell_type": "code",
      "source": [
        "# Encoding the 'Class' column and storing it in labels\n",
        "labels = df['Class'].astype('category').cat.codes"
      ],
      "metadata": {
        "id": "tbaHhs2roAl8"
      },
      "execution_count": null,
      "outputs": []
    },
    {
      "cell_type": "markdown",
      "source": [
        "## Model"
      ],
      "metadata": {
        "id": "91i1O7uisZ7o"
      }
    },
    {
      "cell_type": "code",
      "source": [
        "from sklearn.model_selection import train_test_split"
      ],
      "metadata": {
        "id": "VKc8RA2Vun0M"
      },
      "execution_count": null,
      "outputs": []
    },
    {
      "cell_type": "code",
      "source": [
        "# Train test split\n",
        "X_train,X_test,y_train,y_test = train_test_split(features,labels,random_state = 0)"
      ],
      "metadata": {
        "id": "kdIi_oxruoqd"
      },
      "execution_count": null,
      "outputs": []
    },
    {
      "cell_type": "markdown",
      "source": [
        "#### Decision tree"
      ],
      "metadata": {
        "id": "tTku39PO3g4j"
      }
    },
    {
      "cell_type": "code",
      "source": [
        "from sklearn.tree import DecisionTreeClassifier \n",
        "  \n",
        "model = DecisionTreeClassifier(random_state = 0)\n",
        "  \n",
        "model.fit(features, labels)"
      ],
      "metadata": {
        "colab": {
          "base_uri": "https://localhost:8080/"
        },
        "id": "y2KFxwZuw46A",
        "outputId": "f474523d-18aa-471a-9b17-2bab5fbf26f3"
      },
      "execution_count": null,
      "outputs": [
        {
          "output_type": "execute_result",
          "data": {
            "text/plain": [
              "DecisionTreeClassifier(random_state=0)"
            ]
          },
          "metadata": {},
          "execution_count": 637
        }
      ]
    },
    {
      "cell_type": "code",
      "source": [
        "print('Accuracy of the classifier on training set: {:.2f}%'\n",
        "     .format(model.score(X_train, y_train)*100))"
      ],
      "metadata": {
        "colab": {
          "base_uri": "https://localhost:8080/"
        },
        "id": "U9rmT9iMw5Qs",
        "outputId": "794adfb1-c521-4cb1-abf3-93724e1c2184"
      },
      "execution_count": null,
      "outputs": [
        {
          "output_type": "stream",
          "name": "stdout",
          "text": [
            "Accuracy of the classifier on training set: 96.44%\n"
          ]
        }
      ]
    },
    {
      "cell_type": "code",
      "source": [
        "print('Accuracy of the classifier on test set: {:.2f}%'\n",
        "     .format(model.score(X_test, y_test)*100))"
      ],
      "metadata": {
        "colab": {
          "base_uri": "https://localhost:8080/"
        },
        "id": "qUNN9xpCxDyh",
        "outputId": "0620fa73-217f-4e0f-86a6-2d2c03d00ddb"
      },
      "execution_count": null,
      "outputs": [
        {
          "output_type": "stream",
          "name": "stdout",
          "text": [
            "Accuracy of the classifier on test set: 97.15%\n"
          ]
        }
      ]
    }
  ]
}