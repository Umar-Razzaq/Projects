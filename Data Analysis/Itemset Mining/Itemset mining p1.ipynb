{
  "nbformat": 4,
  "nbformat_minor": 0,
  "metadata": {
    "kernelspec": {
      "display_name": "Python 3",
      "language": "python",
      "name": "python3"
    },
    "language_info": {
      "codemirror_mode": {
        "name": "ipython",
        "version": 3
      },
      "file_extension": ".py",
      "mimetype": "text/x-python",
      "name": "python",
      "nbconvert_exporter": "python",
      "pygments_lexer": "ipython3",
      "version": "3.7.4"
    },
    "colab": {
      "name": "UmarRazzaq_21020572_Assignment2_Q1",
      "provenance": [],
      "toc_visible": true
    }
  },
  "cells": [
    {
      "cell_type": "markdown",
      "metadata": {
        "id": "X58DqYBDRnf9"
      },
      "source": [
        "# Question 1 [25 Marks]\n",
        "\n",
        "1. In this part, you are required to implement and evaluate the Apriori-based algorithm for frequent itemsets mining. **You are not allowed to use any libarary.** You are free to consult any online resources but be careful while implementing the solution. \n",
        "\n",
        "2. The program should be executable with 3 parameters: the name of the input dataset file, the threshold of minimum support count, and the name of the output file.  The minimum support count should be an integer.  An itemset is frequent if its support count is larger or equal to this threshold. \n",
        "\n",
        "3. There are 5 bonus points for storing the identified frequent itemsets in Excel file. \n",
        "\n",
        "4. The program should output a file that contains all the frequent itemsets together with their support.  The output file (sample output) should have the following format: each line contains a single frequent itemset as a list of items separated by whitespace.  At the end of the line, its support is printed between a pair of parenthesis.  For example: 1 2 3 (5) represents an itemset containing items 1, 2 and 3 with a support count of 5.\n"
      ]
    },
    {
      "cell_type": "code",
      "metadata": {
        "id": "Jjf3AMcSRngA"
      },
      "source": [
        "import pandas as pd\n",
        "import numpy as np\n",
        "import csv"
      ],
      "execution_count": 74,
      "outputs": []
    },
    {
      "cell_type": "code",
      "metadata": {
        "colab": {
          "base_uri": "https://localhost:8080/",
          "height": 473
        },
        "id": "673XXy_HRngD",
        "outputId": "a8402866-c1e6-4748-e6fe-a0e519dedbd4"
      },
      "source": [
        "#file reading from dataset.csv\n",
        "#you are free to use any data loader i-e you can use pandas, np or any method you want.\n",
        "dataSet = pd.read_csv('dataset.csv', sep='delimiter', header=None)\n",
        "dataSet"
      ],
      "execution_count": 92,
      "outputs": [
        {
          "output_type": "stream",
          "text": [
            "/usr/local/lib/python3.7/dist-packages/ipykernel_launcher.py:3: ParserWarning: Falling back to the 'python' engine because the 'c' engine does not support regex separators (separators > 1 char and different from '\\s+' are interpreted as regex); you can avoid this warning by specifying engine='python'.\n",
            "  This is separate from the ipykernel package so we can avoid doing imports until\n"
          ],
          "name": "stderr"
        },
        {
          "output_type": "execute_result",
          "data": {
            "text/html": [
              "<div>\n",
              "<style scoped>\n",
              "    .dataframe tbody tr th:only-of-type {\n",
              "        vertical-align: middle;\n",
              "    }\n",
              "\n",
              "    .dataframe tbody tr th {\n",
              "        vertical-align: top;\n",
              "    }\n",
              "\n",
              "    .dataframe thead th {\n",
              "        text-align: right;\n",
              "    }\n",
              "</style>\n",
              "<table border=\"1\" class=\"dataframe\">\n",
              "  <thead>\n",
              "    <tr style=\"text-align: right;\">\n",
              "      <th></th>\n",
              "      <th>0</th>\n",
              "    </tr>\n",
              "  </thead>\n",
              "  <tbody>\n",
              "    <tr>\n",
              "      <th>0</th>\n",
              "      <td>39,120,124,205,401,581,704,814,825,834</td>\n",
              "    </tr>\n",
              "    <tr>\n",
              "      <th>1</th>\n",
              "      <td>35,249,674,712,733,759,854,950</td>\n",
              "    </tr>\n",
              "    <tr>\n",
              "      <th>2</th>\n",
              "      <td>39,422,449,704,825,857,895,937,954,964</td>\n",
              "    </tr>\n",
              "    <tr>\n",
              "      <th>3</th>\n",
              "      <td>15,229,262,283,294,352,381,708,738,766,853,883...</td>\n",
              "    </tr>\n",
              "    <tr>\n",
              "      <th>4</th>\n",
              "      <td>26,104,143,320,569,620,798</td>\n",
              "    </tr>\n",
              "    <tr>\n",
              "      <th>...</th>\n",
              "      <td>...</td>\n",
              "    </tr>\n",
              "    <tr>\n",
              "      <th>16016</th>\n",
              "      <td>12,196,347,350,758,766,782,789,804,820,823,829...</td>\n",
              "    </tr>\n",
              "    <tr>\n",
              "      <th>16017</th>\n",
              "      <td>69,126,130,279,361,362,878,914</td>\n",
              "    </tr>\n",
              "    <tr>\n",
              "      <th>16018</th>\n",
              "      <td>6,27,31,32,440,450,472,494,517,647,818,883,893...</td>\n",
              "    </tr>\n",
              "    <tr>\n",
              "      <th>16019</th>\n",
              "      <td>290,422,440,449,450,574,752,895,919,937</td>\n",
              "    </tr>\n",
              "    <tr>\n",
              "      <th>16020</th>\n",
              "      <td>296,368,579,581,829,966</td>\n",
              "    </tr>\n",
              "  </tbody>\n",
              "</table>\n",
              "<p>16021 rows × 1 columns</p>\n",
              "</div>"
            ],
            "text/plain": [
              "                                                       0\n",
              "0                 39,120,124,205,401,581,704,814,825,834\n",
              "1                         35,249,674,712,733,759,854,950\n",
              "2                 39,422,449,704,825,857,895,937,954,964\n",
              "3      15,229,262,283,294,352,381,708,738,766,853,883...\n",
              "4                             26,104,143,320,569,620,798\n",
              "...                                                  ...\n",
              "16016  12,196,347,350,758,766,782,789,804,820,823,829...\n",
              "16017                     69,126,130,279,361,362,878,914\n",
              "16018  6,27,31,32,440,450,472,494,517,647,818,883,893...\n",
              "16019            290,422,440,449,450,574,752,895,919,937\n",
              "16020                            296,368,579,581,829,966\n",
              "\n",
              "[16021 rows x 1 columns]"
            ]
          },
          "metadata": {
            "tags": []
          },
          "execution_count": 92
        }
      ]
    },
    {
      "cell_type": "code",
      "metadata": {
        "id": "S5DWzcxQv0gP"
      },
      "source": [
        "dataSet_l= [i[0].split(\",\") for i in dataSet.values]"
      ],
      "execution_count": 93,
      "outputs": []
    },
    {
      "cell_type": "markdown",
      "metadata": {
        "id": "Tmml_It6RngD"
      },
      "source": [
        "### Identify unique items [5 Marks]\n",
        "From the list of transactions, identify and list all unique items in the dataset.\n"
      ]
    },
    {
      "cell_type": "code",
      "metadata": {
        "id": "Ai0Yqg63wk5O"
      },
      "source": [
        "unique_l=[]\r\n",
        "for lis in dataSet_l:\r\n",
        "    for x in lis:\r\n",
        "        if x not in unique_l:\r\n",
        "            unique_l.append(x)"
      ],
      "execution_count": 94,
      "outputs": []
    },
    {
      "cell_type": "code",
      "metadata": {
        "colab": {
          "base_uri": "https://localhost:8080/"
        },
        "id": "cA0DOV7VrzSO",
        "outputId": "be1ef798-06fb-4fc7-cc7c-68fb20ff9099"
      },
      "source": [
        "print('Total unique values',len(unique_l))"
      ],
      "execution_count": 95,
      "outputs": [
        {
          "output_type": "stream",
          "text": [
            "Total unique values 869\n"
          ],
          "name": "stdout"
        }
      ]
    },
    {
      "cell_type": "code",
      "metadata": {
        "colab": {
          "base_uri": "https://localhost:8080/"
        },
        "id": "ktUzozH5xy5c",
        "outputId": "0049220e-6d17-4c96-8226-756b03e8a956"
      },
      "source": [
        "for x in unique_l:\r\n",
        "  print(x,end=',')"
      ],
      "execution_count": 111,
      "outputs": [
        {
          "output_type": "stream",
          "text": [
            "0,1,2,3,4,5,6,7,8,10,11,12,13,14,15,16,17,18,19,20,21,22,23,24,25,26,27,28,29,31,32,33,34,35,36,37,38,39,40,41,42,43,44,45,46,47,48,49,51,52,53,54,55,56,57,58,59,62,64,66,67,68,69,70,71,72,73,74,75,78,80,81,82,83,85,86,88,89,90,91,93,94,95,96,97,98,100,101,102,103,104,105,108,110,111,112,113,114,115,116,117,118,120,121,122,123,124,125,126,127,128,129,130,131,132,135,136,137,138,139,140,141,142,143,144,145,146,147,150,151,152,153,154,155,156,157,158,159,160,161,162,163,164,165,166,167,168,169,170,171,172,173,174,175,176,177,178,179,180,181,182,183,185,186,187,188,189,190,191,192,193,194,196,197,198,199,201,202,203,204,205,206,207,208,209,210,212,213,214,215,216,217,218,220,222,224,225,226,227,228,229,230,231,234,236,237,239,240,241,242,244,245,246,247,248,249,252,254,255,256,257,258,259,261,262,263,264,265,266,267,268,269,270,272,273,274,275,276,277,278,279,280,281,282,283,285,286,287,289,290,292,293,294,295,296,297,298,299,300,301,303,304,305,306,307,308,309,310,311,313,314,315,316,317,318,319,320,321,322,324,325,326,327,328,329,330,331,332,333,334,335,336,338,339,342,343,345,346,347,348,349,350,351,352,354,355,356,357,358,360,361,362,363,364,366,367,368,369,370,371,372,373,374,375,376,377,378,379,381,382,383,384,385,387,388,390,391,392,394,395,396,397,398,399,400,401,402,403,405,406,407,408,409,411,412,413,414,415,417,418,419,421,422,423,424,426,427,428,429,430,431,432,435,436,437,438,439,440,441,442,443,444,447,448,449,450,451,452,453,454,455,456,458,459,460,461,462,464,465,466,467,468,469,470,471,472,473,474,475,476,477,478,479,480,481,482,483,484,485,486,487,489,490,491,492,493,494,495,496,498,499,500,501,502,503,504,505,507,508,509,510,511,512,513,514,515,516,517,518,520,521,522,523,524,525,526,527,528,529,530,531,532,533,534,535,536,537,538,539,540,541,544,545,546,548,550,551,552,553,554,556,557,558,560,561,562,563,564,565,567,568,569,571,572,573,574,575,576,577,578,579,580,581,582,583,585,588,589,590,591,592,593,594,595,596,597,598,600,601,602,603,604,605,606,608,609,610,611,612,613,614,616,617,618,619,620,622,623,624,626,627,628,629,630,631,632,633,634,635,637,638,639,640,641,642,643,644,645,647,648,649,650,651,652,653,655,656,657,658,659,660,661,662,663,665,666,670,671,672,673,674,675,676,677,678,679,680,681,682,683,684,685,686,687,688,689,690,691,692,693,694,695,696,697,698,699,701,702,703,704,705,706,707,708,709,710,711,712,713,714,715,716,718,719,720,721,722,723,724,725,726,729,730,731,732,733,734,735,736,738,739,740,741,742,743,744,745,746,749,750,751,752,753,755,757,758,759,760,762,763,764,765,766,767,768,769,771,773,774,775,776,777,778,779,780,781,782,783,784,785,787,788,789,790,792,793,794,795,797,798,799,800,801,802,803,804,805,806,807,809,810,811,812,813,814,815,817,818,819,820,821,822,823,824,825,826,827,828,829,830,831,832,833,834,835,837,838,839,840,841,842,843,844,845,846,847,849,850,851,852,853,854,855,856,857,858,859,860,862,864,865,866,867,868,869,870,871,872,874,876,877,878,879,880,881,882,883,884,885,886,887,888,889,890,891,892,893,894,895,896,897,898,899,900,901,902,903,904,905,906,909,910,911,912,913,914,915,916,917,918,919,920,921,922,923,925,926,927,928,930,931,932,933,934,935,936,937,938,939,940,941,942,943,944,945,946,947,948,949,950,951,952,953,954,956,958,959,960,961,963,964,965,966,967,969,970,972,973,975,977,978,979,980,981,982,983,984,985,986,988,989,990,991,992,994,995,997,998,999,"
          ],
          "name": "stdout"
        }
      ]
    },
    {
      "cell_type": "code",
      "metadata": {
        "id": "Z0HfcC0nz2_r"
      },
      "source": [
        "unique_l=sorted(unique_l, key=int)"
      ],
      "execution_count": 97,
      "outputs": []
    },
    {
      "cell_type": "markdown",
      "metadata": {
        "id": "RGce4P_rRngD"
      },
      "source": [
        "## Implementation [20 Marks]\n",
        "\n",
        "Test your implementation on the dataset dataset.csv and measure number of frequent itemsets with various minimum support values.  The test dataset is a synthetic dataset that contains approx 16,000 transactions."
      ]
    },
    {
      "cell_type": "code",
      "metadata": {
        "id": "Ercr4gyvRngE"
      },
      "source": [
        "def createC1(dataSet, C):\n",
        "    '''\n",
        "    Add your code here. Function would receive data set and return C1 set.\n",
        "    '''\n",
        "    for i in range(len(unique_l)):\n",
        "        unique_l[i] = str(unique_l[i])\n",
        "    C.update({1:[[x] for x in unique_l]})\n",
        "    return C"
      ],
      "execution_count": 99,
      "outputs": []
    },
    {
      "cell_type": "code",
      "metadata": {
        "id": "sUWYviUxRngE"
      },
      "source": [
        "#Looking for k-frequent itemsets\n",
        "def selectLk(dataSet,Ck,minSupport, already_removed): #dataSet raw data set\n",
        "    '''\n",
        "    Add your code here. Function would receive data set, Ck and minimum support. Funtion will return pruined items from Ck.\n",
        "    '''\n",
        "    length = len(already_removed.keys())\n",
        "    L = []\n",
        "    sup = []\n",
        "    toberemoved = []\n",
        "    numDataSet = len(dataSet)\n",
        "    for i in range(len(Ck)):\n",
        "        hdb = True\n",
        "        if length > 0:\n",
        "            for item in already_removed[length]:\n",
        "                if set(item).issubset(set(Ck[i])):\n",
        "                    hdb = False\n",
        "                    break\n",
        "        if hdb:\n",
        "            count=0\n",
        "            for j in range(len(dataSet)):\n",
        "                if set(Ck[i]).issubset(set(dataSet[j])):\n",
        "                    count+=1\n",
        "            if (count/len(dataSet)) >= minSupport:\n",
        "                L.append(Ck[i])\n",
        "                sup.append(count)\n",
        "            else:\n",
        "                toberemoved.append(Ck[i])\n",
        "    return L, sup, toberemoved"
      ],
      "execution_count": 100,
      "outputs": []
    },
    {
      "cell_type": "code",
      "metadata": {
        "id": "MrXtGWWKRngE"
      },
      "source": [
        "def createCk(Lk): # Lk: Frequent itemsets containing k items\n",
        "    '''\n",
        "    Add your code here. Function would receive Lk frequent items set and it's count. Function should return Ck.\n",
        "    '''\n",
        "    C=[]\n",
        "    for i in range(len(Lk)):\n",
        "        for j in range(i+1, len(Lk)):\n",
        "            item=[]\n",
        "            Lk[i].sort(key=lambda x: unique_l.index(x))\n",
        "            Lk[j].sort(key=lambda x: unique_l.index(x))\n",
        "            for z in range(len(Lk[i])-1):\n",
        "              if Lk[i][z]!=Lk[j][z]:\n",
        "                break\n",
        "            if unique_l.index(Lk[i][-1])<unique_l.index(Lk[j][-1]):\n",
        "              item = Lk[i]+[Lk[j][-1]]\n",
        "            if len(item)>0:\n",
        "                C.append(item)\n",
        "    return C"
      ],
      "execution_count": 101,
      "outputs": []
    },
    {
      "cell_type": "code",
      "metadata": {
        "id": "828cP2ISRngF"
      },
      "source": [
        "#Apriori algorithm\n",
        "def apriori(dataSet,minSupport):\n",
        "    comb=1\n",
        "    removed={comb:[]}\n",
        "    #create C1\n",
        "    C={}\n",
        "    C=createC1(dataSet, C)\n",
        "    #select L1\n",
        "    L={}\n",
        "    supc = {}\n",
        "    l,sup, remove=selectLk(dataSet,C[comb], minSupport, removed)\n",
        "    L.update({comb: l})\n",
        "    removed.update({comb: remove})\n",
        "    supc.update({comb: sup})\n",
        "    #Iterative create and select Ck & Lk iteratively.\n",
        "    comb += 1\n",
        "    convergence = False\n",
        "    while convergence == False:\n",
        "        C.update({comb: createCk(L[comb-1])})\n",
        "        l,sup, remove=selectLk(dataSet,C[comb], minSupport, removed)\n",
        "        L.update({comb: l})\n",
        "        removed.update({comb: remove})\n",
        "        supc.update({comb: sup})\n",
        "        if len(L[comb])==0:\n",
        "            convergence=True\n",
        "        comb += 1\n",
        "    return L, supc"
      ],
      "execution_count": 102,
      "outputs": []
    },
    {
      "cell_type": "code",
      "metadata": {
        "id": "iic05mBsRngF",
        "colab": {
          "base_uri": "https://localhost:8080/"
        },
        "outputId": "965a3e3b-1e90-4057-d887-515290a17a5e"
      },
      "source": [
        "# Do not change this cell\n",
        "L = apriori(dataSet_l ,0.02)\n",
        "for x in L:\n",
        "  print(x)"
      ],
      "execution_count": 112,
      "outputs": [
        {
          "output_type": "stream",
          "text": [
            "{1: [['6'], ['8'], ['12'], ['21'], ['27'], ['32'], ['38'], ['39'], ['48'], ['52'], ['54'], ['55'], ['57'], ['69'], ['70'], ['71'], ['72'], ['73'], ['75'], ['78'], ['93'], ['112'], ['116'], ['120'], ['132'], ['140'], ['145'], ['151'], ['161'], ['175'], ['177'], ['183'], ['196'], ['204'], ['205'], ['214'], ['217'], ['229'], ['236'], ['239'], ['242'], ['274'], ['276'], ['279'], ['280'], ['283'], ['285'], ['296'], ['334'], ['346'], ['349'], ['350'], ['354'], ['362'], ['368'], ['381'], ['387'], ['390'], ['392'], ['401'], ['411'], ['413'], ['419'], ['438'], ['449'], ['450'], ['460'], ['470'], ['471'], ['472'], ['477'], ['480'], ['487'], ['489'], ['494'], ['509'], ['510'], ['522'], ['523'], ['526'], ['529'], ['538'], ['541'], ['548'], ['561'], ['569'], ['571'], ['579'], ['581'], ['593'], ['597'], ['598'], ['606'], ['614'], ['617'], ['620'], ['631'], ['634'], ['638'], ['653'], ['661'], ['663'], ['674'], ['675'], ['676'], ['682'], ['684'], ['692'], ['694'], ['720'], ['722'], ['744'], ['746'], ['752'], ['758'], ['766'], ['775'], ['778'], ['780'], ['782'], ['788'], ['789'], ['793'], ['795'], ['797'], ['798'], ['803'], ['809'], ['825'], ['826'], ['829'], ['832'], ['844'], ['854'], ['862'], ['871'], ['874'], ['883'], ['885'], ['886'], ['888'], ['893'], ['895'], ['897'], ['914'], ['918'], ['919'], ['921'], ['937'], ['944'], ['947'], ['956'], ['960'], ['966'], ['998']], 2: []}\n",
            "{1: [323, 454, 560, 401, 366, 668, 378, 690, 418, 335, 448, 330, 433, 372, 383, 585, 454, 348, 479, 420, 415, 437, 343, 772, 442, 409, 784, 415, 370, 445, 731, 647, 322, 367, 593, 328, 906, 349, 459, 411, 368, 419, 427, 478, 333, 692, 410, 378, 328, 567, 329, 468, 974, 672, 1289, 474, 335, 409, 378, 594, 327, 403, 792, 717, 334, 328, 732, 627, 449, 352, 417, 387, 492, 543, 785, 513, 544, 434, 376, 447, 1144, 643, 592, 457, 441, 436, 466, 364, 484, 403, 436, 517, 378, 457, 407, 378, 417, 394, 341, 414, 433, 359, 385, 474, 468, 718, 885, 816, 452, 625, 930, 338, 328, 454, 483, 945, 618, 425, 370, 450, 415, 692, 472, 543, 430, 455, 378, 325, 502, 334, 1048, 335, 456, 455, 576, 454, 382, 763, 505, 477, 576, 327, 568, 323, 631, 488, 598, 403, 744, 443, 608, 590, 400, 612, 482], 2: []}\n"
          ],
          "name": "stdout"
        }
      ]
    },
    {
      "cell_type": "code",
      "metadata": {
        "id": "RT8CTz0DRngF",
        "colab": {
          "base_uri": "https://localhost:8080/"
        },
        "outputId": "39fd26bc-0475-4053-b553-d59ddef23c97"
      },
      "source": [
        "# Change the support count and report the effect of changing the minimum support count. Briefly explain the reason behind the change in resulting items.  \n",
        "L = apriori(dataSet_l , 0.03)\n",
        "for x in L:\n",
        "  print(x)"
      ],
      "execution_count": 113,
      "outputs": [
        {
          "output_type": "stream",
          "text": [
            "{1: [['12'], ['32'], ['39'], ['71'], ['120'], ['145'], ['177'], ['183'], ['205'], ['217'], ['283'], ['346'], ['354'], ['362'], ['368'], ['401'], ['419'], ['438'], ['460'], ['470'], ['487'], ['489'], ['494'], ['509'], ['510'], ['529'], ['538'], ['541'], ['581'], ['598'], ['682'], ['684'], ['692'], ['720'], ['722'], ['758'], ['766'], ['775'], ['789'], ['795'], ['825'], ['829'], ['862'], ['883'], ['885'], ['888'], ['895'], ['914'], ['918'], ['919'], ['937'], ['947'], ['956'], ['966'], ['998']], 2: []}\n",
            "{1: [560, 668, 690, 585, 772, 784, 731, 647, 593, 906, 692, 567, 974, 672, 1289, 594, 792, 717, 732, 627, 492, 543, 785, 513, 544, 1144, 643, 592, 484, 517, 718, 885, 816, 625, 930, 483, 945, 618, 692, 543, 502, 1048, 576, 763, 505, 576, 568, 631, 488, 598, 744, 608, 590, 612, 482], 2: []}\n"
          ],
          "name": "stdout"
        }
      ]
    },
    {
      "cell_type": "code",
      "metadata": {
        "id": "xl9Buka2q6Rj",
        "colab": {
          "base_uri": "https://localhost:8080/"
        },
        "outputId": "88b5a392-a073-4e2b-d1a3-62582e07e3e5"
      },
      "source": [
        "L = apriori(dataSet_l , 0.04)\r\n",
        "for x in L:\r\n",
        "  print(x)"
      ],
      "execution_count": 114,
      "outputs": [
        {
          "output_type": "stream",
          "text": [
            "{1: [['32'], ['39'], ['120'], ['145'], ['177'], ['183'], ['217'], ['283'], ['354'], ['362'], ['368'], ['419'], ['438'], ['460'], ['494'], ['529'], ['538'], ['682'], ['684'], ['692'], ['722'], ['766'], ['789'], ['829'], ['883'], ['937']], 2: []}\n",
            "{1: [668, 690, 772, 784, 731, 647, 906, 692, 974, 672, 1289, 792, 717, 732, 785, 1144, 643, 718, 885, 816, 930, 945, 692, 1048, 763, 744], 2: []}\n"
          ],
          "name": "stdout"
        }
      ]
    },
    {
      "cell_type": "code",
      "metadata": {
        "id": "bapAgC8Oq-sA",
        "colab": {
          "base_uri": "https://localhost:8080/"
        },
        "outputId": "72b64b81-d7ce-484b-a0d6-54bee452ceb8"
      },
      "source": [
        "%%shell\r\n",
        "jupyter nbconvert --to html '/content/dm_spring_2021_assignment2_q1.ipynb'"
      ],
      "execution_count": 106,
      "outputs": [
        {
          "output_type": "stream",
          "text": [
            "[NbConvertApp] Converting notebook /content/dm_spring_2021_assignment2_q1.ipynb to html\n",
            "[NbConvertApp] Writing 321893 bytes to /content/dm_spring_2021_assignment2_q1.html\n"
          ],
          "name": "stdout"
        },
        {
          "output_type": "execute_result",
          "data": {
            "text/plain": [
              ""
            ]
          },
          "metadata": {
            "tags": []
          },
          "execution_count": 106
        }
      ]
    },
    {
      "cell_type": "code",
      "metadata": {
        "id": "HbNYg6jyvtMh"
      },
      "source": [
        ""
      ],
      "execution_count": null,
      "outputs": []
    }
  ]
}